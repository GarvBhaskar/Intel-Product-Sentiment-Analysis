{
 "cells": [
  {
   "cell_type": "markdown",
   "metadata": {},
   "source": [
    "# Sentiment Analysis on Amazon Product Reviews of Uplocked Mobile Phones"
   ]
  },
  {
   "cell_type": "markdown",
   "metadata": {},
   "source": [
    "* #### [Part 1. Data Exploration](#part1) \n",
    "* #### [Part 2. Data Preparation](#part2) \n",
    "* #### [Part 3. Bag of Words](#part3)\n",
    "* #### [Part 4. Word2Vec](#part4)\n",
    "* #### [Part 5. LSTM](#part5)\n",
    "* #### [Part 6. Word Cloud](#part6)"
   ]
  },
  {
   "cell_type": "markdown",
   "metadata": {},
   "source": [
    "---\n",
    "<a id=\"part1\"></a>\n",
    "## Part 1. Data Exploration"
   ]
  },
  {
   "cell_type": "code",
   "execution_count": 1,
   "metadata": {
    "collapsed": false,
    "jupyter": {
     "outputs_hidden": false
    }
   },
   "outputs": [
    {
     "name": "stderr",
     "output_type": "stream",
     "text": [
      "C:\\Users\\garvb\\AppData\\Local\\Temp\\ipykernel_26108\\788838899.py:1: DeprecationWarning: \n",
      "Pyarrow will become a required dependency of pandas in the next major release of pandas (pandas 3.0),\n",
      "(to allow more performant data types, such as the Arrow string type, and better interoperability with other libraries)\n",
      "but was not found to be installed on your system.\n",
      "If this would cause problems for you,\n",
      "please provide us feedback at https://github.com/pandas-dev/pandas/issues/54466\n",
      "        \n",
      "  import pandas as pd\n"
     ]
    }
   ],
   "source": [
    "import pandas as pd\n",
    "import numpy as np\n",
    "\n",
    "import matplotlib.pyplot as plt\n",
    "import seaborn as sns\n",
    "%matplotlib inline\n",
    "from wordcloud import WordCloud\n",
    "\n",
    "from sklearn.model_selection import train_test_split, GridSearchCV\n",
    "from sklearn.feature_extraction.text import CountVectorizer, TfidfVectorizer\n",
    "from sklearn.naive_bayes import BernoulliNB, MultinomialNB\n",
    "from sklearn.linear_model import LogisticRegression\n",
    "from sklearn.ensemble import RandomForestClassifier\n",
    "from sklearn import metrics\n",
    "from sklearn.metrics import roc_auc_score, accuracy_score\n",
    "from sklearn.pipeline import Pipeline\n",
    "\n",
    "from bs4 import BeautifulSoup  \n",
    "import re\n",
    "import nltk\n",
    "from nltk.corpus import stopwords \n",
    "from nltk.stem.porter import PorterStemmer\n",
    "from nltk.stem import SnowballStemmer, WordNetLemmatizer\n",
    "from nltk import sent_tokenize, word_tokenize, pos_tag\n",
    "from nltk.tokenize import PunktSentenceTokenizer  \n",
    "\n",
    "import logging\n",
    "\n",
    "\n",
    "from tensorflow.keras.preprocessing import sequence\n",
    "from tensorflow.keras.models import Sequential\n",
    "from tensorflow.keras.layers import Dense, Dropout, Activation, Lambda, Embedding, LSTM, SimpleRNN, GRU\n",
    "from tensorflow.keras.preprocessing.text import Tokenizer\n",
    "from collections import defaultdict\n",
    "from tensorflow.keras.layers import Conv1D  # Use Conv1D instead of Convolution1D\n",
    "from tensorflow.keras import backend as K\n",
    "from keras.utils import to_categorical\n",
    "\n"
   ]
  },
  {
   "cell_type": "markdown",
   "metadata": {},
   "source": [
    "### Load Data"
   ]
  },
  {
   "cell_type": "code",
   "execution_count": 2,
   "metadata": {
    "collapsed": false,
    "jupyter": {
     "outputs_hidden": false
    }
   },
   "outputs": [
    {
     "data": {
      "text/html": [
       "<div>\n",
       "<style scoped>\n",
       "    .dataframe tbody tr th:only-of-type {\n",
       "        vertical-align: middle;\n",
       "    }\n",
       "\n",
       "    .dataframe tbody tr th {\n",
       "        vertical-align: top;\n",
       "    }\n",
       "\n",
       "    .dataframe thead th {\n",
       "        text-align: right;\n",
       "    }\n",
       "</style>\n",
       "<table border=\"1\" class=\"dataframe\">\n",
       "  <thead>\n",
       "    <tr style=\"text-align: right;\">\n",
       "      <th></th>\n",
       "      <th>Intel Core i9 (12th Gen) i9-12900F Hexadeca-core (16 Core) 2.40 GHz Processor - Retail Pack</th>\n",
       "      <th>Unnamed: 1</th>\n",
       "      <th>5.0</th>\n",
       "      <th>Reviewed in the United States on 17 September 2023</th>\n",
       "      <th>Omar Mendoza</th>\n",
       "      <th>Fast.</th>\n",
       "    </tr>\n",
       "  </thead>\n",
       "  <tbody>\n",
       "    <tr>\n",
       "      <th>0</th>\n",
       "      <td>Intel Core i9 (12th Gen) i9-12900F Hexadeca-co...</td>\n",
       "      <td>NaN</td>\n",
       "      <td>5.0</td>\n",
       "      <td>Reviewed in the United States on 27 September ...</td>\n",
       "      <td>F. Machado</td>\n",
       "      <td>Fast CPU and since I did not need the graphics...</td>\n",
       "    </tr>\n",
       "    <tr>\n",
       "      <th>1</th>\n",
       "      <td>Intel Core i9 (12th Gen) i9-12900F Hexadeca-co...</td>\n",
       "      <td>NaN</td>\n",
       "      <td>5.0</td>\n",
       "      <td>Reviewed in the United States on 17 September ...</td>\n",
       "      <td>Omar Mendoza</td>\n",
       "      <td>Fast.</td>\n",
       "    </tr>\n",
       "    <tr>\n",
       "      <th>2</th>\n",
       "      <td>Intel Core i9 (12th Gen) i9-12900F Hexadeca-co...</td>\n",
       "      <td>NaN</td>\n",
       "      <td>5.0</td>\n",
       "      <td>Reviewed in the United States on 27 September ...</td>\n",
       "      <td>F. Machado</td>\n",
       "      <td>Fast CPU and since I did not need the graphics...</td>\n",
       "    </tr>\n",
       "    <tr>\n",
       "      <th>3</th>\n",
       "      <td>Intel Core i7-13700K Desktop Processor 16 core...</td>\n",
       "      <td>NaN</td>\n",
       "      <td>5.0</td>\n",
       "      <td>Reviewed in India on 3 September 2023</td>\n",
       "      <td>This processor is absolutely incredible with n...</td>\n",
       "      <td>This processor is absolutely incredible with n...</td>\n",
       "    </tr>\n",
       "    <tr>\n",
       "      <th>4</th>\n",
       "      <td>Intel Core i7-13700K Desktop Processor 16 core...</td>\n",
       "      <td>NaN</td>\n",
       "      <td>5.0</td>\n",
       "      <td>Reviewed in India on 28 March 2023</td>\n",
       "      <td>yogesh Kumar</td>\n",
       "      <td>Most powerful cpu at this price bracket no dou...</td>\n",
       "    </tr>\n",
       "  </tbody>\n",
       "</table>\n",
       "</div>"
      ],
      "text/plain": [
       "  Intel Core i9 (12th Gen) i9-12900F Hexadeca-core (16 Core) 2.40 GHz Processor - Retail Pack  \\\n",
       "0  Intel Core i9 (12th Gen) i9-12900F Hexadeca-co...                                            \n",
       "1  Intel Core i9 (12th Gen) i9-12900F Hexadeca-co...                                            \n",
       "2  Intel Core i9 (12th Gen) i9-12900F Hexadeca-co...                                            \n",
       "3  Intel Core i7-13700K Desktop Processor 16 core...                                            \n",
       "4  Intel Core i7-13700K Desktop Processor 16 core...                                            \n",
       "\n",
       "   Unnamed: 1  5.0 Reviewed in the United States on 17 September 2023  \\\n",
       "0         NaN  5.0  Reviewed in the United States on 27 September ...   \n",
       "1         NaN  5.0  Reviewed in the United States on 17 September ...   \n",
       "2         NaN  5.0  Reviewed in the United States on 27 September ...   \n",
       "3         NaN  5.0              Reviewed in India on 3 September 2023   \n",
       "4         NaN  5.0                 Reviewed in India on 28 March 2023   \n",
       "\n",
       "                                        Omar Mendoza  \\\n",
       "0                                         F. Machado   \n",
       "1                                       Omar Mendoza   \n",
       "2                                         F. Machado   \n",
       "3  This processor is absolutely incredible with n...   \n",
       "4                                       yogesh Kumar   \n",
       "\n",
       "                                               Fast.  \n",
       "0  Fast CPU and since I did not need the graphics...  \n",
       "1                                              Fast.  \n",
       "2  Fast CPU and since I did not need the graphics...  \n",
       "3  This processor is absolutely incredible with n...  \n",
       "4  Most powerful cpu at this price bracket no dou...  "
      ]
     },
     "execution_count": 2,
     "metadata": {},
     "output_type": "execute_result"
    }
   ],
   "source": [
    "# Load csv file\n",
    "df = pd.read_csv('./amazon/data.csv')\n",
    "df.head()"
   ]
  },
  {
   "cell_type": "code",
   "execution_count": 3,
   "metadata": {},
   "outputs": [
    {
     "data": {
      "text/html": [
       "<div>\n",
       "<style scoped>\n",
       "    .dataframe tbody tr th:only-of-type {\n",
       "        vertical-align: middle;\n",
       "    }\n",
       "\n",
       "    .dataframe tbody tr th {\n",
       "        vertical-align: top;\n",
       "    }\n",
       "\n",
       "    .dataframe thead th {\n",
       "        text-align: right;\n",
       "    }\n",
       "</style>\n",
       "<table border=\"1\" class=\"dataframe\">\n",
       "  <thead>\n",
       "    <tr style=\"text-align: right;\">\n",
       "      <th></th>\n",
       "      <th>Intel Core i9 (12th Gen) i9-12900F Hexadeca-core (16 Core) 2.40 GHz Processor - Retail Pack</th>\n",
       "      <th>5.0</th>\n",
       "      <th>Reviewed in the United States on 17 September 2023</th>\n",
       "      <th>Omar Mendoza</th>\n",
       "      <th>Fast.</th>\n",
       "    </tr>\n",
       "  </thead>\n",
       "  <tbody>\n",
       "    <tr>\n",
       "      <th>0</th>\n",
       "      <td>Intel Core i9 (12th Gen) i9-12900F Hexadeca-co...</td>\n",
       "      <td>5.0</td>\n",
       "      <td>Reviewed in the United States on 27 September ...</td>\n",
       "      <td>F. Machado</td>\n",
       "      <td>Fast CPU and since I did not need the graphics...</td>\n",
       "    </tr>\n",
       "    <tr>\n",
       "      <th>1</th>\n",
       "      <td>Intel Core i9 (12th Gen) i9-12900F Hexadeca-co...</td>\n",
       "      <td>5.0</td>\n",
       "      <td>Reviewed in the United States on 17 September ...</td>\n",
       "      <td>Omar Mendoza</td>\n",
       "      <td>Fast.</td>\n",
       "    </tr>\n",
       "    <tr>\n",
       "      <th>2</th>\n",
       "      <td>Intel Core i9 (12th Gen) i9-12900F Hexadeca-co...</td>\n",
       "      <td>5.0</td>\n",
       "      <td>Reviewed in the United States on 27 September ...</td>\n",
       "      <td>F. Machado</td>\n",
       "      <td>Fast CPU and since I did not need the graphics...</td>\n",
       "    </tr>\n",
       "    <tr>\n",
       "      <th>3</th>\n",
       "      <td>Intel Core i7-13700K Desktop Processor 16 core...</td>\n",
       "      <td>5.0</td>\n",
       "      <td>Reviewed in India on 3 September 2023</td>\n",
       "      <td>This processor is absolutely incredible with n...</td>\n",
       "      <td>This processor is absolutely incredible with n...</td>\n",
       "    </tr>\n",
       "    <tr>\n",
       "      <th>4</th>\n",
       "      <td>Intel Core i7-13700K Desktop Processor 16 core...</td>\n",
       "      <td>5.0</td>\n",
       "      <td>Reviewed in India on 28 March 2023</td>\n",
       "      <td>yogesh Kumar</td>\n",
       "      <td>Most powerful cpu at this price bracket no dou...</td>\n",
       "    </tr>\n",
       "  </tbody>\n",
       "</table>\n",
       "</div>"
      ],
      "text/plain": [
       "  Intel Core i9 (12th Gen) i9-12900F Hexadeca-core (16 Core) 2.40 GHz Processor - Retail Pack  \\\n",
       "0  Intel Core i9 (12th Gen) i9-12900F Hexadeca-co...                                            \n",
       "1  Intel Core i9 (12th Gen) i9-12900F Hexadeca-co...                                            \n",
       "2  Intel Core i9 (12th Gen) i9-12900F Hexadeca-co...                                            \n",
       "3  Intel Core i7-13700K Desktop Processor 16 core...                                            \n",
       "4  Intel Core i7-13700K Desktop Processor 16 core...                                            \n",
       "\n",
       "   5.0 Reviewed in the United States on 17 September 2023  \\\n",
       "0  5.0  Reviewed in the United States on 27 September ...   \n",
       "1  5.0  Reviewed in the United States on 17 September ...   \n",
       "2  5.0  Reviewed in the United States on 27 September ...   \n",
       "3  5.0              Reviewed in India on 3 September 2023   \n",
       "4  5.0                 Reviewed in India on 28 March 2023   \n",
       "\n",
       "                                        Omar Mendoza  \\\n",
       "0                                         F. Machado   \n",
       "1                                       Omar Mendoza   \n",
       "2                                         F. Machado   \n",
       "3  This processor is absolutely incredible with n...   \n",
       "4                                       yogesh Kumar   \n",
       "\n",
       "                                               Fast.  \n",
       "0  Fast CPU and since I did not need the graphics...  \n",
       "1                                              Fast.  \n",
       "2  Fast CPU and since I did not need the graphics...  \n",
       "3  This processor is absolutely incredible with n...  \n",
       "4  Most powerful cpu at this price bracket no dou...  "
      ]
     },
     "execution_count": 3,
     "metadata": {},
     "output_type": "execute_result"
    }
   ],
   "source": [
    "df = df.drop(columns=[\"Unnamed: 1\"])\n",
    "df.head()"
   ]
  },
  {
   "cell_type": "code",
   "execution_count": 4,
   "metadata": {},
   "outputs": [
    {
     "data": {
      "text/html": [
       "<div>\n",
       "<style scoped>\n",
       "    .dataframe tbody tr th:only-of-type {\n",
       "        vertical-align: middle;\n",
       "    }\n",
       "\n",
       "    .dataframe tbody tr th {\n",
       "        vertical-align: top;\n",
       "    }\n",
       "\n",
       "    .dataframe thead th {\n",
       "        text-align: right;\n",
       "    }\n",
       "</style>\n",
       "<table border=\"1\" class=\"dataframe\">\n",
       "  <thead>\n",
       "    <tr style=\"text-align: right;\">\n",
       "      <th></th>\n",
       "      <th>Product</th>\n",
       "      <th>Rating</th>\n",
       "      <th>Demographic</th>\n",
       "      <th>Reviewer</th>\n",
       "      <th>Comments</th>\n",
       "    </tr>\n",
       "  </thead>\n",
       "  <tbody>\n",
       "    <tr>\n",
       "      <th>0</th>\n",
       "      <td>Intel Core i9 (12th Gen) i9-12900F Hexadeca-co...</td>\n",
       "      <td>5.0</td>\n",
       "      <td>Reviewed in the United States on 27 September ...</td>\n",
       "      <td>F. Machado</td>\n",
       "      <td>Fast CPU and since I did not need the graphics...</td>\n",
       "    </tr>\n",
       "    <tr>\n",
       "      <th>1</th>\n",
       "      <td>Intel Core i9 (12th Gen) i9-12900F Hexadeca-co...</td>\n",
       "      <td>5.0</td>\n",
       "      <td>Reviewed in the United States on 17 September ...</td>\n",
       "      <td>Omar Mendoza</td>\n",
       "      <td>Fast.</td>\n",
       "    </tr>\n",
       "    <tr>\n",
       "      <th>2</th>\n",
       "      <td>Intel Core i9 (12th Gen) i9-12900F Hexadeca-co...</td>\n",
       "      <td>5.0</td>\n",
       "      <td>Reviewed in the United States on 27 September ...</td>\n",
       "      <td>F. Machado</td>\n",
       "      <td>Fast CPU and since I did not need the graphics...</td>\n",
       "    </tr>\n",
       "    <tr>\n",
       "      <th>3</th>\n",
       "      <td>Intel Core i7-13700K Desktop Processor 16 core...</td>\n",
       "      <td>5.0</td>\n",
       "      <td>Reviewed in India on 3 September 2023</td>\n",
       "      <td>This processor is absolutely incredible with n...</td>\n",
       "      <td>This processor is absolutely incredible with n...</td>\n",
       "    </tr>\n",
       "    <tr>\n",
       "      <th>4</th>\n",
       "      <td>Intel Core i7-13700K Desktop Processor 16 core...</td>\n",
       "      <td>5.0</td>\n",
       "      <td>Reviewed in India on 28 March 2023</td>\n",
       "      <td>yogesh Kumar</td>\n",
       "      <td>Most powerful cpu at this price bracket no dou...</td>\n",
       "    </tr>\n",
       "    <tr>\n",
       "      <th>...</th>\n",
       "      <td>...</td>\n",
       "      <td>...</td>\n",
       "      <td>...</td>\n",
       "      <td>...</td>\n",
       "      <td>...</td>\n",
       "    </tr>\n",
       "    <tr>\n",
       "      <th>110996</th>\n",
       "      <td>Intel Bx80673I97940X CPU Grey</td>\n",
       "      <td>1.0</td>\n",
       "      <td>Reviewed in India on 17 June 2020</td>\n",
       "      <td>Santhosh Philip</td>\n",
       "      <td>Not at all working fake one</td>\n",
       "    </tr>\n",
       "    <tr>\n",
       "      <th>110997</th>\n",
       "      <td>Intel Bx80673I97940X CPU Grey</td>\n",
       "      <td>5.0</td>\n",
       "      <td>Reviewed in Italy on 19 November 2018</td>\n",
       "      <td>Cliente Amazon</td>\n",
       "      <td>Un mostro di processore</td>\n",
       "    </tr>\n",
       "    <tr>\n",
       "      <th>110998</th>\n",
       "      <td>Intel Bx80673I97940X CPU Grey</td>\n",
       "      <td>5.0</td>\n",
       "      <td>Reviewed in Germany on 2 July 2018</td>\n",
       "      <td>Henning</td>\n",
       "      <td>Zum Schneiden und Bearbeiten bestens geeignet....</td>\n",
       "    </tr>\n",
       "    <tr>\n",
       "      <th>110999</th>\n",
       "      <td>Intel Bx80673I97940X CPU Grey</td>\n",
       "      <td>5.0</td>\n",
       "      <td>Reviewed in Spain on 20 May 2019</td>\n",
       "      <td>Latinmau</td>\n",
       "      <td>Puro poder de procesador. Honestamente para lo...</td>\n",
       "    </tr>\n",
       "    <tr>\n",
       "      <th>111000</th>\n",
       "      <td>Intel Bx80673I97940X CPU Grey</td>\n",
       "      <td>5.0</td>\n",
       "      <td>Reviewed in Germany on 8 May 2018</td>\n",
       "      <td>Mag Guenther Hofmann</td>\n",
       "      <td>Für Videoschnitt in Verbindung mit Wasserkühlu...</td>\n",
       "    </tr>\n",
       "  </tbody>\n",
       "</table>\n",
       "<p>111001 rows × 5 columns</p>\n",
       "</div>"
      ],
      "text/plain": [
       "                                                  Product  Rating  \\\n",
       "0       Intel Core i9 (12th Gen) i9-12900F Hexadeca-co...     5.0   \n",
       "1       Intel Core i9 (12th Gen) i9-12900F Hexadeca-co...     5.0   \n",
       "2       Intel Core i9 (12th Gen) i9-12900F Hexadeca-co...     5.0   \n",
       "3       Intel Core i7-13700K Desktop Processor 16 core...     5.0   \n",
       "4       Intel Core i7-13700K Desktop Processor 16 core...     5.0   \n",
       "...                                                   ...     ...   \n",
       "110996                      Intel Bx80673I97940X CPU Grey     1.0   \n",
       "110997                      Intel Bx80673I97940X CPU Grey     5.0   \n",
       "110998                      Intel Bx80673I97940X CPU Grey     5.0   \n",
       "110999                      Intel Bx80673I97940X CPU Grey     5.0   \n",
       "111000                      Intel Bx80673I97940X CPU Grey     5.0   \n",
       "\n",
       "                                              Demographic  \\\n",
       "0       Reviewed in the United States on 27 September ...   \n",
       "1       Reviewed in the United States on 17 September ...   \n",
       "2       Reviewed in the United States on 27 September ...   \n",
       "3                   Reviewed in India on 3 September 2023   \n",
       "4                      Reviewed in India on 28 March 2023   \n",
       "...                                                   ...   \n",
       "110996                  Reviewed in India on 17 June 2020   \n",
       "110997              Reviewed in Italy on 19 November 2018   \n",
       "110998                 Reviewed in Germany on 2 July 2018   \n",
       "110999                   Reviewed in Spain on 20 May 2019   \n",
       "111000                  Reviewed in Germany on 8 May 2018   \n",
       "\n",
       "                                                 Reviewer  \\\n",
       "0                                              F. Machado   \n",
       "1                                            Omar Mendoza   \n",
       "2                                              F. Machado   \n",
       "3       This processor is absolutely incredible with n...   \n",
       "4                                            yogesh Kumar   \n",
       "...                                                   ...   \n",
       "110996                                    Santhosh Philip   \n",
       "110997                                     Cliente Amazon   \n",
       "110998                                            Henning   \n",
       "110999                                          Latinmau    \n",
       "111000                               Mag Guenther Hofmann   \n",
       "\n",
       "                                                 Comments  \n",
       "0       Fast CPU and since I did not need the graphics...  \n",
       "1                                                   Fast.  \n",
       "2       Fast CPU and since I did not need the graphics...  \n",
       "3       This processor is absolutely incredible with n...  \n",
       "4       Most powerful cpu at this price bracket no dou...  \n",
       "...                                                   ...  \n",
       "110996                        Not at all working fake one  \n",
       "110997                            Un mostro di processore  \n",
       "110998  Zum Schneiden und Bearbeiten bestens geeignet....  \n",
       "110999  Puro poder de procesador. Honestamente para lo...  \n",
       "111000  Für Videoschnitt in Verbindung mit Wasserkühlu...  \n",
       "\n",
       "[111001 rows x 5 columns]"
      ]
     },
     "execution_count": 4,
     "metadata": {},
     "output_type": "execute_result"
    }
   ],
   "source": [
    "df.columns = [\"Product\", \"Rating\", \"Demographic\", \"Reviewer\", \"Comments\"]\n",
    "df"
   ]
  },
  {
   "cell_type": "code",
   "execution_count": 5,
   "metadata": {},
   "outputs": [
    {
     "data": {
      "text/html": [
       "<div>\n",
       "<style scoped>\n",
       "    .dataframe tbody tr th:only-of-type {\n",
       "        vertical-align: middle;\n",
       "    }\n",
       "\n",
       "    .dataframe tbody tr th {\n",
       "        vertical-align: top;\n",
       "    }\n",
       "\n",
       "    .dataframe thead th {\n",
       "        text-align: right;\n",
       "    }\n",
       "</style>\n",
       "<table border=\"1\" class=\"dataframe\">\n",
       "  <thead>\n",
       "    <tr style=\"text-align: right;\">\n",
       "      <th></th>\n",
       "      <th>Product</th>\n",
       "      <th>Rating</th>\n",
       "      <th>Reviewer</th>\n",
       "      <th>Reviews</th>\n",
       "      <th>Location</th>\n",
       "      <th>Date</th>\n",
       "    </tr>\n",
       "  </thead>\n",
       "  <tbody>\n",
       "    <tr>\n",
       "      <th>0</th>\n",
       "      <td>Intel Core i9 (12th Gen) i9-12900F Hexadeca-co...</td>\n",
       "      <td>5.0</td>\n",
       "      <td>F. Machado</td>\n",
       "      <td>Fast CPU and since I did not need the graphics...</td>\n",
       "      <td>the United States</td>\n",
       "      <td>27 September 2022</td>\n",
       "    </tr>\n",
       "    <tr>\n",
       "      <th>1</th>\n",
       "      <td>Intel Core i9 (12th Gen) i9-12900F Hexadeca-co...</td>\n",
       "      <td>5.0</td>\n",
       "      <td>Omar Mendoza</td>\n",
       "      <td>Fast.</td>\n",
       "      <td>the United States</td>\n",
       "      <td>17 September 2023</td>\n",
       "    </tr>\n",
       "    <tr>\n",
       "      <th>2</th>\n",
       "      <td>Intel Core i9 (12th Gen) i9-12900F Hexadeca-co...</td>\n",
       "      <td>5.0</td>\n",
       "      <td>F. Machado</td>\n",
       "      <td>Fast CPU and since I did not need the graphics...</td>\n",
       "      <td>the United States</td>\n",
       "      <td>27 September 2022</td>\n",
       "    </tr>\n",
       "    <tr>\n",
       "      <th>3</th>\n",
       "      <td>Intel Core i7-13700K Desktop Processor 16 core...</td>\n",
       "      <td>5.0</td>\n",
       "      <td>This processor is absolutely incredible with n...</td>\n",
       "      <td>This processor is absolutely incredible with n...</td>\n",
       "      <td>India</td>\n",
       "      <td>3 September 2023</td>\n",
       "    </tr>\n",
       "    <tr>\n",
       "      <th>4</th>\n",
       "      <td>Intel Core i7-13700K Desktop Processor 16 core...</td>\n",
       "      <td>5.0</td>\n",
       "      <td>yogesh Kumar</td>\n",
       "      <td>Most powerful cpu at this price bracket no dou...</td>\n",
       "      <td>India</td>\n",
       "      <td>28 March 2023</td>\n",
       "    </tr>\n",
       "    <tr>\n",
       "      <th>...</th>\n",
       "      <td>...</td>\n",
       "      <td>...</td>\n",
       "      <td>...</td>\n",
       "      <td>...</td>\n",
       "      <td>...</td>\n",
       "      <td>...</td>\n",
       "    </tr>\n",
       "    <tr>\n",
       "      <th>110996</th>\n",
       "      <td>Intel Bx80673I97940X CPU Grey</td>\n",
       "      <td>1.0</td>\n",
       "      <td>Santhosh Philip</td>\n",
       "      <td>Not at all working fake one</td>\n",
       "      <td>India</td>\n",
       "      <td>17 June 2020</td>\n",
       "    </tr>\n",
       "    <tr>\n",
       "      <th>110997</th>\n",
       "      <td>Intel Bx80673I97940X CPU Grey</td>\n",
       "      <td>5.0</td>\n",
       "      <td>Cliente Amazon</td>\n",
       "      <td>Un mostro di processore</td>\n",
       "      <td>Italy</td>\n",
       "      <td>19 November 2018</td>\n",
       "    </tr>\n",
       "    <tr>\n",
       "      <th>110998</th>\n",
       "      <td>Intel Bx80673I97940X CPU Grey</td>\n",
       "      <td>5.0</td>\n",
       "      <td>Henning</td>\n",
       "      <td>Zum Schneiden und Bearbeiten bestens geeignet....</td>\n",
       "      <td>Germany</td>\n",
       "      <td>2 July 2018</td>\n",
       "    </tr>\n",
       "    <tr>\n",
       "      <th>110999</th>\n",
       "      <td>Intel Bx80673I97940X CPU Grey</td>\n",
       "      <td>5.0</td>\n",
       "      <td>Latinmau</td>\n",
       "      <td>Puro poder de procesador. Honestamente para lo...</td>\n",
       "      <td>Spain</td>\n",
       "      <td>20 May 2019</td>\n",
       "    </tr>\n",
       "    <tr>\n",
       "      <th>111000</th>\n",
       "      <td>Intel Bx80673I97940X CPU Grey</td>\n",
       "      <td>5.0</td>\n",
       "      <td>Mag Guenther Hofmann</td>\n",
       "      <td>Für Videoschnitt in Verbindung mit Wasserkühlu...</td>\n",
       "      <td>Germany</td>\n",
       "      <td>8 May 2018</td>\n",
       "    </tr>\n",
       "  </tbody>\n",
       "</table>\n",
       "<p>111001 rows × 6 columns</p>\n",
       "</div>"
      ],
      "text/plain": [
       "                                                  Product  Rating  \\\n",
       "0       Intel Core i9 (12th Gen) i9-12900F Hexadeca-co...     5.0   \n",
       "1       Intel Core i9 (12th Gen) i9-12900F Hexadeca-co...     5.0   \n",
       "2       Intel Core i9 (12th Gen) i9-12900F Hexadeca-co...     5.0   \n",
       "3       Intel Core i7-13700K Desktop Processor 16 core...     5.0   \n",
       "4       Intel Core i7-13700K Desktop Processor 16 core...     5.0   \n",
       "...                                                   ...     ...   \n",
       "110996                      Intel Bx80673I97940X CPU Grey     1.0   \n",
       "110997                      Intel Bx80673I97940X CPU Grey     5.0   \n",
       "110998                      Intel Bx80673I97940X CPU Grey     5.0   \n",
       "110999                      Intel Bx80673I97940X CPU Grey     5.0   \n",
       "111000                      Intel Bx80673I97940X CPU Grey     5.0   \n",
       "\n",
       "                                                 Reviewer  \\\n",
       "0                                              F. Machado   \n",
       "1                                            Omar Mendoza   \n",
       "2                                              F. Machado   \n",
       "3       This processor is absolutely incredible with n...   \n",
       "4                                            yogesh Kumar   \n",
       "...                                                   ...   \n",
       "110996                                    Santhosh Philip   \n",
       "110997                                     Cliente Amazon   \n",
       "110998                                            Henning   \n",
       "110999                                          Latinmau    \n",
       "111000                               Mag Guenther Hofmann   \n",
       "\n",
       "                                                  Reviews           Location  \\\n",
       "0       Fast CPU and since I did not need the graphics...  the United States   \n",
       "1                                                   Fast.  the United States   \n",
       "2       Fast CPU and since I did not need the graphics...  the United States   \n",
       "3       This processor is absolutely incredible with n...              India   \n",
       "4       Most powerful cpu at this price bracket no dou...              India   \n",
       "...                                                   ...                ...   \n",
       "110996                        Not at all working fake one              India   \n",
       "110997                            Un mostro di processore              Italy   \n",
       "110998  Zum Schneiden und Bearbeiten bestens geeignet....            Germany   \n",
       "110999  Puro poder de procesador. Honestamente para lo...              Spain   \n",
       "111000  Für Videoschnitt in Verbindung mit Wasserkühlu...            Germany   \n",
       "\n",
       "                     Date  \n",
       "0       27 September 2022  \n",
       "1       17 September 2023  \n",
       "2       27 September 2022  \n",
       "3        3 September 2023  \n",
       "4           28 March 2023  \n",
       "...                   ...  \n",
       "110996       17 June 2020  \n",
       "110997   19 November 2018  \n",
       "110998        2 July 2018  \n",
       "110999        20 May 2019  \n",
       "111000         8 May 2018  \n",
       "\n",
       "[111001 rows x 6 columns]"
      ]
     },
     "execution_count": 5,
     "metadata": {},
     "output_type": "execute_result"
    }
   ],
   "source": [
    "df[['Location', 'Date']] = df['Demographic'].str.extract(r'Reviewed in (.*?) on (.*)')\n",
    "\n",
    "df = df.drop(columns=[\"Demographic\"])\n",
    "\n",
    "df.columns = [\"Product\", \"Rating\", \"Reviewer\", \"Reviews\", \"Location\", \"Date\"]\n",
    "df"
   ]
  },
  {
   "cell_type": "code",
   "execution_count": 6,
   "metadata": {},
   "outputs": [
    {
     "name": "stdout",
     "output_type": "stream",
     "text": [
      "Distinct values in Column1:\n",
      "Intel Core i9 (12th Gen) i9-12900F Hexadeca-core (16 Core) 2.40 GHz Processor - Retail Pack\n",
      "Intel Core i7-13700K Desktop Processor 16 cores (8 P-cores + 8 E-cores) 30M Cache, up to 5.4 GHz Socket LGA 1700\n",
      "Intel Core i7 (12th Gen) i7-12700 Dodeca-core (12 Core) 2.10 GHz Processor - Retail Pack\n",
      "Intel Core i9-13900K Desktop Processor LGA 1700 24 cores (8 P-cores + 16 E-cores) 36M Cache, up to 5.8 GHz'\n",
      "Intel Core i7-13700KF Gaming Desktop Processor 16 cores (8 P-cores + 8 E-cores) - Unlocked\n",
      "Intel® Core™ i9-13900KS Processor 36M Cache, up to 6.00 GHz\n",
      "Intel® Core™ i9-14900KS Desktop Processor 24 cores (8 P-cores + 16 E-cores)\n",
      "Intel CM8070104291318 Core I3-10100f 3.6ghz Lga1200 Chip Tray Cpu Mm 999wpa\n",
      "Intel Core i9-12900K Desktop Processor16 (8P+8E) Cores up to 5.2 GHz Unlocked LGA1700 600 Series Chipset 125W\n",
      "Intel Core i7 12700F 12 Gen Desktop PC Processor 12 Core CPU with 25MB Cache and up to 4.9 GHz Clock Speed LGA 1700 4K (Graphic Card Required)\n",
      "Intel Core I5 12400F 12 Gen Generation Desktop Pc Processor 6, CPU with 18Mb Cache and Up to 4.40 Ghz Clock Speed Ddr5 and Ddr4 Ram Support Lga 1700 Socket, Micro ATX\n",
      "Intel Core i5-13600K Desktop Processor 14 cores (6 P-cores + 8 E-cores) 24M Cache, up to 5.1 GHz' Socket LGA 1700\n",
      "Intel Core i5 (12th Gen) i5-12500 3 GHz Processor - Retail Pack\n",
      "HP Laptop 14, 13th Gen Intel Core i3-1315U, 14-inch (35.6 cm), FHD, 8GB DDR4, 512GB SSD, Intel UHD Graphics, FHD Camera w/Privacy Shutter, Thin & Light (Win 11, MSO 2021, Blue, 1.4 kg), gr0000TU\n",
      "Intel® Core i3-12100 Processor 12M Cache, up to 4.30 GHz LGA1700 Socket\n",
      "ZEBRONICS PRO Series Z NBC 5S, Intel Core 12th Gen i7 Processor 16GB RAM & 1TB SSD Laptop, 15.6 Inch (39.6CM), IPS 180° Display, Dolby Atmos, 38.5Wh Large Battery, Windows 11, Midnight Blue, 1.76 Kg\n",
      "Intel Core i3 12100F 12th Gen Generation Desktop PC Processor 4 CPU with 12MB Cache and up to 4.30 GHz Clock Speed LGA 1700 Socket\n",
      "Acer Extensa 15 Laptop Intel Core i3 N305 8 core Processor (8 GB/256 GB SSD/Win11 Home/MS Office Home and Student/Intel UHD Graphics/1.7 KG/Silver) EX215-33 FHD Display\n",
      "Intel RealSense D455 Depth Camera with IMU (USB Type-C Port) - 82635DSD455\n",
      "Lenovo IdeaPad Slim 3 12th Gen Intel Core i3 15.6\" (39.6cm) FHD 250 Nits Thin and Light Laptop (8GB/256GB SSD/Windows 11/Office 2021/Alexa/1 Yr ADP Free/3 Month Game Pass/Grey/1.6Kg), 82RK00XDIN\n",
      "HP 240 G8 (8J0S2PA) (Intel Core I5 11th Gen / 8GB RAM/ 512GB SSD/DOS/Intel Graphics/ 14 Inch/ 1 Year Warranty) Black\n",
      "ASUS Vivobook 15, Intel Core i3-1220P 12th Gen, 15.6\" (39.62 cm) FHD, Thin and Laptop (8GB/512GB SSD/Integrated Graphics/Windows 11/Office 2021/Alexa Built-in/FP Sensor/Blue/1.7 kg), X1502ZA-EJ381WS\n",
      "Acer Extensa 15 Intel Core i3 N305 8 core Processor (8 GB/512 GB SSD/Win11 Home/MS Office Home and Student/Intel UHD Graphics/1.7 KG/Silver) EX215-33 FHD Display Laptop\n",
      "ZEBRONICS PRO Series Z NBC 3S, Intel Core 12th Gen i3 Processor 8GB RAM & 512GB SSD Laptop, 15.6 Inch (39.6CM), IPS 180° Display, Dolby Atmos, 38.5Wh Large Battery, Windows 11, Space Grey, 1.76 Kg\n",
      "HP Laptop 15,12th Gen Intel Core i3-1215U,15.6 inch(39.6 cm),FHD,Anti-Glare,8 GB DDR4,512 GB SSD,Windows 11,MSO,Dual Speakers,1.69 kg,Natural Silver,15s-fq5326TU\n",
      "HP All-in-One PC Intel Pentium J5040 21.5-inch(54.6 cm) FHD Three-Sided Micro-Edge Display(8GB RAM/512GB SSD/Intel UHD Graphics/Win 11 Home/Wired Keyboard and Mouse Combo/MS Office)22-dd2686in, White\n",
      "ZEBRONICS PRO Series Z NBC 3S, Intel Core 12th Gen i3 Processor 8GB RAM & 512GB SSD Laptop, 15.6 Inch (39.6CM), IPS 180° Display, Dolby Atmos, 38.5Wh Large Battery, Windows 11, Midnight Blue,1.76 Kg\n",
      "Intel Core i3-13100 Desktop Processor 4 cores (4 P-cores + 0 E-cores) 12MB Cache, up to 4.5 GHz\n",
      "Intel Core i5-14400F Desktop Processor 10 cores (6 P-cores + 4 E-cores) up to 4.7 GHz\n",
      "Intel NUC 13 Pro NUC13ANHi7 Barebone System - Socket BGA-1744-1 x Processor Support Core i7 13th Gen i7-1360P Dodeca-core (12 Core),Black\n",
      "Intel® Core™ i7-14700KF New Gaming Desktop Processor 20 cores (8 P-cores + 12 E-cores) - Unlocked\n",
      "LG Electronics Gram14-2023 Intel 13Thgen Evo I5-1340P IPS Anti-Glare 16:10/16Gb Lpddr5 Ram/512Gb Ssd/Intel Iris Xe Graphic/Wuxga/Face-Login/Mil-Std/Rr 60Hz/72Wh/3Yr Warranty-Windows 11 Home\n",
      "Intel Core i3-14100F Desktop Processor 4 cores (4 P-cores + 0 E-cores) up to 4.7 GHz\n",
      "Intel CoreTM i5-14600K LGA 1700 Socket New Gaming Desktop Processor 14 (6 P-cores + 8 E-cores) with Integrated Graphics - Unlocked\n",
      "Intel Core i5-14500 Desktop Processor 14 cores (6 P-cores + 8 E-cores) up to 5.0 GHz\n",
      "Intel Core i5-14400 Desktop Processor 10 cores (6 P-cores + 4 E-cores) up to 4.7 GHz\n",
      "Intel® Core™ i9-14900K New Gaming Desktop Processor 24 cores (8 P-cores + 16 E-cores) with Integrated Graphics - Unlocked\n",
      "ASUS Vivobook 16 (2023), Intel Core i5-1335U 13th Gen, 16\" (40.64 cms) FHD+, Thin and Light Laptop (16GB/512GB SSD/Intel Iris Xᵉ/Win 11/Office 2021/Backlit KB/Silver/1.88 kg), X1605VAB-MB544WS\n",
      "ASUS Vivobook 15 (2023), Intel Core i5-1335U 13th Gen, 15.6\" (39.62 cms) FHD, Thin and Light Laptop (8GB/512GB SSD/Intel Iris Xᵉ/Win 11/Office 2021/Fingerprint/Silver/1.7 kg), X1504VA-NJ524WS\n",
      "Intel Realsense Depth Camera D435I With Imu Upto 1080P - Digital, Grey\n",
      "ASUS Vivobook 15, Intel Core i3-1220P 12th Gen, 15.6\" (39.62 cm) FHD, Thin and Laptop (8GB/512GB SSD/Integrated Graphics/Windows 11/Office 2021/Fingerprint/Blue/1.7 kg), X1502ZA-EJ385WS\n",
      "Intel Core i3-10100F 10th Generation LGA1200 Desktop Processor 4, 4 Cores 8 Threads up to 4.30GHz 6MB Cache\n",
      "Intel Core i7 12700 12th Gen Generation Desktop PC Processor CPU APU with 25MB Cache and up to 4.90 GHz Clock Speed 3 Years Warranty with Fan LGA 1700 4K (Graphic Card Not Required)\n",
      "Intel Core I5-13400 Processor 20M Cache, Up to 4.60 Ghz, LGA 1700\n",
      "Intel Core I5-13400F Processor 20M Cache, Up to 4.60 Ghz, LGA 1700\n",
      "Intel Core i5-13500 Processor, LGA 1700, 24M Cache, up to 4.80 GHz\n",
      "Intel Core i5-12400 Desktop Processor 18M Cache, up to 4.40 GHz LGA 1700 Socket\n",
      "HP Pavilion Plus 13th Gen Intel EVO Core i5-1340P 14inch(35.6 cm), Metal Body,TUV Certified 2.2K,Micro Edge Display(16GB RAM/512GB SSD/B&O/5MP Camera/Intel Iris Xe Graphics/FPR/MSO/Win 11,14-eh1022TU\n",
      "Lenovo V14 Intel Core I3 11th Gen 14\" Thin and Light Laptop (8GB RAM/256GB SSD/Windows 11/Iron Grey/1.5 kg)\n",
      "Dell 15 Thin & Light Laptop, Intel Core 13th Generation i5-1334U Processor, 16GB DDR4 & 512GB SSD, 15.6\" (39.62cm) FHD 120Hz 250 nits, Win 11 + MSO'21 + 15 Month Mcafee, Carbon Black, 1.66kg\n",
      "Lenovo ThinkPad E14 Intel Core i5 13th Gen 14\" WUXGA IPS 300 Nits Thin and Light Laptop (16GB RAM/512GB SSD/Windows 11 Home/Office 2021/Backlit Keyboard/FPR/Black/1.41 kg), 21JKS0UA00\n",
      "HP Laptop 14, Intel® Core™ i3-1215U, 14-inch(35.6 cm), FHD,8GB DDR4,512GB SSD,MSO,Dual Speakers,Win 11,Silver, 1.46 kg,14s-dq5138TU\n",
      "Intel Core I9-13900K Processor 36M Cache, Up to 5.80 Ghz, LGA 1700\n",
      "Lenovo V14 G3 IAP Laptop 12th Generation Intel Core i3-1215U / 8GB DDR4 / 512 GB SSD PCIe / 14.0 FHD TN Display/Windows 11/Ms-Office/Silver (Grey) / 1 Year Onsite Warranty\n",
      "Acer Aspire Lite 12th Gen Intel Core i3-1215U Premium Metal Laptop (Windows 11 Home/8 GB RAM/512GB SSD) AL15-52, 39.62cm (15.6\") Full HD Display, Metal Body, Steel Gray, 1.59 Kg\n",
      "Dell 14 Thin & Light Laptop, 12th Gen Intel Core i3-1215U Processor/8GB/512GB SSD/Intel UHD Graphics/14.0\"(35.56cm) FHD/Windows 11 + MSO'21/15 Month McAfee/Spill-Resistant Keyboard/Grey/1.48kg\n",
      "Intel Pentium Gold G6405 10th Gen Generation Desktop PC Processor Box CPU APU 4MB Cache 4.10 Clock Speed 3 Years Warranty with Fan LGA 1200 Socket (Graphics Card Not Required)\n",
      "Intel® Core™ i9-13900F Processor 36M Cache, up to 5.60 GHz\n",
      "Intel Core i5 12600K 12 Gen Generation Desktop PC Processor CPU with 20MB Cache and up to 4.90 GHz Clock Speed 3 Years Warranty with Fan LGA 1700 Socket No Graphic Card Required\n",
      "Intel Core i5-11400F Desktop Processor 6, 6 Cores up to 4.4 GHz LGA1200 (500 Series and Select 400 Series Chipset) 65W\n",
      "Intel Core i7-11700F 11th Gen Generation Desktop PC Processor CPU with 16 MB Cache and up to 4.90 GHz Clock Speed 3 Years Warranty Support LGA 1200 Socket (Graphic Card Mandatory)\n",
      "Intel® Core™ i7-13700F Processor 30M Cache, up to 5.20 GHz\n",
      "ASUS Vivobook 15 (2023), Intel Core I5-13500H 13Th Gen, 15.6\" (39.62 Cms) Fhd, Thin and Light Laptop (16Gb/512Gb Ssd/Intel Iris X?/Win 11/Office 2021/Backlit Kb/Blue/1.7 Kg), X1502Va-Nj541Ws\n",
      "Intel NUC 12 NUC12WSHi7 Wall Street Canyon Mini Computer 12th Gen Core i7-1260P, 12 Cores(4P+8E), 16 Threads, 18MB Smart Cache, Iris Xe Graphics,0GB RAM, 0GB SSD, No OS, Barebone\n",
      "Intel Core i3-10105F LGA1200 Desktop Processor 4 Cores 8 Threads up to 4.40GHz 6MB Cache\n",
      "Intel Core I7 12700Kf 12Th Gen Desktop Processor 25 Mb Cache, Up to 5.00 Ghz Clock Speed 12 Core 20 Threads 125W Lga 1700 Socket 3 Years Warranty Box Packaging Ddr4 Ddr5 Ram Support\n",
      "Core i5-3470 3.2GHz 5.0GT s 6MB LGA 1155 CPU OEM Processor\n",
      "Intel NUC 12 Pro Wall Street Canyon NUC12WSHi5, 12TH GEN Intel Core i5-1240P 12-Core, 16 threads, 12MB L3 Cache, Upto 4.4 GHz Turbo, 28W Intel Iris Xe Graphics, Barebone, No RAM, NO SSD, No OS.\n",
      "ASUS Prime H510M-E R2.0 Intel H470 LGA 1200 Micro ATX Motherboard with PCIe 4.0, 32Gbps M.2 Slot, DisplayPort/HDMI™/VGA, USB 3.2 Gen 1 Ports, SATA 6 Gbps, Aura Addressable Gen 2\n",
      "Intel Core i5-11600KF Desktop Processor 1, 6 Cores up to 4.9 GHz Unlocked LGA1200 (500 Series & Select 400 Series Chipset) 125W\n",
      "Intel® Core i5-9400F Processor (9M Cache, up to 4.10 GHz) LGA 1151 Socket\n",
      "Intel Core i5-10400F 10th Generation Processor with 12MB Cache Memory 6 Cores 12 Threads and 3 Years Warranty (Comes with Fan Inside The Box)\n",
      "Intel® Core™ i5-14600KF New Gaming Desktop Processor 14 cores (6 P-cores + 8 E-cores) - Unlocked\n",
      "Intel Core i5-10th Gen Processor (i5-10600K LGA 1200, 4.1 GHZ, 12 MB Cache)\n",
      "Intel Core i5-11400 Desktop Processor 1, 6 Cores up to 4.4 GHz LGA1200 (500 Series & Select 400 Series Chipset) 65W\n",
      "IntelCorei9-10900X X-Series Processor (19.25M Cache, 3.70 GHz) LGA 2066\n",
      "Intel Core i9-13900KS Desktop Processor 24 cores (8 P-cores + 16 E-cores) 36MB Cache, up to 6.0 GHz\n",
      "Intel Core i9-14900 Desktop Processor 24 cores (8 P-cores + 16 E-cores) up to 5.8 GHz\n",
      "Intel Core i9-11900 LGA1200 Desktop Processor 8 Cores up to 5.1GHz 16MB Cache with Integrated Intel UHD 750 Graphics\n",
      "Lenovo ThinkBook 15 Intel 12th Gen Core i5 15.6\" (39.62cm) FHD 250 nits Antiglare Thin and Light Laptop (16GB/512GB SSD/Win 11 Home/Office 2021/Backlit Keyboard/Mineral Grey/1.7 Kg), 21DJA0FGIH\n",
      "Intel® Core™ i7-14700K New Gaming Desktop Processor 20 cores (8 P-cores + 12 E-cores) with Integrated Graphics - Unlocked\n",
      "HP Pavilion Laptop 13th Gen Intel Core i5-1340P 15.6 inch(39.6cm) FHD IPS Laptop(16GB RAM /512GB SSD/Intel Iris Xe Graphics/Win 11/MSO 2021/Backlit Keyboard/FPR/B&O/Alexa/Natural Silver) 15-eg3079TU\n",
      "Intel Core I7-13700F Desktop Processor 16 Cores (8 P-Cores + 8 E-Cores) 30Mb Cache,Up to 5.2 Ghz,LGA 1151\n",
      "ZEBRONICS PRO Series Z NBC 4S, Intel Core 12th Gen i5 Processor 16GB RAM & 512GB SSD Laptop, 15.6 Inch (39.6CM), IPS 180° Display, Dolby Atmos, 38.5Wh Large Battery, Windows 11, Blue, 1.76 Kg\n",
      "Intel Realsense L515 Lidar Depth Camera (Black)\n",
      "Lenovo IdeaPad Slim 5 Intel Core i7 13700H 16\"(40.6cm) WUXGA IPS Laptop (16GB/512GB SSD/Win 11/Office 2021/Backlit KB/FHD Camera/Alexa/3 Month Game Pass/Cloud Grey/1.89Kg), 82XF003JIN\n",
      "ZEBRONICS PRO Series Z NBC 5S, Intel Core 12th Gen i7 Processor 16GB RAM & 1TB SSD Laptop, 15.6 Inch (39.6CM), IPS 180° Display, Dolby Atmos, 38.5Wh Large Battery, Windows 11, Space Grey, 1.76 Kg\n",
      "Lenovo IdeaPad Pro 5 Intel Core i7 13700H 16 Inch (40.6cm) 2.5K IPS 350Nits 120Hz Laptop (16GB/1TB SSD/NVDIA RTX 3050/Win 11/MSOffice/Backlit/FHD Camera/Alexa/3 month Game Pass/Grey/1.95Kg),83AQ005SIN\n",
      "ZEBRONICS PRO Series Z NBC 5S, Intel Core 12th Gen i7 Processor 16GB RAM & 512GB SSD Laptop, 15.6 Inch (39.6CM), IPS 180° Display, Dolby Atmos, 38.5Wh Large Battery, Windows 11, Blue, 1.76 Kg\n",
      "Intel Core i9-9900KS Desktop Processor 8 Cores up to 5.0GHz All-Core Turbo Unlocked LGA1151 Z390 127W\n",
      "Intel Core i9 (12th Gen) i9-12900KS Hexadeca-core (16 Core) 2.50 GHz Processor\n",
      "Intel Core i7-12700K Desktop Processor 12 (8P+4E) Cores up to 5.0 GHz Unlocked LGA 1700 600 Series Chipset 125W\n",
      "Intel NUC 11 Pro Slim Kit, 11th Gen, Core i3-1115G4, 8 GB DDR4 RAM, 256 GB SSD, RJ-45, WiFi-6,Bluetooth, HDMI, Windows 11 Pro, Mini PC + NPO Cord\n",
      "HP Laptop 15, 12th Gen Intel® Core™ i3-1215U,15.6-inch(39.6 cm),FHD,Anti-Glare,MSO,8GB DDR4 (3200MHz),512GB SSD,Dual Speakers,Windows 11,Natural Silver,1.69kg, 15s-fq5007TU\n",
      "Intel Core i7-11700K LGA1200 Desktop Processor 8, 8 Cores up to 5GHz 16MB Cache with Integrated UHD 750 Graphics\n",
      "Intel® Core i5-10400 Processor (12M Cache, up to 4.30 GHz) BGA 437 Socket\n",
      "Intel Core i3-14100 Desktop Processor 4 cores (4 P-cores + 0 E-cores) up to 4.7 GHz\n",
      "Intel Core i5-12600K Desktop Processor 10 (6P+4E) Cores up to 4.9 GHz Unlocked Socket LGA 1700 600 Series Chipset 125W\n",
      "Intel Core i3-10100 (Base Clock 3.60GHz; Socket LGA1200; 65 Watt) Box\n",
      "Intel® Core i7-9700K Processor (12M Cache, up to 4.90 GHz) LGA 1151 Socket\n",
      "Intel® Core™ i7-9700F Processor (12M Cache, up to 4.70 GHz)\n",
      "Intel ® Core i7-10700 Processor FCLGA1200 Sockets (16M Cache, up to 4.80 GHz)\n",
      "Intel 7th Gen Intel Core Desktop Processor i7-7700K (BX80677I77700K)\n",
      "Intel Core i7-7700K Unlocked Processor 8M Cache, up to 4.50 GHz, Quad-Core Kaby Lake\n",
      "Intel Core i7 7700K Processor\n",
      "Intel Cpu Core 2 Quad Q6600 2.4Ghz Fsb1066Mhz 8M Lga775 Tray\n",
      "INTEL E10GSFPSR INTEL 10G SFP SR SFP\n",
      "Intel® Core™ i7-7700 Processor 8M Cache, up to 3.60 GHz 7th Generation Intel® Core™ i7 Processors\n",
      "Intel Core i9-12900KF Desktop Processor16 (8P+8E) Cores up to 5.2 GHz Unlocked LGA1700 600 Series Chipset 125W\n",
      "Intel Core i9-10900F Desktop Processor 10 Cores up to 5.2 GHz Without Processor Graphics LGA 1200 (Intel 400 Series chipset) 65W\n",
      "Intel ARC A380 6GB GDDR6 Gaming Ray Tracing Graphics Card (PCIe 4.0, 4K & 8K Resolution Support, Vulkan 1.3, X Cores, XMX Engines, X Vector) Streaming, Content Creation, AI, VR Ready, Gamer GPU\n",
      "Intel Core i9 12900 12th Gen Desktop Processor 30MB Cache, up to 5.10 GHz Clock Speed 16 Cores 24 Threads UHD 770 Graphics 3 Years Warranty Graphic Card not Mandatory Comes with Fan Inside The Box\n",
      "Intel PENTIUM Gold G6400 Desktop 10th GEN Processor 1, 2 CORE UP to 4 GHZ 4MB Smart Cache LGA1200 (400 Series CHIPSET) 58W BX80701G6400\n",
      "Intel Core i7-990X Extreme Edition Processor 3.46 GHz 6 Core LGA 1366 CPU - OEM\n",
      "Intel® Core i3-10100 Processor (6M Cache, up to 4.30 GHz) BGA 437 Socket\n",
      "G1 Thin Pcs G1 Thin Client Pc-4 Lan Mini Pc|Intel J4125 Mini Computer Barebone-Used For Firewall,Pfsense|Runs 24/7 Without Any Heating Issues..,ubuntu&windows,Black\n",
      "Intel Core i9 9900K OEM 8-Core, 16-Thread, 3.6 GHz (5.0 GHz Turbo) LGA 1151 (300 Series) 95W BX80684I99900K Desktop Processor Intel UHD Graphics 630\n",
      "Intel Core i9 i9-10980XE Octadeca-core (18 Core) 3 GHz Processor - 24.75 MB Cache - 4.60 GHz Overclocking Speed - 14 nm - 165 W - 36 Threads LGA 2066 Socket\n",
      "Intel® Core™ i9-13900KF Processor 36M Cache, up to 5.80 GHz\n",
      "Intel® Core™ i9-13900 Processor 36M Cache, up to 5.60 GHz\n",
      "Intel® Core™ i9-9900 Processor (16M Cache, up to 5.00 GHz)\n",
      "ASRock Intel Socket LGA1200 Intel H470 Black Mini/Booksize Barebone System Model DESKMINI H470W\n",
      "Intel® Core™ i9-9900X X-Series Processor (19.25M Cache, up to 4.50 GHz)\n",
      "INTEL Desktop Processor I5-9400F 2.9GHZ,9MB Cache,LGA1151 3YEARS Warranty\n",
      "Intel Core i9-10920X Desktop Processor 12 Cores up to 4.8GHz Unlocked LGA 2066 Socket X299 Series 165W\n",
      "Matrix X-Stream Edition | 128GB | M.2 - SSD | Internal Solid State Drive High Reliability & Stability for Laptops/Desktops (128GB)\n",
      "Intel Copper Core Socket 478 Heat Sink and Fan up to 3.4GHz\n",
      "Intel SSDSC2KB240G701 S4500 Series 240gb 2.5 In\n",
      "Tp-Link Tx201 2.5 Gigabit Pci Express Network Adapter, Low-Profile and Full-Height Brackets, Supports Windows 11/10/8.1/8/7, 2.5Gbps WiFi Pcie Card, Qos - Black\n",
      "Intel 6th Gen I3 NUC BOXNUC6I3SYHL\n",
      "Intel Core i7-3632QM 2.20GHz Quad-Core CPU 6M 5.0GTS Socket G2 SR0V0 OEM\n",
      "Intel Core i7-14700 Desktop Processor 20 cores (8 P-cores + 12 E-cores) up to 5.4 GHz\n",
      "INTEL Pentium Processor G2010 3M Cache, 2.80 GHz LGA1155, Dual Core and Ivy Bridge(BX80637G2010) LGA 1155\n",
      "Intel® Core™ i9-9960X X-Series Processor (22M Cache, up to 4.50 GHz)\n",
      "Intel Core i5-10600KF (Base Clock: 4.10GHz; LGA1200; 125 Watt) Box\n",
      "Intel Core i7-13700 Desktop Processor 16 cores (8 P-cores + 8 E-cores) 30MB Cache, up to 5.2 GHz\n",
      "Intel Core i7-14700F Desktop Processor 20 cores (8 P-cores + 12 E-cores) up to 5.4 GHz\n",
      "Intel Core i9 7960X - LGA2066 - For X299 Chipset Board (X-Series ,16 Cores, 32 Threads, 22M Cache, up to 4.20 GHz, 44 PCI Express Lanes) LGA 2066\n",
      "INTEL Core i5-3470 Ivy Bridge 3.2GHz 5.0GT s 6MB LGA 1155 CPU OEM Processor\n",
      "Intel NUC 13 Pro NUC13ANHi5 Barebone System - Socket BGA-1744-1 x Processor Support Core i5 13th Gen i5-1340P Dodeca-core (12 Core)\n",
      "Core i3 2120 2nd Generation 3.3 GHz LGA 1155 Socket Desktop Processor\n",
      "AD Core i3 2120 2nd Generation 3.3 GHz LGA 1155 Socket Desktop Processor (Silver)\n",
      "Matrix 256GB M.2 (2280) Internal Solid State Drive (SSD), Read Up to 560MB/s, Write Up to 500MB/s, 5 Year Warranty\n",
      "ZEBRONICS H55 Micro-ATX Motherboard for LGA 1156 Socket, Supports Intel 1st Generation Processors, DDR3 1333 MHz, Ports (RJ45 | SATA | USB | HDMI | VGA)\n",
      "MATRIX 128GB 3D NAND Flash SATA 6GB/s 2.5 Inches Internal Solid State Drive (SSD), Read Up to 550MB/s, Write Up to 500MB/s, 5 Year Warranty\n",
      "GIGABYTE B560M Ds3H (Lga 1200/ Intel/ B560/ Micro-Atx/Dual M.2/ Pcie 4.0/ Usb 3.2 Gen1/ Gbe Lan/Motherboard), ddr_4\n",
      "Intel® Core i7-4790K Unlocked 4.0 GHz Quad Core LGA1150 Socket Processor (8M Cache, up to 4.40 GHz)\n",
      "Intel® Core™ i9-11900KF Desktop Processor 8 Cores up to 5.3 GHz Unlocked LGA1200 (Intel® 500 Series & Select 400 Series Chipset) 125W\n",
      "Intel M.2 AC 9260 WiFi Card with Bluetooth 5.1 | Up to 1.73Gbps, MU-MIMO, WiFi 5 | Works with Intel, AMD, Linux & Windows 10/11 | Non-vPro | Model 9260NGW WiFi Adapter (AC9260)\n",
      "Intel Xeon Gold 6230 Icosa-core (20 Core) 2.10 GHz Processor - OEM Pack\n",
      "Intel® Core™ i3-13100F Processor 12M Cache, up to 4.50 GHz\n",
      "Intel® Core™ i7-13700 Processor 30M Cache, up to 5.20 GHz\n",
      "Intel Core i9-9900K Desktop Processor 8 Cores up to 5.0GHz Unlocked LGA1151 300 Series 95W\n",
      "Intel Core i9-14900F Desktop Processor 24 cores (8 P-cores + 16 E-cores) up to 5.8 GHz\n",
      "Intel Core i3-4130 FCLGA 1150 Processor\n",
      "Intel Core i9-9900KF Desktop Processor\n",
      "Intel Core i9-7920X X-Series Processor 12 Cores up to 4.3 GHz Turbo Unlocked LGA2066 X299 Series 140W (Tray)\n",
      "Intel® Core™ i9-9980XE Extreme Edition Processor (24.75M Cache, up to 4.50 GHz)\n",
      "Intel® Core™ i9-14900KF New Gaming Desktop Processor 24 cores (8 P-cores + 16 E-cores) - Unlocked\n",
      "Intel - CM8064601466200 - Intel Core i7 i7-4765T Quad-core (4 Core) 2 GHz Processor - Socket H3 LGA-1150OEM Pack - 1 MB - 8 MB Cache - Yes - 3 GHz Overclocking Speed - 22 nm - 3 Number of Monitors Sup\n",
      "Intel Core i7 6700K BX80662I76700K Socket LGA1151 Processor (Blue)\n",
      "Intel Bx80673I97940X CPU Grey\n"
     ]
    }
   ],
   "source": [
    "distinct_values = df[\"Product\"].unique()\n",
    "\n",
    "print(\"Distinct values in Column1:\")\n",
    "for value in distinct_values:\n",
    "    print(value)"
   ]
  },
  {
   "cell_type": "code",
   "execution_count": 7,
   "metadata": {},
   "outputs": [
    {
     "name": "stdout",
     "output_type": "stream",
     "text": [
      "        Rating                                           Reviewer  \\\n",
      "0          5.0                                         F. Machado   \n",
      "1          5.0                                       Omar Mendoza   \n",
      "2          5.0                                         F. Machado   \n",
      "3          5.0  This processor is absolutely incredible with n...   \n",
      "4          5.0                                       yogesh Kumar   \n",
      "...        ...                                                ...   \n",
      "110996     1.0                                    Santhosh Philip   \n",
      "110997     5.0                                     Cliente Amazon   \n",
      "110998     5.0                                            Henning   \n",
      "110999     5.0                                          Latinmau    \n",
      "111000     5.0                               Mag Guenther Hofmann   \n",
      "\n",
      "                                                  Reviews           Location  \\\n",
      "0       Fast CPU and since I did not need the graphics...  the United States   \n",
      "1                                                   Fast.  the United States   \n",
      "2       Fast CPU and since I did not need the graphics...  the United States   \n",
      "3       This processor is absolutely incredible with n...              India   \n",
      "4       Most powerful cpu at this price bracket no dou...              India   \n",
      "...                                                   ...                ...   \n",
      "110996                        Not at all working fake one              India   \n",
      "110997                            Un mostro di processore              Italy   \n",
      "110998  Zum Schneiden und Bearbeiten bestens geeignet....            Germany   \n",
      "110999  Puro poder de procesador. Honestamente para lo...              Spain   \n",
      "111000  Für Videoschnitt in Verbindung mit Wasserkühlu...            Germany   \n",
      "\n",
      "                     Date  Brand  \\\n",
      "0       27 September 2022  Intel   \n",
      "1       17 September 2023  Intel   \n",
      "2       27 September 2022  Intel   \n",
      "3        3 September 2023  Intel   \n",
      "4           28 March 2023  Intel   \n",
      "...                   ...    ...   \n",
      "110996       17 June 2020  Intel   \n",
      "110997   19 November 2018  Intel   \n",
      "110998        2 July 2018  Intel   \n",
      "110999        20 May 2019  Intel   \n",
      "111000         8 May 2018  Intel   \n",
      "\n",
      "                                                    Model  \n",
      "0       Core i9 (12th Gen) i9-12900F Hexadeca-core (16...  \n",
      "1       Core i9 (12th Gen) i9-12900F Hexadeca-core (16...  \n",
      "2       Core i9 (12th Gen) i9-12900F Hexadeca-core (16...  \n",
      "3                                  Core i7-13700K Desktop  \n",
      "4                                  Core i7-13700K Desktop  \n",
      "...                                                   ...  \n",
      "110996                                                N/A  \n",
      "110997                                                N/A  \n",
      "110998                                                N/A  \n",
      "110999                                                N/A  \n",
      "111000                                                N/A  \n",
      "\n",
      "[111001 rows x 7 columns]\n"
     ]
    }
   ],
   "source": [
    "def extract_info(row):\n",
    "    # Split the text by spaces\n",
    "    parts = row.split()\n",
    "    # Extract relevant information\n",
    "    brand = parts[0]\n",
    "    try:\n",
    "        # Extracting model till 'Processor' for processors, 'Laptop' for laptops, 'Graphics' for graphics card, 'Camera' for camera, 'NUC' for mini pc, 'Motherboard' for Motherboard\n",
    "        if 'Processor' in row:\n",
    "            model = ' '.join(parts[1:parts.index('Processor')])\n",
    "        elif 'Laptop' in row:\n",
    "            model = ' '.join(parts[parts.index('Laptop') + 1:parts.index('Processor')]) + ' Laptop'\n",
    "        elif 'Graphics' in row:\n",
    "            model = ' '.join(parts[:parts.index('Graphics')]) + ' Graphics Card'\n",
    "        elif 'Camera' in row:\n",
    "            model = ' '.join(parts[:parts.index('Camera')]) + ' Camera'\n",
    "        elif 'NUC' in row:\n",
    "            model = ' '.join(parts[:parts.index('NUC')]) + ' Mini PC'\n",
    "        elif 'Motherboard' in row:\n",
    "            model = ' '.join(parts[:parts.index('Motherboard')]) + ' Motherboard'\n",
    "        else:\n",
    "            model = 'N/A'\n",
    "    except ValueError:\n",
    "        # If the keyword is not found, set model as N/A\n",
    "        model = 'N/A'\n",
    "    return pd.Series([brand, model])\n",
    "\n",
    "# Apply the function to the DataFrame and concatenate the results\n",
    "df[['Brand', 'Model']] = df['Product'].apply(extract_info)\n",
    "\n",
    "# Drop the original column\n",
    "df.drop('Product', axis=1, inplace=True)\n",
    "\n",
    "# Display the resulting DataFrame\n",
    "print(df)"
   ]
  },
  {
   "cell_type": "code",
   "execution_count": 8,
   "metadata": {},
   "outputs": [
    {
     "data": {
      "text/html": [
       "<div>\n",
       "<style scoped>\n",
       "    .dataframe tbody tr th:only-of-type {\n",
       "        vertical-align: middle;\n",
       "    }\n",
       "\n",
       "    .dataframe tbody tr th {\n",
       "        vertical-align: top;\n",
       "    }\n",
       "\n",
       "    .dataframe thead th {\n",
       "        text-align: right;\n",
       "    }\n",
       "</style>\n",
       "<table border=\"1\" class=\"dataframe\">\n",
       "  <thead>\n",
       "    <tr style=\"text-align: right;\">\n",
       "      <th></th>\n",
       "      <th>Rating</th>\n",
       "      <th>Reviewer</th>\n",
       "      <th>Reviews</th>\n",
       "      <th>Location</th>\n",
       "      <th>Date</th>\n",
       "      <th>Brand</th>\n",
       "      <th>Model</th>\n",
       "    </tr>\n",
       "  </thead>\n",
       "  <tbody>\n",
       "    <tr>\n",
       "      <th>0</th>\n",
       "      <td>5.0</td>\n",
       "      <td>F. Machado</td>\n",
       "      <td>Fast CPU and since I did not need the graphics...</td>\n",
       "      <td>the United States</td>\n",
       "      <td>27 September 2022</td>\n",
       "      <td>Intel</td>\n",
       "      <td>Core i9 (12th Gen) i9-12900F Hexadeca-core (16...</td>\n",
       "    </tr>\n",
       "    <tr>\n",
       "      <th>1</th>\n",
       "      <td>5.0</td>\n",
       "      <td>Omar Mendoza</td>\n",
       "      <td>Fast.</td>\n",
       "      <td>the United States</td>\n",
       "      <td>17 September 2023</td>\n",
       "      <td>Intel</td>\n",
       "      <td>Core i9 (12th Gen) i9-12900F Hexadeca-core (16...</td>\n",
       "    </tr>\n",
       "    <tr>\n",
       "      <th>2</th>\n",
       "      <td>5.0</td>\n",
       "      <td>F. Machado</td>\n",
       "      <td>Fast CPU and since I did not need the graphics...</td>\n",
       "      <td>the United States</td>\n",
       "      <td>27 September 2022</td>\n",
       "      <td>Intel</td>\n",
       "      <td>Core i9 (12th Gen) i9-12900F Hexadeca-core (16...</td>\n",
       "    </tr>\n",
       "    <tr>\n",
       "      <th>3</th>\n",
       "      <td>5.0</td>\n",
       "      <td>This processor is absolutely incredible with n...</td>\n",
       "      <td>This processor is absolutely incredible with n...</td>\n",
       "      <td>India</td>\n",
       "      <td>3 September 2023</td>\n",
       "      <td>Intel</td>\n",
       "      <td>Core i7-13700K Desktop</td>\n",
       "    </tr>\n",
       "    <tr>\n",
       "      <th>4</th>\n",
       "      <td>5.0</td>\n",
       "      <td>yogesh Kumar</td>\n",
       "      <td>Most powerful cpu at this price bracket no dou...</td>\n",
       "      <td>India</td>\n",
       "      <td>28 March 2023</td>\n",
       "      <td>Intel</td>\n",
       "      <td>Core i7-13700K Desktop</td>\n",
       "    </tr>\n",
       "    <tr>\n",
       "      <th>...</th>\n",
       "      <td>...</td>\n",
       "      <td>...</td>\n",
       "      <td>...</td>\n",
       "      <td>...</td>\n",
       "      <td>...</td>\n",
       "      <td>...</td>\n",
       "      <td>...</td>\n",
       "    </tr>\n",
       "    <tr>\n",
       "      <th>70378</th>\n",
       "      <td>5.0</td>\n",
       "      <td>Js bibra</td>\n",
       "      <td>the review is good anyway being an intel produ...</td>\n",
       "      <td>India</td>\n",
       "      <td>14 July 2016</td>\n",
       "      <td>Intel</td>\n",
       "      <td>Core i7 6700K BX80662I76700K Socket LGA1151</td>\n",
       "    </tr>\n",
       "    <tr>\n",
       "      <th>70379</th>\n",
       "      <td>5.0</td>\n",
       "      <td>Amazon Customer</td>\n",
       "      <td>good service by amazon,  my pros. k380 , deepc...</td>\n",
       "      <td>India</td>\n",
       "      <td>4 December 2015</td>\n",
       "      <td>Intel</td>\n",
       "      <td>Core i7 6700K BX80662I76700K Socket LGA1151</td>\n",
       "    </tr>\n",
       "    <tr>\n",
       "      <th>70380</th>\n",
       "      <td>5.0</td>\n",
       "      <td>ankur goel</td>\n",
       "      <td>Ultra fast 6th gen skylake processor , great f...</td>\n",
       "      <td>India</td>\n",
       "      <td>18 March 2016</td>\n",
       "      <td>Intel</td>\n",
       "      <td>Core i7 6700K BX80662I76700K Socket LGA1151</td>\n",
       "    </tr>\n",
       "    <tr>\n",
       "      <th>70381</th>\n",
       "      <td>5.0</td>\n",
       "      <td>SuperDrive</td>\n",
       "      <td>I have used several older models of NUC before...</td>\n",
       "      <td>the United States</td>\n",
       "      <td>11 July 2023</td>\n",
       "      <td>Intel</td>\n",
       "      <td>NUC 13 Pro NUC13ANHi7 Barebone System - Socket...</td>\n",
       "    </tr>\n",
       "    <tr>\n",
       "      <th>70382</th>\n",
       "      <td>5.0</td>\n",
       "      <td>Darwin's Dilemma</td>\n",
       "      <td>These little NUCs are great.  They are really ...</td>\n",
       "      <td>the United States</td>\n",
       "      <td>19 September 2023</td>\n",
       "      <td>Intel</td>\n",
       "      <td>NUC 13 Pro NUC13ANHi7 Barebone System - Socket...</td>\n",
       "    </tr>\n",
       "  </tbody>\n",
       "</table>\n",
       "<p>70383 rows × 7 columns</p>\n",
       "</div>"
      ],
      "text/plain": [
       "       Rating                                           Reviewer  \\\n",
       "0         5.0                                         F. Machado   \n",
       "1         5.0                                       Omar Mendoza   \n",
       "2         5.0                                         F. Machado   \n",
       "3         5.0  This processor is absolutely incredible with n...   \n",
       "4         5.0                                       yogesh Kumar   \n",
       "...       ...                                                ...   \n",
       "70378     5.0                                           Js bibra   \n",
       "70379     5.0                                    Amazon Customer   \n",
       "70380     5.0                                         ankur goel   \n",
       "70381     5.0                                         SuperDrive   \n",
       "70382     5.0                                   Darwin's Dilemma   \n",
       "\n",
       "                                                 Reviews           Location  \\\n",
       "0      Fast CPU and since I did not need the graphics...  the United States   \n",
       "1                                                  Fast.  the United States   \n",
       "2      Fast CPU and since I did not need the graphics...  the United States   \n",
       "3      This processor is absolutely incredible with n...              India   \n",
       "4      Most powerful cpu at this price bracket no dou...              India   \n",
       "...                                                  ...                ...   \n",
       "70378  the review is good anyway being an intel produ...              India   \n",
       "70379  good service by amazon,  my pros. k380 , deepc...              India   \n",
       "70380  Ultra fast 6th gen skylake processor , great f...              India   \n",
       "70381  I have used several older models of NUC before...  the United States   \n",
       "70382  These little NUCs are great.  They are really ...  the United States   \n",
       "\n",
       "                    Date  Brand  \\\n",
       "0      27 September 2022  Intel   \n",
       "1      17 September 2023  Intel   \n",
       "2      27 September 2022  Intel   \n",
       "3       3 September 2023  Intel   \n",
       "4          28 March 2023  Intel   \n",
       "...                  ...    ...   \n",
       "70378       14 July 2016  Intel   \n",
       "70379    4 December 2015  Intel   \n",
       "70380      18 March 2016  Intel   \n",
       "70381       11 July 2023  Intel   \n",
       "70382  19 September 2023  Intel   \n",
       "\n",
       "                                                   Model  \n",
       "0      Core i9 (12th Gen) i9-12900F Hexadeca-core (16...  \n",
       "1      Core i9 (12th Gen) i9-12900F Hexadeca-core (16...  \n",
       "2      Core i9 (12th Gen) i9-12900F Hexadeca-core (16...  \n",
       "3                                 Core i7-13700K Desktop  \n",
       "4                                 Core i7-13700K Desktop  \n",
       "...                                                  ...  \n",
       "70378        Core i7 6700K BX80662I76700K Socket LGA1151  \n",
       "70379        Core i7 6700K BX80662I76700K Socket LGA1151  \n",
       "70380        Core i7 6700K BX80662I76700K Socket LGA1151  \n",
       "70381  NUC 13 Pro NUC13ANHi7 Barebone System - Socket...  \n",
       "70382  NUC 13 Pro NUC13ANHi7 Barebone System - Socket...  \n",
       "\n",
       "[70383 rows x 7 columns]"
      ]
     },
     "execution_count": 8,
     "metadata": {},
     "output_type": "execute_result"
    }
   ],
   "source": [
    "# Remove rows where Model is 'N/A'\n",
    "df = df[df['Model'] != 'N/A']\n",
    "\n",
    "# Remove rows where Brand doesn't come under Intel\n",
    "intel_brands = ['Intel', 'Intel®', 'IntelCorei9-10900X', 'INTEL']\n",
    "df = df[df['Brand'].isin(intel_brands)]\n",
    "\n",
    "# Reset the index\n",
    "df.reset_index(drop=True, inplace=True)\n",
    "\n",
    "# Display the resulting DataFrame\n",
    "df"
   ]
  },
  {
   "cell_type": "code",
   "execution_count": 9,
   "metadata": {},
   "outputs": [
    {
     "data": {
      "text/html": [
       "<div>\n",
       "<style scoped>\n",
       "    .dataframe tbody tr th:only-of-type {\n",
       "        vertical-align: middle;\n",
       "    }\n",
       "\n",
       "    .dataframe tbody tr th {\n",
       "        vertical-align: top;\n",
       "    }\n",
       "\n",
       "    .dataframe thead th {\n",
       "        text-align: right;\n",
       "    }\n",
       "</style>\n",
       "<table border=\"1\" class=\"dataframe\">\n",
       "  <thead>\n",
       "    <tr style=\"text-align: right;\">\n",
       "      <th></th>\n",
       "      <th>Brand</th>\n",
       "      <th>Model</th>\n",
       "      <th>Rating</th>\n",
       "      <th>Date</th>\n",
       "      <th>Location</th>\n",
       "      <th>Reviewer</th>\n",
       "      <th>Reviews</th>\n",
       "    </tr>\n",
       "  </thead>\n",
       "  <tbody>\n",
       "    <tr>\n",
       "      <th>0</th>\n",
       "      <td>Intel</td>\n",
       "      <td>Core i9 (12th Gen) i9-12900F Hexadeca-core (16...</td>\n",
       "      <td>5.0</td>\n",
       "      <td>27 September 2022</td>\n",
       "      <td>the United States</td>\n",
       "      <td>F. Machado</td>\n",
       "      <td>Fast CPU and since I did not need the graphics...</td>\n",
       "    </tr>\n",
       "    <tr>\n",
       "      <th>1</th>\n",
       "      <td>Intel</td>\n",
       "      <td>Core i9 (12th Gen) i9-12900F Hexadeca-core (16...</td>\n",
       "      <td>5.0</td>\n",
       "      <td>17 September 2023</td>\n",
       "      <td>the United States</td>\n",
       "      <td>Omar Mendoza</td>\n",
       "      <td>Fast.</td>\n",
       "    </tr>\n",
       "    <tr>\n",
       "      <th>2</th>\n",
       "      <td>Intel</td>\n",
       "      <td>Core i9 (12th Gen) i9-12900F Hexadeca-core (16...</td>\n",
       "      <td>5.0</td>\n",
       "      <td>27 September 2022</td>\n",
       "      <td>the United States</td>\n",
       "      <td>F. Machado</td>\n",
       "      <td>Fast CPU and since I did not need the graphics...</td>\n",
       "    </tr>\n",
       "    <tr>\n",
       "      <th>3</th>\n",
       "      <td>Intel</td>\n",
       "      <td>Core i7-13700K Desktop</td>\n",
       "      <td>5.0</td>\n",
       "      <td>3 September 2023</td>\n",
       "      <td>India</td>\n",
       "      <td>This processor is absolutely incredible with n...</td>\n",
       "      <td>This processor is absolutely incredible with n...</td>\n",
       "    </tr>\n",
       "    <tr>\n",
       "      <th>4</th>\n",
       "      <td>Intel</td>\n",
       "      <td>Core i7-13700K Desktop</td>\n",
       "      <td>5.0</td>\n",
       "      <td>28 March 2023</td>\n",
       "      <td>India</td>\n",
       "      <td>yogesh Kumar</td>\n",
       "      <td>Most powerful cpu at this price bracket no dou...</td>\n",
       "    </tr>\n",
       "    <tr>\n",
       "      <th>...</th>\n",
       "      <td>...</td>\n",
       "      <td>...</td>\n",
       "      <td>...</td>\n",
       "      <td>...</td>\n",
       "      <td>...</td>\n",
       "      <td>...</td>\n",
       "      <td>...</td>\n",
       "    </tr>\n",
       "    <tr>\n",
       "      <th>70378</th>\n",
       "      <td>Intel</td>\n",
       "      <td>Core i7 6700K BX80662I76700K Socket LGA1151</td>\n",
       "      <td>5.0</td>\n",
       "      <td>14 July 2016</td>\n",
       "      <td>India</td>\n",
       "      <td>Js bibra</td>\n",
       "      <td>the review is good anyway being an intel produ...</td>\n",
       "    </tr>\n",
       "    <tr>\n",
       "      <th>70379</th>\n",
       "      <td>Intel</td>\n",
       "      <td>Core i7 6700K BX80662I76700K Socket LGA1151</td>\n",
       "      <td>5.0</td>\n",
       "      <td>4 December 2015</td>\n",
       "      <td>India</td>\n",
       "      <td>Amazon Customer</td>\n",
       "      <td>good service by amazon,  my pros. k380 , deepc...</td>\n",
       "    </tr>\n",
       "    <tr>\n",
       "      <th>70380</th>\n",
       "      <td>Intel</td>\n",
       "      <td>Core i7 6700K BX80662I76700K Socket LGA1151</td>\n",
       "      <td>5.0</td>\n",
       "      <td>18 March 2016</td>\n",
       "      <td>India</td>\n",
       "      <td>ankur goel</td>\n",
       "      <td>Ultra fast 6th gen skylake processor , great f...</td>\n",
       "    </tr>\n",
       "    <tr>\n",
       "      <th>70381</th>\n",
       "      <td>Intel</td>\n",
       "      <td>NUC 13 Pro NUC13ANHi7 Barebone System - Socket...</td>\n",
       "      <td>5.0</td>\n",
       "      <td>11 July 2023</td>\n",
       "      <td>the United States</td>\n",
       "      <td>SuperDrive</td>\n",
       "      <td>I have used several older models of NUC before...</td>\n",
       "    </tr>\n",
       "    <tr>\n",
       "      <th>70382</th>\n",
       "      <td>Intel</td>\n",
       "      <td>NUC 13 Pro NUC13ANHi7 Barebone System - Socket...</td>\n",
       "      <td>5.0</td>\n",
       "      <td>19 September 2023</td>\n",
       "      <td>the United States</td>\n",
       "      <td>Darwin's Dilemma</td>\n",
       "      <td>These little NUCs are great.  They are really ...</td>\n",
       "    </tr>\n",
       "  </tbody>\n",
       "</table>\n",
       "<p>70383 rows × 7 columns</p>\n",
       "</div>"
      ],
      "text/plain": [
       "       Brand                                              Model  Rating  \\\n",
       "0      Intel  Core i9 (12th Gen) i9-12900F Hexadeca-core (16...     5.0   \n",
       "1      Intel  Core i9 (12th Gen) i9-12900F Hexadeca-core (16...     5.0   \n",
       "2      Intel  Core i9 (12th Gen) i9-12900F Hexadeca-core (16...     5.0   \n",
       "3      Intel                             Core i7-13700K Desktop     5.0   \n",
       "4      Intel                             Core i7-13700K Desktop     5.0   \n",
       "...      ...                                                ...     ...   \n",
       "70378  Intel        Core i7 6700K BX80662I76700K Socket LGA1151     5.0   \n",
       "70379  Intel        Core i7 6700K BX80662I76700K Socket LGA1151     5.0   \n",
       "70380  Intel        Core i7 6700K BX80662I76700K Socket LGA1151     5.0   \n",
       "70381  Intel  NUC 13 Pro NUC13ANHi7 Barebone System - Socket...     5.0   \n",
       "70382  Intel  NUC 13 Pro NUC13ANHi7 Barebone System - Socket...     5.0   \n",
       "\n",
       "                    Date           Location  \\\n",
       "0      27 September 2022  the United States   \n",
       "1      17 September 2023  the United States   \n",
       "2      27 September 2022  the United States   \n",
       "3       3 September 2023              India   \n",
       "4          28 March 2023              India   \n",
       "...                  ...                ...   \n",
       "70378       14 July 2016              India   \n",
       "70379    4 December 2015              India   \n",
       "70380      18 March 2016              India   \n",
       "70381       11 July 2023  the United States   \n",
       "70382  19 September 2023  the United States   \n",
       "\n",
       "                                                Reviewer  \\\n",
       "0                                             F. Machado   \n",
       "1                                           Omar Mendoza   \n",
       "2                                             F. Machado   \n",
       "3      This processor is absolutely incredible with n...   \n",
       "4                                           yogesh Kumar   \n",
       "...                                                  ...   \n",
       "70378                                           Js bibra   \n",
       "70379                                    Amazon Customer   \n",
       "70380                                         ankur goel   \n",
       "70381                                         SuperDrive   \n",
       "70382                                   Darwin's Dilemma   \n",
       "\n",
       "                                                 Reviews  \n",
       "0      Fast CPU and since I did not need the graphics...  \n",
       "1                                                  Fast.  \n",
       "2      Fast CPU and since I did not need the graphics...  \n",
       "3      This processor is absolutely incredible with n...  \n",
       "4      Most powerful cpu at this price bracket no dou...  \n",
       "...                                                  ...  \n",
       "70378  the review is good anyway being an intel produ...  \n",
       "70379  good service by amazon,  my pros. k380 , deepc...  \n",
       "70380  Ultra fast 6th gen skylake processor , great f...  \n",
       "70381  I have used several older models of NUC before...  \n",
       "70382  These little NUCs are great.  They are really ...  \n",
       "\n",
       "[70383 rows x 7 columns]"
      ]
     },
     "execution_count": 9,
     "metadata": {},
     "output_type": "execute_result"
    }
   ],
   "source": [
    "# Rearrange the columns\n",
    "df = df[['Brand', 'Model', 'Rating', 'Date', 'Location','Reviewer','Reviews']]\n",
    "df"
   ]
  },
  {
   "cell_type": "code",
   "execution_count": null,
   "metadata": {},
   "outputs": [],
   "source": []
  },
  {
   "cell_type": "code",
   "execution_count": null,
   "metadata": {},
   "outputs": [],
   "source": []
  },
  {
   "cell_type": "markdown",
   "metadata": {},
   "source": [
    "### Data Exploration"
   ]
  },
  {
   "cell_type": "code",
   "execution_count": 10,
   "metadata": {},
   "outputs": [
    {
     "name": "stdout",
     "output_type": "stream",
     "text": [
      "Summary statistics of numerical features:\n",
      "              Rating\n",
      "count  70383.000000\n",
      "mean       4.427390\n",
      "std        1.224546\n",
      "min        1.000000\n",
      "25%        5.000000\n",
      "50%        5.000000\n",
      "75%        5.000000\n",
      "max        5.000000\n",
      "\n",
      "Total number of reviews: 70383\n",
      "\n",
      "Total number of unique products: 102\n",
      "\n",
      "Percentage of reviews with neutral sentiment: 3.27%\n",
      "\n",
      "Percentage of reviews with positive sentiment: 84.88%\n",
      "\n",
      "Percentage of reviews with negative sentiment: 10.86%\n"
     ]
    }
   ],
   "source": [
    "# Summary statistics of numerical features\n",
    "print(\"Summary statistics of numerical features:\\n\", df.describe())\n",
    "\n",
    "# Total number of reviews\n",
    "total_reviews = len(df)\n",
    "print(\"\\nTotal number of reviews:\", total_reviews)\n",
    "\n",
    "# Total number of unique products\n",
    "unique_products = len(df['Model'].unique())\n",
    "print(\"\\nTotal number of unique products:\", unique_products)\n",
    "\n",
    "# Percentage of reviews with neutral sentiment\n",
    "neutral_percentage = (df[df['Rating'] == 3][\"Reviews\"].count() / total_reviews) * 100\n",
    "print(\"\\nPercentage of reviews with neutral sentiment: {:.2f}%\".format(neutral_percentage))\n",
    "\n",
    "# Percentage of reviews with positive sentiment\n",
    "positive_percentage = (df[df['Rating'] > 3][\"Reviews\"].count() / total_reviews) * 100\n",
    "print(\"\\nPercentage of reviews with positive sentiment: {:.2f}%\".format(positive_percentage))\n",
    "\n",
    "# Percentage of reviews with negative sentiment\n",
    "negative_percentage = (df[df['Rating'] < 3][\"Reviews\"].count() / total_reviews) * 100\n",
    "print(\"\\nPercentage of reviews with negative sentiment: {:.2f}%\".format(negative_percentage))\n"
   ]
  },
  {
   "cell_type": "markdown",
   "metadata": {},
   "source": [
    "### Data Visualization "
   ]
  },
  {
   "cell_type": "code",
   "execution_count": 11,
   "metadata": {
    "collapsed": false,
    "jupyter": {
     "outputs_hidden": false
    }
   },
   "outputs": [
    {
     "data": {
      "text/plain": [
       "Text(0, 0.5, 'Count')"
      ]
     },
     "execution_count": 11,
     "metadata": {},
     "output_type": "execute_result"
    },
    {
     "data": {
      "image/png": "[encoded data removed]",
      "text/plain": [
       "<Figure size 1200x800 with 1 Axes>"
      ]
     },
     "metadata": {},
     "output_type": "display_data"
    }
   ],
   "source": [
    "# Plot distribution of rating\n",
    "plt.figure(figsize=(12,8))\n",
    "# sns.countplot(df['Rating'])\n",
    "df['Rating'].value_counts().sort_index().plot(kind='bar')\n",
    "plt.title('Distribution of Rating')\n",
    "plt.xlabel('Rating')\n",
    "plt.ylabel('Count')"
   ]
  },
  {
   "cell_type": "code",
   "execution_count": 12,
   "metadata": {
    "collapsed": false,
    "jupyter": {
     "outputs_hidden": false
    }
   },
   "outputs": [
    {
     "data": {
      "text/plain": [
       "Text(0.5, 1.0, 'Number of Reviews for Top 20 Highest-Reviewed Products')"
      ]
     },
     "execution_count": 12,
     "metadata": {},
     "output_type": "execute_result"
    },
    {
     "data": {
      "image/png": "[encoded data removed]",
      "text/plain": [
       "<Figure size 1200x800 with 1 Axes>"
      ]
     },
     "metadata": {},
     "output_type": "display_data"
    }
   ],
   "source": [
    "# Plot number of reviews for top 20 brands\n",
    "brands = df[\"Model\"].value_counts()\n",
    "# brands.count()\n",
    "plt.figure(figsize=(12,8))\n",
    "brands[:20].plot(kind='bar')\n",
    "plt.title(\"Number of Reviews for Top 20 Highest-Reviewed Products\")"
   ]
  },
  {
   "cell_type": "code",
   "execution_count": 13,
   "metadata": {
    "collapsed": false,
    "jupyter": {
     "outputs_hidden": false
    }
   },
   "outputs": [
    {
     "data": {
      "text/plain": [
       "Text(0.5, 1.0, 'Number of Reviews for Top 50 Highest-Reviewed Products')"
      ]
     },
     "execution_count": 13,
     "metadata": {},
     "output_type": "execute_result"
    },
    {
     "data": {
      "image/png": "[encoded data removed]",
      "text/plain": [
       "<Figure size 1200x800 with 1 Axes>"
      ]
     },
     "metadata": {},
     "output_type": "display_data"
    }
   ],
   "source": [
    "# Plot number of reviews for top 50 products\n",
    "products = df[\"Model\"].value_counts()\n",
    "plt.figure(figsize=(12,8))\n",
    "products[:50].plot(kind='bar')\n",
    "plt.title(\"Number of Reviews for Top 50 Highest-Reviewed Products\")"
   ]
  },
  {
   "cell_type": "code",
   "execution_count": 14,
   "metadata": {
    "collapsed": false,
    "jupyter": {
     "outputs_hidden": false
    }
   },
   "outputs": [
    {
     "data": {
      "text/plain": [
       "Text(0, 0.5, 'Count')"
      ]
     },
     "execution_count": 14,
     "metadata": {},
     "output_type": "execute_result"
    },
    {
     "data": {
      "image/png": "[encoded data removed]",
      "text/plain": [
       "<Figure size 1200x800 with 1 Axes>"
      ]
     },
     "metadata": {},
     "output_type": "display_data"
    }
   ],
   "source": [
    "# Plot distribution of review length\n",
    "review_length = df[\"Reviews\"].dropna().map(lambda x: len(x))\n",
    "plt.figure(figsize=(12,8))\n",
    "review_length.loc[review_length < 1500].hist()\n",
    "plt.title(\"Distribution of Review Length\")\n",
    "plt.xlabel('Review length (Number of character)')\n",
    "plt.ylabel('Count')"
   ]
  },
  {
   "cell_type": "markdown",
   "metadata": {},
   "source": [
    "---\n",
    "<a id=\"part2\"></a>\n",
    "## Part 2. Data Preparation"
   ]
  },
  {
   "cell_type": "markdown",
   "metadata": {},
   "source": [
    "For illustrative purpose, I use only 10% of the data in this project. To simply the problem, I only consider reviews with positive sentiment (rating = 4, 5) and negative sentiment (rating = 1, 2), and drop reviews with neutral sentiment (rating 3). \n"
   ]
  },
  {
   "cell_type": "markdown",
   "metadata": {},
   "source": [
    "### Prepare Data"
   ]
  },
  {
   "cell_type": "code",
   "execution_count": 15,
   "metadata": {
    "collapsed": false,
    "jupyter": {
     "outputs_hidden": false
    }
   },
   "outputs": [
    {
     "data": {
      "text/html": [
       "<div>\n",
       "<style scoped>\n",
       "    .dataframe tbody tr th:only-of-type {\n",
       "        vertical-align: middle;\n",
       "    }\n",
       "\n",
       "    .dataframe tbody tr th {\n",
       "        vertical-align: top;\n",
       "    }\n",
       "\n",
       "    .dataframe thead th {\n",
       "        text-align: right;\n",
       "    }\n",
       "</style>\n",
       "<table border=\"1\" class=\"dataframe\">\n",
       "  <thead>\n",
       "    <tr style=\"text-align: right;\">\n",
       "      <th></th>\n",
       "      <th>Brand</th>\n",
       "      <th>Model</th>\n",
       "      <th>Rating</th>\n",
       "      <th>Date</th>\n",
       "      <th>Location</th>\n",
       "      <th>Reviewer</th>\n",
       "      <th>Reviews</th>\n",
       "      <th>Sentiment</th>\n",
       "    </tr>\n",
       "  </thead>\n",
       "  <tbody>\n",
       "    <tr>\n",
       "      <th>34947</th>\n",
       "      <td>Intel</td>\n",
       "      <td>Core i3-14100F Desktop</td>\n",
       "      <td>5.0</td>\n",
       "      <td>14 April 2024</td>\n",
       "      <td>the United States</td>\n",
       "      <td>Leroy Dodd</td>\n",
       "      <td>The processor can in fine. I thought I was bei...</td>\n",
       "      <td>1</td>\n",
       "    </tr>\n",
       "    <tr>\n",
       "      <th>38571</th>\n",
       "      <td>Intel</td>\n",
       "      <td>7th Gen Intel Core Desktop</td>\n",
       "      <td>5.0</td>\n",
       "      <td>8 September 2017</td>\n",
       "      <td>India</td>\n",
       "      <td>Amazon Customer</td>\n",
       "      <td>Good</td>\n",
       "      <td>1</td>\n",
       "    </tr>\n",
       "    <tr>\n",
       "      <th>61373</th>\n",
       "      <td>Intel®</td>\n",
       "      <td>Core™ i7-14700KF New Gaming Desktop</td>\n",
       "      <td>1.0</td>\n",
       "      <td>28 March 2024</td>\n",
       "      <td>India</td>\n",
       "      <td>Sumit Kumar</td>\n",
       "      <td>I don't liked the price of it .</td>\n",
       "      <td>0</td>\n",
       "    </tr>\n",
       "    <tr>\n",
       "      <th>18413</th>\n",
       "      <td>Intel</td>\n",
       "      <td>Core i7-13700KF Gaming Desktop</td>\n",
       "      <td>5.0</td>\n",
       "      <td>24 January 2024</td>\n",
       "      <td>the United States</td>\n",
       "      <td>elba</td>\n",
       "      <td>The Intel Core i7-13700KF Gaming Desktop Proce...</td>\n",
       "      <td>1</td>\n",
       "    </tr>\n",
       "    <tr>\n",
       "      <th>47418</th>\n",
       "      <td>Intel®</td>\n",
       "      <td>Core™ i9-14900K New Gaming Desktop</td>\n",
       "      <td>5.0</td>\n",
       "      <td>11 March 2024</td>\n",
       "      <td>France</td>\n",
       "      <td>Stéphanie MAYRAND</td>\n",
       "      <td>Le processeur haut de gamme du moment, par Int...</td>\n",
       "      <td>1</td>\n",
       "    </tr>\n",
       "  </tbody>\n",
       "</table>\n",
       "</div>"
      ],
      "text/plain": [
       "        Brand                                Model  Rating              Date  \\\n",
       "34947   Intel               Core i3-14100F Desktop     5.0     14 April 2024   \n",
       "38571   Intel           7th Gen Intel Core Desktop     5.0  8 September 2017   \n",
       "61373  Intel®  Core™ i7-14700KF New Gaming Desktop     1.0     28 March 2024   \n",
       "18413   Intel       Core i7-13700KF Gaming Desktop     5.0   24 January 2024   \n",
       "47418  Intel®   Core™ i9-14900K New Gaming Desktop     5.0     11 March 2024   \n",
       "\n",
       "                Location           Reviewer  \\\n",
       "34947  the United States         Leroy Dodd   \n",
       "38571              India    Amazon Customer   \n",
       "61373              India        Sumit Kumar   \n",
       "18413  the United States               elba   \n",
       "47418             France  Stéphanie MAYRAND   \n",
       "\n",
       "                                                 Reviews  Sentiment  \n",
       "34947  The processor can in fine. I thought I was bei...          1  \n",
       "38571                                               Good          1  \n",
       "61373                    I don't liked the price of it .          0  \n",
       "18413  The Intel Core i7-13700KF Gaming Desktop Proce...          1  \n",
       "47418  Le processeur haut de gamme du moment, par Int...          1  "
      ]
     },
     "execution_count": 15,
     "metadata": {},
     "output_type": "execute_result"
    }
   ],
   "source": [
    "df = df.sample(frac=0.1, random_state=0) #uncomment to use full set of data\n",
    "\n",
    "# Drop missing values\n",
    "df.dropna(inplace=True)\n",
    "\n",
    "# Remove any 'neutral' ratings equal to 3\n",
    "df = df[df['Rating'] != 3]\n",
    "\n",
    "# Encode 4s and 5s as 1 (positive sentiment) and 1s and 2s as 0 (negative sentiment)\n",
    "df['Sentiment'] = np.where(df['Rating'] > 3, 1, 0)\n",
    "df.head()"
   ]
  },
  {
   "cell_type": "markdown",
   "metadata": {},
   "source": [
    "### Train Test Split "
   ]
  },
  {
   "cell_type": "code",
   "execution_count": 16,
   "metadata": {
    "collapsed": false,
    "jupyter": {
     "outputs_hidden": false
    }
   },
   "outputs": [
    {
     "name": "stdout",
     "output_type": "stream",
     "text": [
      "Load 6060 training examples and 674 validation examples. \n",
      "\n",
      "Show a review in the training set : \n",
      " This processor is all-rounder for every tasks you do on PC from small to CPU intensive applications. If you are looking for vast performance with heavy production tasks this is very nice to have. Best to use with Motherboard DDR5 and PCI-E 5.0 supported motherboards.\n"
     ]
    }
   ],
   "source": [
    "# Split data into training set and validation\n",
    "X_train, X_test, y_train, y_test = train_test_split(df['Reviews'], df['Sentiment'], \\\n",
    "                                                    test_size=0.1, random_state=0)\n",
    "\n",
    "print('Load %d training examples and %d validation examples. \\n' %(X_train.shape[0],X_test.shape[0]))\n",
    "print('Show a review in the training set : \\n', X_train.iloc[10])"
   ]
  },
  {
   "cell_type": "markdown",
   "metadata": {},
   "source": [
    "---\n",
    "<a id=\"part3\"></a>\n",
    "## Part 3. Bag of Words"
   ]
  },
  {
   "cell_type": "markdown",
   "metadata": {},
   "source": [
    "The goal of this project is to classify the reviews into positive and negative sentiment. There are two main steps involved. First, we need to find a word embedding to convert a text into a numerical representation. Second, we fit the numerical representations of text to machine learning algorithms or deep learning architectures.\n",
    "\n",
    "One common approach of word embedding is frequency based embedding such as Bag of Words (BoW) model. BoW model learns a vocubulary list from a given corpus and represents each document based on some counting methods of words. In this part, we will explore the model performance of using BoW with supervised learning algorithms. Here's the workflow in this part.\n",
    "\n",
    "* Step 1 : Preprocess raw reviews to cleaned reviews\n",
    "* Step 2 : Create BoW using CountVectorizer / Tfidfvectorizer in sklearn\n",
    "* Step 3 : Transform review text to numerical representations (feature vectors)\n",
    "* Step 4 : Fit feature vectors to supervised learning algorithm (eg. Naive Bayes, Logistic regression, etc.)\n",
    "* Step 5 : Improve the model performance by GridSearch"
   ]
  },
  {
   "cell_type": "markdown",
   "metadata": {},
   "source": [
    "### Text Preprocessing"
   ]
  },
  {
   "cell_type": "markdown",
   "metadata": {},
   "source": [
    "The following text preprocessing are implemented to convert raw reviews to cleaned review, so that it will be easier for us to do feature extraction in the next step.\n",
    "* remove html tags using BeautifulSoup\n",
    "* remove non-character such as digits and symbols\n",
    "* convert to lower case\n",
    "* remove stop words such as \"the\" and \"and\" if needed\n",
    "* convert to root words by stemming if needed"
   ]
  },
  {
   "cell_type": "code",
   "execution_count": 27,
   "metadata": {},
   "outputs": [],
   "source": [
    "def cleanText(raw_text, remove_stopwords=False, stemming=False, split_text=False, \\\n",
    "             ):\n",
    "    '''\n",
    "    Convert a raw review to a cleaned review\n",
    "    '''\n",
    "    text = BeautifulSoup(raw_text, 'lxml').get_text()  #remove html\n",
    "    letters_only = re.sub(\"[^a-zA-Z]\", \" \", text)  # remove non-character\n",
    "    words = letters_only.lower().split() # convert to lower case \n",
    "    \n",
    "    if remove_stopwords: # remove stopword\n",
    "        stops = set(stopwords.words(\"english\"))\n",
    "        words = [w for w in words if not w in stops]\n",
    "        \n",
    "    if stemming==True: # stemming\n",
    "#         stemmer = PorterStemmer()\n",
    "        stemmer = SnowballStemmer('english') \n",
    "        words = [stemmer.stem(w) for w in words]\n",
    "        \n",
    "    if split_text==True:  # split text\n",
    "        return (words)\n",
    "    \n",
    "    return( \" \".join(words)) "
   ]
  },
  {
   "cell_type": "code",
   "execution_count": 18,
   "metadata": {},
   "outputs": [
    {
     "name": "stderr",
     "output_type": "stream",
     "text": [
      "C:\\Users\\garvb\\AppData\\Local\\Temp\\ipykernel_26108\\2912041083.py:8: MarkupResemblesLocatorWarning: The input looks more like a filename than markup. You may want to open this file and pass the filehandle into Beautiful Soup.\n",
      "  text = BeautifulSoup(raw_text, 'lxml').get_text()\n"
     ]
    },
    {
     "name": "stdout",
     "output_type": "stream",
     "text": [
      "Show a cleaned review in the training set : \n",
      " This processor is all-rounder for every tasks you do on PC from small to CPU intensive applications. If you are looking for vast performance with heavy production tasks this is very nice to have. Best to use with Motherboard DDR5 and PCI-E 5.0 supported motherboards.\n"
     ]
    }
   ],
   "source": [
    "from bs4 import BeautifulSoup\n",
    "import numpy as np\n",
    "\n",
    "# Assuming X_train and X_test are lists of text data\n",
    "# Define a function to clean text data\n",
    "def cleanText(raw_text):\n",
    "    # Remove HTML tags\n",
    "    text = BeautifulSoup(raw_text, 'lxml').get_text()\n",
    "    # Add more text cleaning steps as needed\n",
    "    return text\n",
    "\n",
    "# Preprocess text data in training set and validation set\n",
    "X_train_cleaned = []\n",
    "X_test_cleaned = []\n",
    "\n",
    "for d in X_train:\n",
    "    X_train_cleaned.append(cleanText(d))\n",
    "print('Show a cleaned review in the training set : \\n',  X_train_cleaned[10])\n",
    "    \n",
    "for d in X_test:\n",
    "    X_test_cleaned.append(cleanText(d))\n"
   ]
  },
  {
   "cell_type": "markdown",
   "metadata": {},
   "source": [
    "### CountVectorizer with Mulinomial Naive Bayes (Benchmark Model)"
   ]
  },
  {
   "cell_type": "markdown",
   "metadata": {},
   "source": [
    "Now we have cleaned reviews, the next step is to convert the reviews into numerical representations for machine learning algorithm. \n",
    "\n",
    "In sklearn library, we can use CountVectorizer which implements both tokenization and occurrence counting in a single class. The output is a sparse matrix representation of a document."
   ]
  },
  {
   "cell_type": "code",
   "execution_count": 19,
   "metadata": {
    "collapsed": false,
    "jupyter": {
     "outputs_hidden": false
    }
   },
   "outputs": [
    {
     "name": "stdout",
     "output_type": "stream",
     "text": [
      "Number of features : 5111 \n",
      "\n",
      "Show some feature names : \n",
      " ['000' 'capabilities' 'fungerar' 'nervous' 'seeing' 'youtube']\n"
     ]
    },
    {
     "data": {
      "text/html": [
       "<style>#sk-container-id-1 {\n",
       "  /* Definition of color scheme common for light and dark mode */\n",
       "  --sklearn-color-text: black;\n",
       "  --sklearn-color-line: gray;\n",
       "  /* Definition of color scheme for unfitted estimators */\n",
       "  --sklearn-color-unfitted-level-0: #fff5e6;\n",
       "  --sklearn-color-unfitted-level-1: #f6e4d2;\n",
       "  --sklearn-color-unfitted-level-2: #ffe0b3;\n",
       "  --sklearn-color-unfitted-level-3: chocolate;\n",
       "  /* Definition of color scheme for fitted estimators */\n",
       "  --sklearn-color-fitted-level-0: #f0f8ff;\n",
       "  --sklearn-color-fitted-level-1: #d4ebff;\n",
       "  --sklearn-color-fitted-level-2: #b3dbfd;\n",
       "  --sklearn-color-fitted-level-3: cornflowerblue;\n",
       "\n",
       "  /* Specific color for light theme */\n",
       "  --sklearn-color-text-on-default-background: var(--sg-text-color, var(--theme-code-foreground, var(--jp-content-font-color1, black)));\n",
       "  --sklearn-color-background: var(--sg-background-color, var(--theme-background, var(--jp-layout-color0, white)));\n",
       "  --sklearn-color-border-box: var(--sg-text-color, var(--theme-code-foreground, var(--jp-content-font-color1, black)));\n",
       "  --sklearn-color-icon: #696969;\n",
       "\n",
       "  @media (prefers-color-scheme: dark) {\n",
       "    /* Redefinition of color scheme for dark theme */\n",
       "    --sklearn-color-text-on-default-background: var(--sg-text-color, var(--theme-code-foreground, var(--jp-content-font-color1, white)));\n",
       "    --sklearn-color-background: var(--sg-background-color, var(--theme-background, var(--jp-layout-color0, #111)));\n",
       "    --sklearn-color-border-box: var(--sg-text-color, var(--theme-code-foreground, var(--jp-content-font-color1, white)));\n",
       "    --sklearn-color-icon: #878787;\n",
       "  }\n",
       "}\n",
       "\n",
       "#sk-container-id-1 {\n",
       "  color: var(--sklearn-color-text);\n",
       "}\n",
       "\n",
       "#sk-container-id-1 pre {\n",
       "  padding: 0;\n",
       "}\n",
       "\n",
       "#sk-container-id-1 input.sk-hidden--visually {\n",
       "  border: 0;\n",
       "  clip: rect(1px 1px 1px 1px);\n",
       "  clip: rect(1px, 1px, 1px, 1px);\n",
       "  height: 1px;\n",
       "  margin: -1px;\n",
       "  overflow: hidden;\n",
       "  padding: 0;\n",
       "  position: absolute;\n",
       "  width: 1px;\n",
       "}\n",
       "\n",
       "#sk-container-id-1 div.sk-dashed-wrapped {\n",
       "  border: 1px dashed var(--sklearn-color-line);\n",
       "  margin: 0 0.4em 0.5em 0.4em;\n",
       "  box-sizing: border-box;\n",
       "  padding-bottom: 0.4em;\n",
       "  background-color: var(--sklearn-color-background);\n",
       "}\n",
       "\n",
       "#sk-container-id-1 div.sk-container {\n",
       "  /* jupyter's `normalize.less` sets `[hidden] { display: none; }`\n",
       "     but bootstrap.min.css set `[hidden] { display: none !important; }`\n",
       "     so we also need the `!important` here to be able to override the\n",
       "     default hidden behavior on the sphinx rendered scikit-learn.org.\n",
       "     See: https://github.com/scikit-learn/scikit-learn/issues/21755 */\n",
       "  display: inline-block !important;\n",
       "  position: relative;\n",
       "}\n",
       "\n",
       "#sk-container-id-1 div.sk-text-repr-fallback {\n",
       "  display: none;\n",
       "}\n",
       "\n",
       "div.sk-parallel-item,\n",
       "div.sk-serial,\n",
       "div.sk-item {\n",
       "  /* draw centered vertical line to link estimators */\n",
       "  background-image: linear-gradient(var(--sklearn-color-text-on-default-background), var(--sklearn-color-text-on-default-background));\n",
       "  background-size: 2px 100%;\n",
       "  background-repeat: no-repeat;\n",
       "  background-position: center center;\n",
       "}\n",
       "\n",
       "/* Parallel-specific style estimator block */\n",
       "\n",
       "#sk-container-id-1 div.sk-parallel-item::after {\n",
       "  content: \"\";\n",
       "  width: 100%;\n",
       "  border-bottom: 2px solid var(--sklearn-color-text-on-default-background);\n",
       "  flex-grow: 1;\n",
       "}\n",
       "\n",
       "#sk-container-id-1 div.sk-parallel {\n",
       "  display: flex;\n",
       "  align-items: stretch;\n",
       "  justify-content: center;\n",
       "  background-color: var(--sklearn-color-background);\n",
       "  position: relative;\n",
       "}\n",
       "\n",
       "#sk-container-id-1 div.sk-parallel-item {\n",
       "  display: flex;\n",
       "  flex-direction: column;\n",
       "}\n",
       "\n",
       "#sk-container-id-1 div.sk-parallel-item:first-child::after {\n",
       "  align-self: flex-end;\n",
       "  width: 50%;\n",
       "}\n",
       "\n",
       "#sk-container-id-1 div.sk-parallel-item:last-child::after {\n",
       "  align-self: flex-start;\n",
       "  width: 50%;\n",
       "}\n",
       "\n",
       "#sk-container-id-1 div.sk-parallel-item:only-child::after {\n",
       "  width: 0;\n",
       "}\n",
       "\n",
       "/* Serial-specific style estimator block */\n",
       "\n",
       "#sk-container-id-1 div.sk-serial {\n",
       "  display: flex;\n",
       "  flex-direction: column;\n",
       "  align-items: center;\n",
       "  background-color: var(--sklearn-color-background);\n",
       "  padding-right: 1em;\n",
       "  padding-left: 1em;\n",
       "}\n",
       "\n",
       "\n",
       "/* Toggleable style: style used for estimator/Pipeline/ColumnTransformer box that is\n",
       "clickable and can be expanded/collapsed.\n",
       "- Pipeline and ColumnTransformer use this feature and define the default style\n",
       "- Estimators will overwrite some part of the style using the `sk-estimator` class\n",
       "*/\n",
       "\n",
       "/* Pipeline and ColumnTransformer style (default) */\n",
       "\n",
       "#sk-container-id-1 div.sk-toggleable {\n",
       "  /* Default theme specific background. It is overwritten whether we have a\n",
       "  specific estimator or a Pipeline/ColumnTransformer */\n",
       "  background-color: var(--sklearn-color-background);\n",
       "}\n",
       "\n",
       "/* Toggleable label */\n",
       "#sk-container-id-1 label.sk-toggleable__label {\n",
       "  cursor: pointer;\n",
       "  display: block;\n",
       "  width: 100%;\n",
       "  margin-bottom: 0;\n",
       "  padding: 0.5em;\n",
       "  box-sizing: border-box;\n",
       "  text-align: center;\n",
       "}\n",
       "\n",
       "#sk-container-id-1 label.sk-toggleable__label-arrow:before {\n",
       "  /* Arrow on the left of the label */\n",
       "  content: \"▸\";\n",
       "  float: left;\n",
       "  margin-right: 0.25em;\n",
       "  color: var(--sklearn-color-icon);\n",
       "}\n",
       "\n",
       "#sk-container-id-1 label.sk-toggleable__label-arrow:hover:before {\n",
       "  color: var(--sklearn-color-text);\n",
       "}\n",
       "\n",
       "/* Toggleable content - dropdown */\n",
       "\n",
       "#sk-container-id-1 div.sk-toggleable__content {\n",
       "  max-height: 0;\n",
       "  max-width: 0;\n",
       "  overflow: hidden;\n",
       "  text-align: left;\n",
       "  /* unfitted */\n",
       "  background-color: var(--sklearn-color-unfitted-level-0);\n",
       "}\n",
       "\n",
       "#sk-container-id-1 div.sk-toggleable__content.fitted {\n",
       "  /* fitted */\n",
       "  background-color: var(--sklearn-color-fitted-level-0);\n",
       "}\n",
       "\n",
       "#sk-container-id-1 div.sk-toggleable__content pre {\n",
       "  margin: 0.2em;\n",
       "  border-radius: 0.25em;\n",
       "  color: var(--sklearn-color-text);\n",
       "  /* unfitted */\n",
       "  background-color: var(--sklearn-color-unfitted-level-0);\n",
       "}\n",
       "\n",
       "#sk-container-id-1 div.sk-toggleable__content.fitted pre {\n",
       "  /* unfitted */\n",
       "  background-color: var(--sklearn-color-fitted-level-0);\n",
       "}\n",
       "\n",
       "#sk-container-id-1 input.sk-toggleable__control:checked~div.sk-toggleable__content {\n",
       "  /* Expand drop-down */\n",
       "  max-height: 200px;\n",
       "  max-width: 100%;\n",
       "  overflow: auto;\n",
       "}\n",
       "\n",
       "#sk-container-id-1 input.sk-toggleable__control:checked~label.sk-toggleable__label-arrow:before {\n",
       "  content: \"▾\";\n",
       "}\n",
       "\n",
       "/* Pipeline/ColumnTransformer-specific style */\n",
       "\n",
       "#sk-container-id-1 div.sk-label input.sk-toggleable__control:checked~label.sk-toggleable__label {\n",
       "  color: var(--sklearn-color-text);\n",
       "  background-color: var(--sklearn-color-unfitted-level-2);\n",
       "}\n",
       "\n",
       "#sk-container-id-1 div.sk-label.fitted input.sk-toggleable__control:checked~label.sk-toggleable__label {\n",
       "  background-color: var(--sklearn-color-fitted-level-2);\n",
       "}\n",
       "\n",
       "/* Estimator-specific style */\n",
       "\n",
       "/* Colorize estimator box */\n",
       "#sk-container-id-1 div.sk-estimator input.sk-toggleable__control:checked~label.sk-toggleable__label {\n",
       "  /* unfitted */\n",
       "  background-color: var(--sklearn-color-unfitted-level-2);\n",
       "}\n",
       "\n",
       "#sk-container-id-1 div.sk-estimator.fitted input.sk-toggleable__control:checked~label.sk-toggleable__label {\n",
       "  /* fitted */\n",
       "  background-color: var(--sklearn-color-fitted-level-2);\n",
       "}\n",
       "\n",
       "#sk-container-id-1 div.sk-label label.sk-toggleable__label,\n",
       "#sk-container-id-1 div.sk-label label {\n",
       "  /* The background is the default theme color */\n",
       "  color: var(--sklearn-color-text-on-default-background);\n",
       "}\n",
       "\n",
       "/* On hover, darken the color of the background */\n",
       "#sk-container-id-1 div.sk-label:hover label.sk-toggleable__label {\n",
       "  color: var(--sklearn-color-text);\n",
       "  background-color: var(--sklearn-color-unfitted-level-2);\n",
       "}\n",
       "\n",
       "/* Label box, darken color on hover, fitted */\n",
       "#sk-container-id-1 div.sk-label.fitted:hover label.sk-toggleable__label.fitted {\n",
       "  color: var(--sklearn-color-text);\n",
       "  background-color: var(--sklearn-color-fitted-level-2);\n",
       "}\n",
       "\n",
       "/* Estimator label */\n",
       "\n",
       "#sk-container-id-1 div.sk-label label {\n",
       "  font-family: monospace;\n",
       "  font-weight: bold;\n",
       "  display: inline-block;\n",
       "  line-height: 1.2em;\n",
       "}\n",
       "\n",
       "#sk-container-id-1 div.sk-label-container {\n",
       "  text-align: center;\n",
       "}\n",
       "\n",
       "/* Estimator-specific */\n",
       "#sk-container-id-1 div.sk-estimator {\n",
       "  font-family: monospace;\n",
       "  border: 1px dotted var(--sklearn-color-border-box);\n",
       "  border-radius: 0.25em;\n",
       "  box-sizing: border-box;\n",
       "  margin-bottom: 0.5em;\n",
       "  /* unfitted */\n",
       "  background-color: var(--sklearn-color-unfitted-level-0);\n",
       "}\n",
       "\n",
       "#sk-container-id-1 div.sk-estimator.fitted {\n",
       "  /* fitted */\n",
       "  background-color: var(--sklearn-color-fitted-level-0);\n",
       "}\n",
       "\n",
       "/* on hover */\n",
       "#sk-container-id-1 div.sk-estimator:hover {\n",
       "  /* unfitted */\n",
       "  background-color: var(--sklearn-color-unfitted-level-2);\n",
       "}\n",
       "\n",
       "#sk-container-id-1 div.sk-estimator.fitted:hover {\n",
       "  /* fitted */\n",
       "  background-color: var(--sklearn-color-fitted-level-2);\n",
       "}\n",
       "\n",
       "/* Specification for estimator info (e.g. \"i\" and \"?\") */\n",
       "\n",
       "/* Common style for \"i\" and \"?\" */\n",
       "\n",
       ".sk-estimator-doc-link,\n",
       "a:link.sk-estimator-doc-link,\n",
       "a:visited.sk-estimator-doc-link {\n",
       "  float: right;\n",
       "  font-size: smaller;\n",
       "  line-height: 1em;\n",
       "  font-family: monospace;\n",
       "  background-color: var(--sklearn-color-background);\n",
       "  border-radius: 1em;\n",
       "  height: 1em;\n",
       "  width: 1em;\n",
       "  text-decoration: none !important;\n",
       "  margin-left: 1ex;\n",
       "  /* unfitted */\n",
       "  border: var(--sklearn-color-unfitted-level-1) 1pt solid;\n",
       "  color: var(--sklearn-color-unfitted-level-1);\n",
       "}\n",
       "\n",
       ".sk-estimator-doc-link.fitted,\n",
       "a:link.sk-estimator-doc-link.fitted,\n",
       "a:visited.sk-estimator-doc-link.fitted {\n",
       "  /* fitted */\n",
       "  border: var(--sklearn-color-fitted-level-1) 1pt solid;\n",
       "  color: var(--sklearn-color-fitted-level-1);\n",
       "}\n",
       "\n",
       "/* On hover */\n",
       "div.sk-estimator:hover .sk-estimator-doc-link:hover,\n",
       ".sk-estimator-doc-link:hover,\n",
       "div.sk-label-container:hover .sk-estimator-doc-link:hover,\n",
       ".sk-estimator-doc-link:hover {\n",
       "  /* unfitted */\n",
       "  background-color: var(--sklearn-color-unfitted-level-3);\n",
       "  color: var(--sklearn-color-background);\n",
       "  text-decoration: none;\n",
       "}\n",
       "\n",
       "div.sk-estimator.fitted:hover .sk-estimator-doc-link.fitted:hover,\n",
       ".sk-estimator-doc-link.fitted:hover,\n",
       "div.sk-label-container:hover .sk-estimator-doc-link.fitted:hover,\n",
       ".sk-estimator-doc-link.fitted:hover {\n",
       "  /* fitted */\n",
       "  background-color: var(--sklearn-color-fitted-level-3);\n",
       "  color: var(--sklearn-color-background);\n",
       "  text-decoration: none;\n",
       "}\n",
       "\n",
       "/* Span, style for the box shown on hovering the info icon */\n",
       ".sk-estimator-doc-link span {\n",
       "  display: none;\n",
       "  z-index: 9999;\n",
       "  position: relative;\n",
       "  font-weight: normal;\n",
       "  right: .2ex;\n",
       "  padding: .5ex;\n",
       "  margin: .5ex;\n",
       "  width: min-content;\n",
       "  min-width: 20ex;\n",
       "  max-width: 50ex;\n",
       "  color: var(--sklearn-color-text);\n",
       "  box-shadow: 2pt 2pt 4pt #999;\n",
       "  /* unfitted */\n",
       "  background: var(--sklearn-color-unfitted-level-0);\n",
       "  border: .5pt solid var(--sklearn-color-unfitted-level-3);\n",
       "}\n",
       "\n",
       ".sk-estimator-doc-link.fitted span {\n",
       "  /* fitted */\n",
       "  background: var(--sklearn-color-fitted-level-0);\n",
       "  border: var(--sklearn-color-fitted-level-3);\n",
       "}\n",
       "\n",
       ".sk-estimator-doc-link:hover span {\n",
       "  display: block;\n",
       "}\n",
       "\n",
       "/* \"?\"-specific style due to the `<a>` HTML tag */\n",
       "\n",
       "#sk-container-id-1 a.estimator_doc_link {\n",
       "  float: right;\n",
       "  font-size: 1rem;\n",
       "  line-height: 1em;\n",
       "  font-family: monospace;\n",
       "  background-color: var(--sklearn-color-background);\n",
       "  border-radius: 1rem;\n",
       "  height: 1rem;\n",
       "  width: 1rem;\n",
       "  text-decoration: none;\n",
       "  /* unfitted */\n",
       "  color: var(--sklearn-color-unfitted-level-1);\n",
       "  border: var(--sklearn-color-unfitted-level-1) 1pt solid;\n",
       "}\n",
       "\n",
       "#sk-container-id-1 a.estimator_doc_link.fitted {\n",
       "  /* fitted */\n",
       "  border: var(--sklearn-color-fitted-level-1) 1pt solid;\n",
       "  color: var(--sklearn-color-fitted-level-1);\n",
       "}\n",
       "\n",
       "/* On hover */\n",
       "#sk-container-id-1 a.estimator_doc_link:hover {\n",
       "  /* unfitted */\n",
       "  background-color: var(--sklearn-color-unfitted-level-3);\n",
       "  color: var(--sklearn-color-background);\n",
       "  text-decoration: none;\n",
       "}\n",
       "\n",
       "#sk-container-id-1 a.estimator_doc_link.fitted:hover {\n",
       "  /* fitted */\n",
       "  background-color: var(--sklearn-color-fitted-level-3);\n",
       "}\n",
       "</style><div id=\"sk-container-id-1\" class=\"sk-top-container\"><div class=\"sk-text-repr-fallback\"><pre>MultinomialNB()</pre><b>In a Jupyter environment, please rerun this cell to show the HTML representation or trust the notebook. <br />On GitHub, the HTML representation is unable to render, please try loading this page with nbviewer.org.</b></div><div class=\"sk-container\" hidden><div class=\"sk-item\"><div class=\"sk-estimator fitted sk-toggleable\"><input class=\"sk-toggleable__control sk-hidden--visually\" id=\"sk-estimator-id-1\" type=\"checkbox\" checked><label for=\"sk-estimator-id-1\" class=\"sk-toggleable__label fitted sk-toggleable__label-arrow fitted\">&nbsp;&nbsp;MultinomialNB<a class=\"sk-estimator-doc-link fitted\" rel=\"noreferrer\" target=\"_blank\" href=\"https://scikit-learn.org/1.4/modules/generated/sklearn.naive_bayes.MultinomialNB.html\">?<span>Documentation for MultinomialNB</span></a><span class=\"sk-estimator-doc-link fitted\">i<span>Fitted</span></span></label><div class=\"sk-toggleable__content fitted\"><pre>MultinomialNB()</pre></div> </div></div></div></div>"
      ],
      "text/plain": [
       "MultinomialNB()"
      ]
     },
     "execution_count": 19,
     "metadata": {},
     "output_type": "execute_result"
    }
   ],
   "source": [
    "from sklearn.feature_extraction.text import CountVectorizer\n",
    "from sklearn.naive_bayes import MultinomialNB\n",
    "\n",
    "# Fit and transform the training data to a document-term matrix using CountVectorizer\n",
    "countVect = CountVectorizer() \n",
    "X_train_countVect = countVect.fit_transform(X_train_cleaned)\n",
    "print(\"Number of features : %d \\n\" % len(countVect.get_feature_names_out())) #6378 \n",
    "print(\"Show some feature names : \\n\", countVect.get_feature_names_out()[::1000])\n",
    "\n",
    "# Train MultinomialNB classifier\n",
    "mnb = MultinomialNB()\n",
    "mnb.fit(X_train_countVect, y_train)\n"
   ]
  },
  {
   "cell_type": "code",
   "execution_count": 20,
   "metadata": {
    "collapsed": false,
    "jupyter": {
     "outputs_hidden": false
    }
   },
   "outputs": [],
   "source": [
    "def modelEvaluation(predictions):\n",
    "    '''\n",
    "    Print model evaluation to predicted result \n",
    "    '''\n",
    "    print (\"\\nAccuracy on validation set: {:.4f}\".format(accuracy_score(y_test, predictions)))\n",
    "    print(\"\\nAUC score : {:.4f}\".format(roc_auc_score(y_test, predictions)))\n",
    "    print(\"\\nClassification report : \\n\", metrics.classification_report(y_test, predictions))\n",
    "    print(\"\\nConfusion Matrix : \\n\", metrics.confusion_matrix(y_test, predictions))"
   ]
  },
  {
   "cell_type": "code",
   "execution_count": 21,
   "metadata": {
    "collapsed": false,
    "jupyter": {
     "outputs_hidden": false
    }
   },
   "outputs": [
    {
     "name": "stdout",
     "output_type": "stream",
     "text": [
      "\n",
      "Accuracy on validation set: 0.9748\n",
      "\n",
      "AUC score : 0.9723\n",
      "\n",
      "Classification report : \n",
      "               precision    recall  f1-score   support\n",
      "\n",
      "           0       0.81      0.97      0.88        65\n",
      "           1       1.00      0.98      0.99       609\n",
      "\n",
      "    accuracy                           0.97       674\n",
      "   macro avg       0.90      0.97      0.93       674\n",
      "weighted avg       0.98      0.97      0.98       674\n",
      "\n",
      "\n",
      "Confusion Matrix : \n",
      " [[ 63   2]\n",
      " [ 15 594]]\n"
     ]
    }
   ],
   "source": [
    "# Evaluate the model on validaton set\n",
    "predictions = mnb.predict(countVect.transform(X_test_cleaned))\n",
    "modelEvaluation(predictions)"
   ]
  },
  {
   "cell_type": "markdown",
   "metadata": {},
   "source": [
    "### TfidfVectorizer with Logistic Regression"
   ]
  },
  {
   "cell_type": "markdown",
   "metadata": {},
   "source": [
    "Some words might frequently appear but have little meaningful information about the sentiment of a particular review. Instead of using occurance counting, we can use tf-idf transform to scale down the impact of frequently appeared words in a given corpus. \n",
    "\n",
    "In sklearn library, we can use TfidfVectorizer which implements both tokenization and tf-idf weighted counting in a single class."
   ]
  },
  {
   "cell_type": "code",
   "execution_count": 22,
   "metadata": {
    "collapsed": false,
    "jupyter": {
     "outputs_hidden": false
    }
   },
   "outputs": [
    {
     "name": "stdout",
     "output_type": "stream",
     "text": [
      "Number of features : 4105 \n",
      "\n",
      "Show some feature names : \n",
      " ['000' 'connaissant' 'irás' 'rarely' 'worried']\n"
     ]
    },
    {
     "data": {
      "text/html": [
       "<style>#sk-container-id-2 {\n",
       "  /* Definition of color scheme common for light and dark mode */\n",
       "  --sklearn-color-text: black;\n",
       "  --sklearn-color-line: gray;\n",
       "  /* Definition of color scheme for unfitted estimators */\n",
       "  --sklearn-color-unfitted-level-0: #fff5e6;\n",
       "  --sklearn-color-unfitted-level-1: #f6e4d2;\n",
       "  --sklearn-color-unfitted-level-2: #ffe0b3;\n",
       "  --sklearn-color-unfitted-level-3: chocolate;\n",
       "  /* Definition of color scheme for fitted estimators */\n",
       "  --sklearn-color-fitted-level-0: #f0f8ff;\n",
       "  --sklearn-color-fitted-level-1: #d4ebff;\n",
       "  --sklearn-color-fitted-level-2: #b3dbfd;\n",
       "  --sklearn-color-fitted-level-3: cornflowerblue;\n",
       "\n",
       "  /* Specific color for light theme */\n",
       "  --sklearn-color-text-on-default-background: var(--sg-text-color, var(--theme-code-foreground, var(--jp-content-font-color1, black)));\n",
       "  --sklearn-color-background: var(--sg-background-color, var(--theme-background, var(--jp-layout-color0, white)));\n",
       "  --sklearn-color-border-box: var(--sg-text-color, var(--theme-code-foreground, var(--jp-content-font-color1, black)));\n",
       "  --sklearn-color-icon: #696969;\n",
       "\n",
       "  @media (prefers-color-scheme: dark) {\n",
       "    /* Redefinition of color scheme for dark theme */\n",
       "    --sklearn-color-text-on-default-background: var(--sg-text-color, var(--theme-code-foreground, var(--jp-content-font-color1, white)));\n",
       "    --sklearn-color-background: var(--sg-background-color, var(--theme-background, var(--jp-layout-color0, #111)));\n",
       "    --sklearn-color-border-box: var(--sg-text-color, var(--theme-code-foreground, var(--jp-content-font-color1, white)));\n",
       "    --sklearn-color-icon: #878787;\n",
       "  }\n",
       "}\n",
       "\n",
       "#sk-container-id-2 {\n",
       "  color: var(--sklearn-color-text);\n",
       "}\n",
       "\n",
       "#sk-container-id-2 pre {\n",
       "  padding: 0;\n",
       "}\n",
       "\n",
       "#sk-container-id-2 input.sk-hidden--visually {\n",
       "  border: 0;\n",
       "  clip: rect(1px 1px 1px 1px);\n",
       "  clip: rect(1px, 1px, 1px, 1px);\n",
       "  height: 1px;\n",
       "  margin: -1px;\n",
       "  overflow: hidden;\n",
       "  padding: 0;\n",
       "  position: absolute;\n",
       "  width: 1px;\n",
       "}\n",
       "\n",
       "#sk-container-id-2 div.sk-dashed-wrapped {\n",
       "  border: 1px dashed var(--sklearn-color-line);\n",
       "  margin: 0 0.4em 0.5em 0.4em;\n",
       "  box-sizing: border-box;\n",
       "  padding-bottom: 0.4em;\n",
       "  background-color: var(--sklearn-color-background);\n",
       "}\n",
       "\n",
       "#sk-container-id-2 div.sk-container {\n",
       "  /* jupyter's `normalize.less` sets `[hidden] { display: none; }`\n",
       "     but bootstrap.min.css set `[hidden] { display: none !important; }`\n",
       "     so we also need the `!important` here to be able to override the\n",
       "     default hidden behavior on the sphinx rendered scikit-learn.org.\n",
       "     See: https://github.com/scikit-learn/scikit-learn/issues/21755 */\n",
       "  display: inline-block !important;\n",
       "  position: relative;\n",
       "}\n",
       "\n",
       "#sk-container-id-2 div.sk-text-repr-fallback {\n",
       "  display: none;\n",
       "}\n",
       "\n",
       "div.sk-parallel-item,\n",
       "div.sk-serial,\n",
       "div.sk-item {\n",
       "  /* draw centered vertical line to link estimators */\n",
       "  background-image: linear-gradient(var(--sklearn-color-text-on-default-background), var(--sklearn-color-text-on-default-background));\n",
       "  background-size: 2px 100%;\n",
       "  background-repeat: no-repeat;\n",
       "  background-position: center center;\n",
       "}\n",
       "\n",
       "/* Parallel-specific style estimator block */\n",
       "\n",
       "#sk-container-id-2 div.sk-parallel-item::after {\n",
       "  content: \"\";\n",
       "  width: 100%;\n",
       "  border-bottom: 2px solid var(--sklearn-color-text-on-default-background);\n",
       "  flex-grow: 1;\n",
       "}\n",
       "\n",
       "#sk-container-id-2 div.sk-parallel {\n",
       "  display: flex;\n",
       "  align-items: stretch;\n",
       "  justify-content: center;\n",
       "  background-color: var(--sklearn-color-background);\n",
       "  position: relative;\n",
       "}\n",
       "\n",
       "#sk-container-id-2 div.sk-parallel-item {\n",
       "  display: flex;\n",
       "  flex-direction: column;\n",
       "}\n",
       "\n",
       "#sk-container-id-2 div.sk-parallel-item:first-child::after {\n",
       "  align-self: flex-end;\n",
       "  width: 50%;\n",
       "}\n",
       "\n",
       "#sk-container-id-2 div.sk-parallel-item:last-child::after {\n",
       "  align-self: flex-start;\n",
       "  width: 50%;\n",
       "}\n",
       "\n",
       "#sk-container-id-2 div.sk-parallel-item:only-child::after {\n",
       "  width: 0;\n",
       "}\n",
       "\n",
       "/* Serial-specific style estimator block */\n",
       "\n",
       "#sk-container-id-2 div.sk-serial {\n",
       "  display: flex;\n",
       "  flex-direction: column;\n",
       "  align-items: center;\n",
       "  background-color: var(--sklearn-color-background);\n",
       "  padding-right: 1em;\n",
       "  padding-left: 1em;\n",
       "}\n",
       "\n",
       "\n",
       "/* Toggleable style: style used for estimator/Pipeline/ColumnTransformer box that is\n",
       "clickable and can be expanded/collapsed.\n",
       "- Pipeline and ColumnTransformer use this feature and define the default style\n",
       "- Estimators will overwrite some part of the style using the `sk-estimator` class\n",
       "*/\n",
       "\n",
       "/* Pipeline and ColumnTransformer style (default) */\n",
       "\n",
       "#sk-container-id-2 div.sk-toggleable {\n",
       "  /* Default theme specific background. It is overwritten whether we have a\n",
       "  specific estimator or a Pipeline/ColumnTransformer */\n",
       "  background-color: var(--sklearn-color-background);\n",
       "}\n",
       "\n",
       "/* Toggleable label */\n",
       "#sk-container-id-2 label.sk-toggleable__label {\n",
       "  cursor: pointer;\n",
       "  display: block;\n",
       "  width: 100%;\n",
       "  margin-bottom: 0;\n",
       "  padding: 0.5em;\n",
       "  box-sizing: border-box;\n",
       "  text-align: center;\n",
       "}\n",
       "\n",
       "#sk-container-id-2 label.sk-toggleable__label-arrow:before {\n",
       "  /* Arrow on the left of the label */\n",
       "  content: \"▸\";\n",
       "  float: left;\n",
       "  margin-right: 0.25em;\n",
       "  color: var(--sklearn-color-icon);\n",
       "}\n",
       "\n",
       "#sk-container-id-2 label.sk-toggleable__label-arrow:hover:before {\n",
       "  color: var(--sklearn-color-text);\n",
       "}\n",
       "\n",
       "/* Toggleable content - dropdown */\n",
       "\n",
       "#sk-container-id-2 div.sk-toggleable__content {\n",
       "  max-height: 0;\n",
       "  max-width: 0;\n",
       "  overflow: hidden;\n",
       "  text-align: left;\n",
       "  /* unfitted */\n",
       "  background-color: var(--sklearn-color-unfitted-level-0);\n",
       "}\n",
       "\n",
       "#sk-container-id-2 div.sk-toggleable__content.fitted {\n",
       "  /* fitted */\n",
       "  background-color: var(--sklearn-color-fitted-level-0);\n",
       "}\n",
       "\n",
       "#sk-container-id-2 div.sk-toggleable__content pre {\n",
       "  margin: 0.2em;\n",
       "  border-radius: 0.25em;\n",
       "  color: var(--sklearn-color-text);\n",
       "  /* unfitted */\n",
       "  background-color: var(--sklearn-color-unfitted-level-0);\n",
       "}\n",
       "\n",
       "#sk-container-id-2 div.sk-toggleable__content.fitted pre {\n",
       "  /* unfitted */\n",
       "  background-color: var(--sklearn-color-fitted-level-0);\n",
       "}\n",
       "\n",
       "#sk-container-id-2 input.sk-toggleable__control:checked~div.sk-toggleable__content {\n",
       "  /* Expand drop-down */\n",
       "  max-height: 200px;\n",
       "  max-width: 100%;\n",
       "  overflow: auto;\n",
       "}\n",
       "\n",
       "#sk-container-id-2 input.sk-toggleable__control:checked~label.sk-toggleable__label-arrow:before {\n",
       "  content: \"▾\";\n",
       "}\n",
       "\n",
       "/* Pipeline/ColumnTransformer-specific style */\n",
       "\n",
       "#sk-container-id-2 div.sk-label input.sk-toggleable__control:checked~label.sk-toggleable__label {\n",
       "  color: var(--sklearn-color-text);\n",
       "  background-color: var(--sklearn-color-unfitted-level-2);\n",
       "}\n",
       "\n",
       "#sk-container-id-2 div.sk-label.fitted input.sk-toggleable__control:checked~label.sk-toggleable__label {\n",
       "  background-color: var(--sklearn-color-fitted-level-2);\n",
       "}\n",
       "\n",
       "/* Estimator-specific style */\n",
       "\n",
       "/* Colorize estimator box */\n",
       "#sk-container-id-2 div.sk-estimator input.sk-toggleable__control:checked~label.sk-toggleable__label {\n",
       "  /* unfitted */\n",
       "  background-color: var(--sklearn-color-unfitted-level-2);\n",
       "}\n",
       "\n",
       "#sk-container-id-2 div.sk-estimator.fitted input.sk-toggleable__control:checked~label.sk-toggleable__label {\n",
       "  /* fitted */\n",
       "  background-color: var(--sklearn-color-fitted-level-2);\n",
       "}\n",
       "\n",
       "#sk-container-id-2 div.sk-label label.sk-toggleable__label,\n",
       "#sk-container-id-2 div.sk-label label {\n",
       "  /* The background is the default theme color */\n",
       "  color: var(--sklearn-color-text-on-default-background);\n",
       "}\n",
       "\n",
       "/* On hover, darken the color of the background */\n",
       "#sk-container-id-2 div.sk-label:hover label.sk-toggleable__label {\n",
       "  color: var(--sklearn-color-text);\n",
       "  background-color: var(--sklearn-color-unfitted-level-2);\n",
       "}\n",
       "\n",
       "/* Label box, darken color on hover, fitted */\n",
       "#sk-container-id-2 div.sk-label.fitted:hover label.sk-toggleable__label.fitted {\n",
       "  color: var(--sklearn-color-text);\n",
       "  background-color: var(--sklearn-color-fitted-level-2);\n",
       "}\n",
       "\n",
       "/* Estimator label */\n",
       "\n",
       "#sk-container-id-2 div.sk-label label {\n",
       "  font-family: monospace;\n",
       "  font-weight: bold;\n",
       "  display: inline-block;\n",
       "  line-height: 1.2em;\n",
       "}\n",
       "\n",
       "#sk-container-id-2 div.sk-label-container {\n",
       "  text-align: center;\n",
       "}\n",
       "\n",
       "/* Estimator-specific */\n",
       "#sk-container-id-2 div.sk-estimator {\n",
       "  font-family: monospace;\n",
       "  border: 1px dotted var(--sklearn-color-border-box);\n",
       "  border-radius: 0.25em;\n",
       "  box-sizing: border-box;\n",
       "  margin-bottom: 0.5em;\n",
       "  /* unfitted */\n",
       "  background-color: var(--sklearn-color-unfitted-level-0);\n",
       "}\n",
       "\n",
       "#sk-container-id-2 div.sk-estimator.fitted {\n",
       "  /* fitted */\n",
       "  background-color: var(--sklearn-color-fitted-level-0);\n",
       "}\n",
       "\n",
       "/* on hover */\n",
       "#sk-container-id-2 div.sk-estimator:hover {\n",
       "  /* unfitted */\n",
       "  background-color: var(--sklearn-color-unfitted-level-2);\n",
       "}\n",
       "\n",
       "#sk-container-id-2 div.sk-estimator.fitted:hover {\n",
       "  /* fitted */\n",
       "  background-color: var(--sklearn-color-fitted-level-2);\n",
       "}\n",
       "\n",
       "/* Specification for estimator info (e.g. \"i\" and \"?\") */\n",
       "\n",
       "/* Common style for \"i\" and \"?\" */\n",
       "\n",
       ".sk-estimator-doc-link,\n",
       "a:link.sk-estimator-doc-link,\n",
       "a:visited.sk-estimator-doc-link {\n",
       "  float: right;\n",
       "  font-size: smaller;\n",
       "  line-height: 1em;\n",
       "  font-family: monospace;\n",
       "  background-color: var(--sklearn-color-background);\n",
       "  border-radius: 1em;\n",
       "  height: 1em;\n",
       "  width: 1em;\n",
       "  text-decoration: none !important;\n",
       "  margin-left: 1ex;\n",
       "  /* unfitted */\n",
       "  border: var(--sklearn-color-unfitted-level-1) 1pt solid;\n",
       "  color: var(--sklearn-color-unfitted-level-1);\n",
       "}\n",
       "\n",
       ".sk-estimator-doc-link.fitted,\n",
       "a:link.sk-estimator-doc-link.fitted,\n",
       "a:visited.sk-estimator-doc-link.fitted {\n",
       "  /* fitted */\n",
       "  border: var(--sklearn-color-fitted-level-1) 1pt solid;\n",
       "  color: var(--sklearn-color-fitted-level-1);\n",
       "}\n",
       "\n",
       "/* On hover */\n",
       "div.sk-estimator:hover .sk-estimator-doc-link:hover,\n",
       ".sk-estimator-doc-link:hover,\n",
       "div.sk-label-container:hover .sk-estimator-doc-link:hover,\n",
       ".sk-estimator-doc-link:hover {\n",
       "  /* unfitted */\n",
       "  background-color: var(--sklearn-color-unfitted-level-3);\n",
       "  color: var(--sklearn-color-background);\n",
       "  text-decoration: none;\n",
       "}\n",
       "\n",
       "div.sk-estimator.fitted:hover .sk-estimator-doc-link.fitted:hover,\n",
       ".sk-estimator-doc-link.fitted:hover,\n",
       "div.sk-label-container:hover .sk-estimator-doc-link.fitted:hover,\n",
       ".sk-estimator-doc-link.fitted:hover {\n",
       "  /* fitted */\n",
       "  background-color: var(--sklearn-color-fitted-level-3);\n",
       "  color: var(--sklearn-color-background);\n",
       "  text-decoration: none;\n",
       "}\n",
       "\n",
       "/* Span, style for the box shown on hovering the info icon */\n",
       ".sk-estimator-doc-link span {\n",
       "  display: none;\n",
       "  z-index: 9999;\n",
       "  position: relative;\n",
       "  font-weight: normal;\n",
       "  right: .2ex;\n",
       "  padding: .5ex;\n",
       "  margin: .5ex;\n",
       "  width: min-content;\n",
       "  min-width: 20ex;\n",
       "  max-width: 50ex;\n",
       "  color: var(--sklearn-color-text);\n",
       "  box-shadow: 2pt 2pt 4pt #999;\n",
       "  /* unfitted */\n",
       "  background: var(--sklearn-color-unfitted-level-0);\n",
       "  border: .5pt solid var(--sklearn-color-unfitted-level-3);\n",
       "}\n",
       "\n",
       ".sk-estimator-doc-link.fitted span {\n",
       "  /* fitted */\n",
       "  background: var(--sklearn-color-fitted-level-0);\n",
       "  border: var(--sklearn-color-fitted-level-3);\n",
       "}\n",
       "\n",
       ".sk-estimator-doc-link:hover span {\n",
       "  display: block;\n",
       "}\n",
       "\n",
       "/* \"?\"-specific style due to the `<a>` HTML tag */\n",
       "\n",
       "#sk-container-id-2 a.estimator_doc_link {\n",
       "  float: right;\n",
       "  font-size: 1rem;\n",
       "  line-height: 1em;\n",
       "  font-family: monospace;\n",
       "  background-color: var(--sklearn-color-background);\n",
       "  border-radius: 1rem;\n",
       "  height: 1rem;\n",
       "  width: 1rem;\n",
       "  text-decoration: none;\n",
       "  /* unfitted */\n",
       "  color: var(--sklearn-color-unfitted-level-1);\n",
       "  border: var(--sklearn-color-unfitted-level-1) 1pt solid;\n",
       "}\n",
       "\n",
       "#sk-container-id-2 a.estimator_doc_link.fitted {\n",
       "  /* fitted */\n",
       "  border: var(--sklearn-color-fitted-level-1) 1pt solid;\n",
       "  color: var(--sklearn-color-fitted-level-1);\n",
       "}\n",
       "\n",
       "/* On hover */\n",
       "#sk-container-id-2 a.estimator_doc_link:hover {\n",
       "  /* unfitted */\n",
       "  background-color: var(--sklearn-color-unfitted-level-3);\n",
       "  color: var(--sklearn-color-background);\n",
       "  text-decoration: none;\n",
       "}\n",
       "\n",
       "#sk-container-id-2 a.estimator_doc_link.fitted:hover {\n",
       "  /* fitted */\n",
       "  background-color: var(--sklearn-color-fitted-level-3);\n",
       "}\n",
       "</style><div id=\"sk-container-id-2\" class=\"sk-top-container\"><div class=\"sk-text-repr-fallback\"><pre>LogisticRegression()</pre><b>In a Jupyter environment, please rerun this cell to show the HTML representation or trust the notebook. <br />On GitHub, the HTML representation is unable to render, please try loading this page with nbviewer.org.</b></div><div class=\"sk-container\" hidden><div class=\"sk-item\"><div class=\"sk-estimator fitted sk-toggleable\"><input class=\"sk-toggleable__control sk-hidden--visually\" id=\"sk-estimator-id-2\" type=\"checkbox\" checked><label for=\"sk-estimator-id-2\" class=\"sk-toggleable__label fitted sk-toggleable__label-arrow fitted\">&nbsp;&nbsp;LogisticRegression<a class=\"sk-estimator-doc-link fitted\" rel=\"noreferrer\" target=\"_blank\" href=\"https://scikit-learn.org/1.4/modules/generated/sklearn.linear_model.LogisticRegression.html\">?<span>Documentation for LogisticRegression</span></a><span class=\"sk-estimator-doc-link fitted\">i<span>Fitted</span></span></label><div class=\"sk-toggleable__content fitted\"><pre>LogisticRegression()</pre></div> </div></div></div></div>"
      ],
      "text/plain": [
       "LogisticRegression()"
      ]
     },
     "execution_count": 22,
     "metadata": {},
     "output_type": "execute_result"
    }
   ],
   "source": [
    "# Fit and transform the training data to a document-term matrix using TfidfVectorizer \n",
    "tfidf = TfidfVectorizer(min_df=5) #minimum document frequency of 5\n",
    "X_train_tfidf = tfidf.fit_transform(X_train)\n",
    "print(\"Number of features : %d \\n\" %len(tfidf.get_feature_names_out())) #1722\n",
    "print(\"Show some feature names : \\n\", tfidf.get_feature_names_out()[::1000])\n",
    "\n",
    "# Logistic Regression\n",
    "lr = LogisticRegression()\n",
    "lr.fit(X_train_tfidf, y_train)"
   ]
  },
  {
   "cell_type": "code",
   "execution_count": 23,
   "metadata": {
    "collapsed": false,
    "jupyter": {
     "outputs_hidden": false
    }
   },
   "outputs": [
    {
     "name": "stdout",
     "output_type": "stream",
     "text": [
      "\n",
      "Top 10 features with smallest coefficients :\n",
      "['not' 'overheating' 'broken' 'dislike' 'received' 'ryzen' 'liked' 'sans'\n",
      " 'it' 'deluso']\n",
      "\n",
      "Top 10 features with largest coefficients : \n",
      "['for' 'de' 'great' 'best' 'good' 'my' 'fast' 'without' 'i5' 'performance']\n"
     ]
    }
   ],
   "source": [
    "# Look at the top 10 features with smallest and the largest coefficients\n",
    "feature_names = np.array(tfidf.get_feature_names_out())\n",
    "sorted_coef_index = lr.coef_[0].argsort()\n",
    "print('\\nTop 10 features with smallest coefficients :\\n{}\\n'.format(feature_names[sorted_coef_index[:10]]))\n",
    "print('Top 10 features with largest coefficients : \\n{}'.format(feature_names[sorted_coef_index[:-11:-1]]))"
   ]
  },
  {
   "cell_type": "code",
   "execution_count": 24,
   "metadata": {
    "collapsed": false,
    "jupyter": {
     "outputs_hidden": false
    }
   },
   "outputs": [
    {
     "name": "stdout",
     "output_type": "stream",
     "text": [
      "\n",
      "Accuracy on validation set: 0.9792\n",
      "\n",
      "AUC score : 0.8923\n",
      "\n",
      "Classification report : \n",
      "               precision    recall  f1-score   support\n",
      "\n",
      "           0       1.00      0.78      0.88        65\n",
      "           1       0.98      1.00      0.99       609\n",
      "\n",
      "    accuracy                           0.98       674\n",
      "   macro avg       0.99      0.89      0.93       674\n",
      "weighted avg       0.98      0.98      0.98       674\n",
      "\n",
      "\n",
      "Confusion Matrix : \n",
      " [[ 51  14]\n",
      " [  0 609]]\n"
     ]
    }
   ],
   "source": [
    "# Evaluate on the validaton set\n",
    "predictions = lr.predict(tfidf.transform(X_test_cleaned))\n",
    "modelEvaluation(predictions)"
   ]
  },
  {
   "cell_type": "markdown",
   "metadata": {},
   "source": [
    "### Pipeline and GridSearch"
   ]
  },
  {
   "cell_type": "markdown",
   "metadata": {},
   "source": [
    "In sklearn library, we can build a pipeline to streamline the workflow and use GridSearch on the pipeline model to implement hyper-parameter tuning for both vectorizer and classifier in one go."
   ]
  },
  {
   "cell_type": "code",
   "execution_count": 25,
   "metadata": {
    "collapsed": false,
    "jupyter": {
     "outputs_hidden": false
    }
   },
   "outputs": [
    {
     "name": "stdout",
     "output_type": "stream",
     "text": [
      "The best paramenter set is : \n",
      " {'lr__C': 10, 'tfidf__max_features': None, 'tfidf__min_df': 1, 'tfidf__ngram_range': (1, 2), 'tfidf__stop_words': None}\n",
      "\n",
      "Accuracy on validation set: 1.0000\n",
      "\n",
      "AUC score : 1.0000\n",
      "\n",
      "Classification report : \n",
      "               precision    recall  f1-score   support\n",
      "\n",
      "           0       1.00      1.00      1.00        65\n",
      "           1       1.00      1.00      1.00       609\n",
      "\n",
      "    accuracy                           1.00       674\n",
      "   macro avg       1.00      1.00      1.00       674\n",
      "weighted avg       1.00      1.00      1.00       674\n",
      "\n",
      "\n",
      "Confusion Matrix : \n",
      " [[ 65   0]\n",
      " [  0 609]]\n"
     ]
    }
   ],
   "source": [
    "# Building a pipeline\n",
    "estimators = [(\"tfidf\", TfidfVectorizer()), (\"lr\", LogisticRegression())]\n",
    "model = Pipeline(estimators)\n",
    "\n",
    "\n",
    "# Grid search\n",
    "params = {\"lr__C\":[0.1, 1, 10], #regularization param of logistic regression\n",
    "          \"tfidf__min_df\": [1, 3], #min count of words \n",
    "          \"tfidf__max_features\": [1000, None], #max features\n",
    "          \"tfidf__ngram_range\": [(1,1), (1,2)], #1-grams or 2-grams\n",
    "          \"tfidf__stop_words\": [None, \"english\"]} #use stopwords or don't\n",
    "\n",
    "grid = GridSearchCV(estimator=model, param_grid=params, scoring=\"accuracy\", n_jobs=-1)\n",
    "grid.fit(X_train_cleaned, y_train)\n",
    "print(\"The best paramenter set is : \\n\", grid.best_params_)\n",
    "\n",
    "\n",
    "# Evaluate on the validaton set\n",
    "predictions = grid.predict(X_test_cleaned)\n",
    "modelEvaluation(predictions)"
   ]
  },
  {
   "cell_type": "markdown",
   "metadata": {},
   "source": [
    "---\n",
    "<a id=\"part4\"></a>\n",
    "## Part 4. Word2Vec"
   ]
  },
  {
   "cell_type": "markdown",
   "metadata": {},
   "source": [
    "Another common approach of word embedding is prediction based embedding, such as Word2Vec model. In gist, Word2Vec is a combination of two techniques: Continuous Bag of Words (CBoW) and skip-gram model. Both are shallow neural networks which learn weights for word vector representations.\n",
    "\n",
    "In this part, we will train Word2Vec model to create our own word vector representations using gensim library. Then we fit the feature vectors of the reviews to Random Forest Classifier. Here's the workflow of this part.\n",
    "\n",
    "* Step 1 : Parse review text to sentences (Word2Vec model takes a list of sentences as inputs)\n",
    "* Step 2 : Create volcabulary list using Word2Vec model\n",
    "* Step 3 : Transform each review into numerical representation by computing average feature vectors of words therein\n",
    "* Step 4 : Fit the average feature vectors to Random Forest Classifier"
   ]
  },
  {
   "cell_type": "markdown",
   "metadata": {},
   "source": [
    "### Parsing Review into Sentences"
   ]
  },
  {
   "cell_type": "markdown",
   "metadata": {},
   "source": [
    "Word2Vec model takes a list of sentences as inputs and outputs word vector representations for words in the vocalbulary list created. Before we train the Word2Vec model, we have to parse reviews in the training set into sentences."
   ]
  },
  {
   "cell_type": "code",
   "execution_count": 28,
   "metadata": {},
   "outputs": [
    {
     "name": "stderr",
     "output_type": "stream",
     "text": [
      "C:\\Users\\garvb\\AppData\\Local\\Temp\\ipykernel_26108\\179031280.py:6: MarkupResemblesLocatorWarning: The input looks more like a filename than markup. You may want to open this file and pass the filehandle into Beautiful Soup.\n",
      "  text = BeautifulSoup(raw_text, 'lxml').get_text()  #remove html\n"
     ]
    },
    {
     "name": "stdout",
     "output_type": "stream",
     "text": [
      "12453 parsed sentences in the training set\n",
      "\n",
      "Some parsed sentences from the training set:\n",
      "Sentence 1: i recently upgraded to the intel core i kf and i m impressed with its performance\n",
      "Sentence 2: the cores coupled with the ability to reach up to ghz make multitasking a breeze\n",
      "Sentence 3: one helpful tip pair it with a high quality cooling solution for optimal performance and longevity\n",
      "Sentence 4: super\n",
      "Sentence 5: this is essentially a k that is gen earlier\n"
     ]
    }
   ],
   "source": [
    "# Define the tokenizer\n",
    "tokenizer = PunktSentenceTokenizer()\n",
    "def parseSent(review, tokenizer, remove_stopwords=False):\n",
    "    '''\n",
    "    Parse text into sentences\n",
    "    '''\n",
    "    raw_sentences = tokenizer.tokenize(review.strip())\n",
    "    sentences = []\n",
    "    for raw_sentence in raw_sentences:\n",
    "        if len(raw_sentence) > 0:\n",
    "            sentences.append(cleanText(raw_sentence, remove_stopwords))\n",
    "    return sentences\n",
    "\n",
    "# Parse each review in the training set into sentences\n",
    "sentences = []\n",
    "for review in X_train_cleaned:\n",
    "    sentences += parseSent(review, tokenizer)\n",
    "\n",
    "print('%d parsed sentences in the training set\\n' % len(sentences))\n",
    "print(\"Some parsed sentences from the training set:\")\n",
    "for i in range(5):  # Adjust the range as needed\n",
    "    print(f\"Sentence {i+1}: {sentences[i]}\")"
   ]
  },
  {
   "cell_type": "code",
   "execution_count": 29,
   "metadata": {},
   "outputs": [
    {
     "name": "stdout",
     "output_type": "stream",
     "text": [
      "12453 parsed sentences in the training set\n",
      "\n",
      "Some parsed sentences from the training set:\n",
      "Sentence 1: recently upgraded intel core kf impressed performance\n",
      "Sentence 2: cores coupled ability reach ghz make multitasking breeze\n",
      "Sentence 3: one helpful tip pair high quality cooling solution optimal performance longevity\n",
      "Sentence 4: super\n",
      "Sentence 5: essentially k gen earlier\n"
     ]
    }
   ],
   "source": [
    "import re\n",
    "\n",
    "def cleanText(text, remove_stopwords=False):\n",
    "    '''\n",
    "    Clean the text, with an option to remove stopwords\n",
    "    '''\n",
    "    text = re.sub(r'[^a-zA-Z]', ' ', text)\n",
    "    words = text.lower().split()\n",
    "    if remove_stopwords:\n",
    "        stops = set(stopwords.words(\"english\"))\n",
    "        words = [w for w in words if not w in stops]\n",
    "    return ' '.join(words)\n",
    "\n",
    "def parseSent(review, tokenizer, remove_stopwords=False):\n",
    "    '''\n",
    "    Parse text into sentences\n",
    "    '''\n",
    "    raw_sentences = tokenizer.tokenize(review.strip())\n",
    "    sentences = []\n",
    "    for raw_sentence in raw_sentences:\n",
    "        if len(raw_sentence) > 0:\n",
    "            sentences.append(cleanText(raw_sentence, remove_stopwords))\n",
    "    return sentences\n",
    "\n",
    "# Parse each review in the training set into sentences\n",
    "sentences = []\n",
    "for review in X_train_cleaned:\n",
    "    sentences += parseSent(review, tokenizer, remove_stopwords=True)\n",
    "\n",
    "print('%d parsed sentences in the training set\\n'  % len(sentences))\n",
    "\n",
    "print(\"Some parsed sentences from the training set:\")\n",
    "for i in range(5):  # Adjust the range as needed\n",
    "    print(f\"Sentence {i+1}: {sentences[i]}\")"
   ]
  },
  {
   "cell_type": "markdown",
   "metadata": {},
   "source": [
    "### Creating Volcabulary List using Word2Vec Model"
   ]
  },
  {
   "cell_type": "markdown",
   "metadata": {},
   "source": [
    "Now we have a set of cleaned and parsed sentences from the training data, we can train our own word vector representations by sepcifiying the embedding dimension (= length of feature vector)."
   ]
  },
  {
   "cell_type": "code",
   "execution_count": 30,
   "metadata": {},
   "outputs": [
    {
     "name": "stderr",
     "output_type": "stream",
     "text": [
      "2024-06-03 16:31:38,477 : INFO : collecting all words and their counts\n",
      "2024-06-03 16:31:38,481 : WARNING : Each 'sentences' item should be a list of words (usually unicode strings). First item here is instead plain <class 'str'>.\n",
      "2024-06-03 16:31:38,483 : INFO : PROGRESS: at sentence #0, processed 0 words, keeping 0 word types\n",
      "2024-06-03 16:31:38,635 : INFO : PROGRESS: at sentence #10000, processed 578922 words, keeping 27 word types\n",
      "2024-06-03 16:31:38,673 : INFO : collected 27 word types from a corpus of 715983 raw words and 12453 sentences\n"
     ]
    },
    {
     "name": "stdout",
     "output_type": "stream",
     "text": [
      "Training Word2Vec model ...\n",
      "\n"
     ]
    },
    {
     "name": "stderr",
     "output_type": "stream",
     "text": [
      "2024-06-03 16:31:38,676 : INFO : Creating a fresh vocabulary\n",
      "2024-06-03 16:31:38,679 : INFO : Word2Vec lifecycle event {'msg': 'effective_min_count=10 retains 27 unique words (100.00% of original 27, drops 0)', 'datetime': '2024-06-03T16:31:38.679898', 'gensim': '4.3.2', 'python': '3.10.13 | packaged by Anaconda, Inc. | (main, Sep 11 2023, 13:24:38) [MSC v.1916 64 bit (AMD64)]', 'platform': 'Windows-10-10.0.22621-SP0', 'event': 'prepare_vocab'}\n",
      "2024-06-03 16:31:38,684 : INFO : Word2Vec lifecycle event {'msg': 'effective_min_count=10 leaves 715983 word corpus (100.00% of original 715983, drops 0)', 'datetime': '2024-06-03T16:31:38.684633', 'gensim': '4.3.2', 'python': '3.10.13 | packaged by Anaconda, Inc. | (main, Sep 11 2023, 13:24:38) [MSC v.1916 64 bit (AMD64)]', 'platform': 'Windows-10-10.0.22621-SP0', 'event': 'prepare_vocab'}\n",
      "2024-06-03 16:31:38,689 : INFO : deleting the raw counts dictionary of 27 items\n",
      "2024-06-03 16:31:38,693 : INFO : sample=0.001 downsamples 26 most-common words\n",
      "2024-06-03 16:31:38,695 : INFO : Word2Vec lifecycle event {'msg': 'downsampling leaves estimated 124456.08503828093 word corpus (17.4%% of prior 715983)', 'datetime': '2024-06-03T16:31:38.694797', 'gensim': '4.3.2', 'python': '3.10.13 | packaged by Anaconda, Inc. | (main, Sep 11 2023, 13:24:38) [MSC v.1916 64 bit (AMD64)]', 'platform': 'Windows-10-10.0.22621-SP0', 'event': 'prepare_vocab'}\n",
      "2024-06-03 16:31:38,699 : INFO : estimated required memory for 27 words and 300 dimensions: 78300 bytes\n",
      "2024-06-03 16:31:38,704 : INFO : resetting layer weights\n",
      "2024-06-03 16:31:38,709 : INFO : Word2Vec lifecycle event {'update': False, 'trim_rule': 'None', 'datetime': '2024-06-03T16:31:38.709944', 'gensim': '4.3.2', 'python': '3.10.13 | packaged by Anaconda, Inc. | (main, Sep 11 2023, 13:24:38) [MSC v.1916 64 bit (AMD64)]', 'platform': 'Windows-10-10.0.22621-SP0', 'event': 'build_vocab'}\n",
      "2024-06-03 16:31:38,711 : INFO : Word2Vec lifecycle event {'msg': 'training model with 4 workers on 27 vocabulary and 300 features, using sg=0 hs=0 sample=0.001 negative=5 window=10 shrink_windows=True', 'datetime': '2024-06-03T16:31:38.711942', 'gensim': '4.3.2', 'python': '3.10.13 | packaged by Anaconda, Inc. | (main, Sep 11 2023, 13:24:38) [MSC v.1916 64 bit (AMD64)]', 'platform': 'Windows-10-10.0.22621-SP0', 'event': 'train'}\n",
      "2024-06-03 16:31:39,176 : INFO : EPOCH 0: training on 715983 raw words (124160 effective words) took 0.4s, 277653 effective words/s\n",
      "2024-06-03 16:31:39,703 : INFO : EPOCH 1: training on 715983 raw words (124319 effective words) took 0.5s, 241328 effective words/s\n",
      "2024-06-03 16:31:40,187 : INFO : EPOCH 2: training on 715983 raw words (124354 effective words) took 0.5s, 264245 effective words/s\n",
      "2024-06-03 16:31:40,686 : INFO : EPOCH 3: training on 715983 raw words (123998 effective words) took 0.5s, 255550 effective words/s\n",
      "2024-06-03 16:31:41,197 : INFO : EPOCH 4: training on 715983 raw words (124286 effective words) took 0.5s, 249170 effective words/s\n",
      "2024-06-03 16:31:41,200 : INFO : Word2Vec lifecycle event {'msg': 'training on 3579915 raw words (621117 effective words) took 2.5s, 249824 effective words/s', 'datetime': '2024-06-03T16:31:41.199384', 'gensim': '4.3.2', 'python': '3.10.13 | packaged by Anaconda, Inc. | (main, Sep 11 2023, 13:24:38) [MSC v.1916 64 bit (AMD64)]', 'platform': 'Windows-10-10.0.22621-SP0', 'event': 'train'}\n",
      "2024-06-03 16:31:41,202 : INFO : Word2Vec lifecycle event {'params': 'Word2Vec<vocab=27, vector_size=300, alpha=0.025>', 'datetime': '2024-06-03T16:31:41.202486', 'gensim': '4.3.2', 'python': '3.10.13 | packaged by Anaconda, Inc. | (main, Sep 11 2023, 13:24:38) [MSC v.1916 64 bit (AMD64)]', 'platform': 'Windows-10-10.0.22621-SP0', 'event': 'created'}\n",
      "C:\\Users\\garvb\\AppData\\Local\\Temp\\ipykernel_26108\\2791662819.py:20: DeprecationWarning: Call to deprecated `init_sims` (Gensim 4.0.0 implemented internal optimizations that make calls to init_sims() unnecessary. init_sims() is now obsoleted and will be completely removed in future versions. See https://github.com/RaRe-Technologies/gensim/wiki/Migrating-from-Gensim-3.x-to-4).\n",
      "  w2v.init_sims(replace=True)\n",
      "2024-06-03 16:31:41,205 : WARNING : destructive init_sims(replace=True) deprecated & no longer required for space-efficiency\n",
      "2024-06-03 16:31:41,207 : INFO : Word2Vec lifecycle event {'fname_or_handle': 'w2v_300features_10minwordcounts_10context', 'separately': 'None', 'sep_limit': 10485760, 'ignore': frozenset(), 'datetime': '2024-06-03T16:31:41.207715', 'gensim': '4.3.2', 'python': '3.10.13 | packaged by Anaconda, Inc. | (main, Sep 11 2023, 13:24:38) [MSC v.1916 64 bit (AMD64)]', 'platform': 'Windows-10-10.0.22621-SP0', 'event': 'saving'}\n",
      "2024-06-03 16:31:41,210 : INFO : not storing attribute cum_table\n",
      "2024-06-03 16:31:41,218 : INFO : saved w2v_300features_10minwordcounts_10context\n"
     ]
    },
    {
     "name": "stdout",
     "output_type": "stream",
     "text": [
      "Number of words in the vocabulary list: 27 \n",
      "\n",
      "Show first 10 words in the vocabulary list: \n",
      " [' ', 'e', 'o', 'a', 'r', 's', 'i', 'n', 't', 'c']\n"
     ]
    }
   ],
   "source": [
    "import logging\n",
    "from gensim.models import Word2Vec\n",
    "\n",
    "# Enable logging for gensim\n",
    "logging.basicConfig(format='%(asctime)s : %(levelname)s : %(message)s', level=logging.INFO)\n",
    "\n",
    "num_features = 300  # Embedding dimension\n",
    "min_word_count = 10  # Minimum word count\n",
    "num_workers = 4  # Number of threads to run in parallel\n",
    "context = 10  # Context window size\n",
    "downsampling = 1e-3  # Downsample setting for frequent words\n",
    "\n",
    "print(\"Training Word2Vec model ...\\n\")\n",
    "\n",
    "# Assume `sentences` is your list of tokenized sentences\n",
    "w2v = Word2Vec(sentences, workers=num_workers, vector_size=num_features, min_count=min_word_count,\n",
    "               window=context, sample=downsampling)\n",
    "\n",
    "# To make the model memory-efficient\n",
    "w2v.init_sims(replace=True)\n",
    "\n",
    "# Save the model\n",
    "w2v.save(\"w2v_300features_10minwordcounts_10context\")\n",
    "\n",
    "print(\"Number of words in the vocabulary list: %d \\n\" % len(w2v.wv.index_to_key))  # Use index_to_key instead of index2word\n",
    "print(\"Show first 10 words in the vocabulary list: \\n\", w2v.wv.index_to_key[:10])\n"
   ]
  },
  {
   "cell_type": "code",
   "execution_count": 31,
   "metadata": {},
   "outputs": [
    {
     "name": "stderr",
     "output_type": "stream",
     "text": [
      "2024-06-03 16:31:41,244 : INFO : collecting all words and their counts\n",
      "2024-06-03 16:31:41,248 : WARNING : Each 'sentences' item should be a list of words (usually unicode strings). First item here is instead plain <class 'str'>.\n",
      "2024-06-03 16:31:41,250 : INFO : PROGRESS: at sentence #0, processed 0 words, keeping 0 word types\n",
      "2024-06-03 16:31:41,411 : INFO : PROGRESS: at sentence #10000, processed 578922 words, keeping 27 word types\n"
     ]
    },
    {
     "name": "stdout",
     "output_type": "stream",
     "text": [
      "Training Word2Vec model ...\n",
      "\n"
     ]
    },
    {
     "name": "stderr",
     "output_type": "stream",
     "text": [
      "2024-06-03 16:31:41,444 : INFO : collected 27 word types from a corpus of 715983 raw words and 12453 sentences\n",
      "2024-06-03 16:31:41,447 : INFO : Creating a fresh vocabulary\n",
      "2024-06-03 16:31:41,450 : INFO : Word2Vec lifecycle event {'msg': 'effective_min_count=10 retains 27 unique words (100.00% of original 27, drops 0)', 'datetime': '2024-06-03T16:31:41.450416', 'gensim': '4.3.2', 'python': '3.10.13 | packaged by Anaconda, Inc. | (main, Sep 11 2023, 13:24:38) [MSC v.1916 64 bit (AMD64)]', 'platform': 'Windows-10-10.0.22621-SP0', 'event': 'prepare_vocab'}\n",
      "2024-06-03 16:31:41,452 : INFO : Word2Vec lifecycle event {'msg': 'effective_min_count=10 leaves 715983 word corpus (100.00% of original 715983, drops 0)', 'datetime': '2024-06-03T16:31:41.452345', 'gensim': '4.3.2', 'python': '3.10.13 | packaged by Anaconda, Inc. | (main, Sep 11 2023, 13:24:38) [MSC v.1916 64 bit (AMD64)]', 'platform': 'Windows-10-10.0.22621-SP0', 'event': 'prepare_vocab'}\n",
      "2024-06-03 16:31:41,456 : INFO : deleting the raw counts dictionary of 27 items\n",
      "2024-06-03 16:31:41,458 : INFO : sample=0.001 downsamples 26 most-common words\n",
      "2024-06-03 16:31:41,460 : INFO : Word2Vec lifecycle event {'msg': 'downsampling leaves estimated 124456.08503828093 word corpus (17.4%% of prior 715983)', 'datetime': '2024-06-03T16:31:41.460320', 'gensim': '4.3.2', 'python': '3.10.13 | packaged by Anaconda, Inc. | (main, Sep 11 2023, 13:24:38) [MSC v.1916 64 bit (AMD64)]', 'platform': 'Windows-10-10.0.22621-SP0', 'event': 'prepare_vocab'}\n",
      "2024-06-03 16:31:41,463 : INFO : estimated required memory for 27 words and 300 dimensions: 78300 bytes\n",
      "2024-06-03 16:31:41,464 : INFO : resetting layer weights\n",
      "2024-06-03 16:31:41,467 : INFO : Word2Vec lifecycle event {'update': False, 'trim_rule': 'None', 'datetime': '2024-06-03T16:31:41.467980', 'gensim': '4.3.2', 'python': '3.10.13 | packaged by Anaconda, Inc. | (main, Sep 11 2023, 13:24:38) [MSC v.1916 64 bit (AMD64)]', 'platform': 'Windows-10-10.0.22621-SP0', 'event': 'build_vocab'}\n",
      "2024-06-03 16:31:41,470 : INFO : Word2Vec lifecycle event {'msg': 'training model with 4 workers on 27 vocabulary and 300 features, using sg=0 hs=0 sample=0.001 negative=5 window=10 shrink_windows=True', 'datetime': '2024-06-03T16:31:41.470466', 'gensim': '4.3.2', 'python': '3.10.13 | packaged by Anaconda, Inc. | (main, Sep 11 2023, 13:24:38) [MSC v.1916 64 bit (AMD64)]', 'platform': 'Windows-10-10.0.22621-SP0', 'event': 'train'}\n",
      "2024-06-03 16:31:41,994 : INFO : EPOCH 0: training on 715983 raw words (124469 effective words) took 0.5s, 245677 effective words/s\n",
      "2024-06-03 16:31:42,504 : INFO : EPOCH 1: training on 715983 raw words (124734 effective words) took 0.5s, 250780 effective words/s\n",
      "2024-06-03 16:31:43,021 : INFO : EPOCH 2: training on 715983 raw words (124631 effective words) took 0.5s, 247043 effective words/s\n",
      "2024-06-03 16:31:43,546 : INFO : EPOCH 3: training on 715983 raw words (124325 effective words) took 0.5s, 242925 effective words/s\n",
      "2024-06-03 16:31:44,070 : INFO : EPOCH 4: training on 715983 raw words (124261 effective words) took 0.5s, 243697 effective words/s\n",
      "2024-06-03 16:31:44,072 : INFO : Word2Vec lifecycle event {'msg': 'training on 3579915 raw words (622420 effective words) took 2.6s, 239683 effective words/s', 'datetime': '2024-06-03T16:31:44.072148', 'gensim': '4.3.2', 'python': '3.10.13 | packaged by Anaconda, Inc. | (main, Sep 11 2023, 13:24:38) [MSC v.1916 64 bit (AMD64)]', 'platform': 'Windows-10-10.0.22621-SP0', 'event': 'train'}\n",
      "2024-06-03 16:31:44,074 : INFO : Word2Vec lifecycle event {'params': 'Word2Vec<vocab=27, vector_size=300, alpha=0.025>', 'datetime': '2024-06-03T16:31:44.074615', 'gensim': '4.3.2', 'python': '3.10.13 | packaged by Anaconda, Inc. | (main, Sep 11 2023, 13:24:38) [MSC v.1916 64 bit (AMD64)]', 'platform': 'Windows-10-10.0.22621-SP0', 'event': 'created'}\n",
      "C:\\Users\\garvb\\AppData\\Local\\Temp\\ipykernel_26108\\2791662819.py:20: DeprecationWarning: Call to deprecated `init_sims` (Gensim 4.0.0 implemented internal optimizations that make calls to init_sims() unnecessary. init_sims() is now obsoleted and will be completely removed in future versions. See https://github.com/RaRe-Technologies/gensim/wiki/Migrating-from-Gensim-3.x-to-4).\n",
      "  w2v.init_sims(replace=True)\n",
      "2024-06-03 16:31:44,079 : WARNING : destructive init_sims(replace=True) deprecated & no longer required for space-efficiency\n",
      "2024-06-03 16:31:44,081 : INFO : Word2Vec lifecycle event {'fname_or_handle': 'w2v_300features_10minwordcounts_10context', 'separately': 'None', 'sep_limit': 10485760, 'ignore': frozenset(), 'datetime': '2024-06-03T16:31:44.081768', 'gensim': '4.3.2', 'python': '3.10.13 | packaged by Anaconda, Inc. | (main, Sep 11 2023, 13:24:38) [MSC v.1916 64 bit (AMD64)]', 'platform': 'Windows-10-10.0.22621-SP0', 'event': 'saving'}\n",
      "2024-06-03 16:31:44,083 : INFO : not storing attribute cum_table\n",
      "2024-06-03 16:31:44,090 : INFO : saved w2v_300features_10minwordcounts_10context\n"
     ]
    },
    {
     "name": "stdout",
     "output_type": "stream",
     "text": [
      "Number of words in the vocabulary list: 27 \n",
      "\n",
      "Show first 10 words in the vocabulary list: \n",
      " [' ', 'e', 'o', 'a', 'r', 's', 'i', 'n', 't', 'c']\n"
     ]
    }
   ],
   "source": [
    "import logging\n",
    "from gensim.models import Word2Vec\n",
    "\n",
    "# Enable logging for gensim\n",
    "logging.basicConfig(format='%(asctime)s : %(levelname)s : %(message)s', level=logging.INFO)\n",
    "\n",
    "num_features = 300  # Embedding dimension\n",
    "min_word_count = 10  # Minimum word count\n",
    "num_workers = 4  # Number of threads to run in parallel\n",
    "context = 10  # Context window size\n",
    "downsampling = 1e-3  # Downsample setting for frequent words\n",
    "\n",
    "print(\"Training Word2Vec model ...\\n\")\n",
    "\n",
    "# Assume `sentences` is your list of tokenized sentences\n",
    "w2v = Word2Vec(sentences, workers=num_workers, vector_size=num_features, min_count=min_word_count,\n",
    "               window=context, sample=downsampling)\n",
    "\n",
    "# To make the model memory-efficient\n",
    "w2v.init_sims(replace=True)\n",
    "\n",
    "# Save the model\n",
    "w2v.save(\"w2v_300features_10minwordcounts_10context\")\n",
    "\n",
    "print(\"Number of words in the vocabulary list: %d \\n\" % len(w2v.wv.index_to_key))  # Use index_to_key instead of index2word\n",
    "print(\"Show first 10 words in the vocabulary list: \\n\", w2v.wv.index_to_key[:10])\n"
   ]
  },
  {
   "cell_type": "markdown",
   "metadata": {},
   "source": [
    "### Averaging Feature Vectors"
   ]
  },
  {
   "cell_type": "markdown",
   "metadata": {},
   "source": [
    "Now we have created a volcabulary list of words, with each word having a word representation (ie. feature vector of dim 300).\n",
    "\n",
    "To find a numerical representation for a review, we run through each word in a review text. For words appear in the volcabulary list, we compute the average feature vectors of all those words. The average feature vector is the numerical represenation of the review. "
   ]
  },
  {
   "cell_type": "code",
   "execution_count": 32,
   "metadata": {
    "collapsed": false,
    "jupyter": {
     "outputs_hidden": false
    }
   },
   "outputs": [],
   "source": [
    "# Transfrom the training data into feature vectors\n",
    "\n",
    "def makeFeatureVec(review, model, num_features):\n",
    "    '''\n",
    "    Transform a review to a feature vector by averaging feature vectors of words \n",
    "    appeared in that review and in the volcabulary list created\n",
    "    '''\n",
    "    featureVec = np.zeros((num_features,),dtype=\"float32\")\n",
    "    nwords = 0.\n",
    "    index2word_set = set(model.wv.index_to_key) #index2word is the volcabulary list of the Word2Vec model\n",
    "    isZeroVec = True\n",
    "    for word in review:\n",
    "        if word in index2word_set: \n",
    "            nwords = nwords + 1.\n",
    "            featureVec = np.add(featureVec, model.wv.word_vec(word))\n",
    "            isZeroVec = False\n",
    "    if isZeroVec == False:\n",
    "        featureVec = np.divide(featureVec, nwords)\n",
    "    return featureVec\n",
    "\n",
    "\n",
    "def getAvgFeatureVecs(reviews, model, num_features):\n",
    "    '''\n",
    "    Transform all reviews to feature vectors using makeFeatureVec()\n",
    "    '''\n",
    "    counter = 0\n",
    "    reviewFeatureVecs = np.zeros((len(reviews),num_features),dtype=\"float32\")\n",
    "    for review in reviews:\n",
    "        reviewFeatureVecs[counter] = makeFeatureVec(review, model,num_features)\n",
    "        counter = counter + 1\n",
    "    return reviewFeatureVecs"
   ]
  },
  {
   "cell_type": "code",
   "execution_count": 33,
   "metadata": {
    "collapsed": false,
    "jupyter": {
     "outputs_hidden": false
    }
   },
   "outputs": [
    {
     "name": "stderr",
     "output_type": "stream",
     "text": [
      "C:\\Users\\garvb\\AppData\\Local\\Temp\\ipykernel_26108\\3440702079.py:15: DeprecationWarning: Call to deprecated `word_vec` (Use get_vector instead).\n",
      "  featureVec = np.add(featureVec, model.wv.word_vec(word))\n"
     ]
    },
    {
     "name": "stdout",
     "output_type": "stream",
     "text": [
      "Training set : 6060 feature vectors with 300 dimensions\n",
      "Validation set : 674 feature vectors with 300 dimensions\n"
     ]
    }
   ],
   "source": [
    "X_train_cleaned = []\n",
    "for review in X_train:\n",
    "    X_train_cleaned.append(cleanText(review, remove_stopwords=True))\n",
    "trainVector = getAvgFeatureVecs(X_train_cleaned, w2v, num_features)\n",
    "print(\"Training set : %d feature vectors with %d dimensions\" % trainVector.shape)\n",
    "\n",
    "# Get feature vectors for validation set\n",
    "X_test_cleaned = []\n",
    "for review in X_test:\n",
    "    X_test_cleaned.append(cleanText(review, remove_stopwords=True))\n",
    "testVector = getAvgFeatureVecs(X_test_cleaned, w2v, num_features)\n",
    "print(\"Validation set : %d feature vectors with %d dimensions\" % testVector.shape)"
   ]
  },
  {
   "cell_type": "markdown",
   "metadata": {},
   "source": [
    "### Random Forest Classifer"
   ]
  },
  {
   "cell_type": "markdown",
   "metadata": {},
   "source": [
    "We can now train Random Forest Classifier using feature vectors of reviews in the training set. "
   ]
  },
  {
   "cell_type": "code",
   "execution_count": 34,
   "metadata": {
    "collapsed": false,
    "jupyter": {
     "outputs_hidden": false
    }
   },
   "outputs": [
    {
     "name": "stdout",
     "output_type": "stream",
     "text": [
      "\n",
      "Accuracy on validation set: 0.9941\n",
      "\n",
      "AUC score : 0.9692\n",
      "\n",
      "Classification report : \n",
      "               precision    recall  f1-score   support\n",
      "\n",
      "           0       1.00      0.94      0.97        65\n",
      "           1       0.99      1.00      1.00       609\n",
      "\n",
      "    accuracy                           0.99       674\n",
      "   macro avg       1.00      0.97      0.98       674\n",
      "weighted avg       0.99      0.99      0.99       674\n",
      "\n",
      "\n",
      "Confusion Matrix : \n",
      " [[ 61   4]\n",
      " [  0 609]]\n"
     ]
    }
   ],
   "source": [
    "# Random Forest Classifier\n",
    "rf = RandomForestClassifier(n_estimators=100)\n",
    "rf.fit(trainVector, y_train)\n",
    "predictions = rf.predict(testVector)\n",
    "modelEvaluation(predictions)"
   ]
  },
  {
   "cell_type": "markdown",
   "metadata": {},
   "source": [
    "---\n",
    "<a id=\"part5\"></a>\n",
    "## Part 5. LSTM"
   ]
  },
  {
   "cell_type": "markdown",
   "metadata": {},
   "source": [
    "Long Short Term Memory networks (LSTM) are a special kind of Recurrent Neural Networks (RNN), capable of learning long-term dependencies. LSTM can be very usefull in text mining problems since it involves dependencies in the sentences which can be caught in the \"memory\" of the LSTM.\n",
    "\n",
    "In this part, we train a simple LSTM and a LSTM with Word2Vec embedding to classify the reviews into positive and negative  sentiment using Keras libarary."
   ]
  },
  {
   "cell_type": "markdown",
   "metadata": {},
   "source": [
    "### Simple LSTM"
   ]
  },
  {
   "cell_type": "markdown",
   "metadata": {},
   "source": [
    "We need to preprocess the text data to 2D tensor before we fit into a simple LSTM. First, we tokenize the corpus by only considering top words (top_words = 20000), and transform reviews to numerical sequences using the trained tokenizer. Next, we make sure that all numerical sequences have the same length (maxlen=100) for modeling, by truncating long reviews and pad shorter reviews with zero values.\n",
    "\n",
    "To construct a simple LSTM, we use embedding class in Keras to construct the first layer. This embedding layer converts numerical sequence of words into a word embedding. We should note that the embedding class provides a convenient way to map discrete words into a continuous vector space, but it does not take the semantic similarity of the words into account. The next layer is the LSTM layer with 128 memory units. Finally, we use a dense output layer with a single neuron and a sigmoid activation function to make 0 or 1 predictions for the two classes (positive sentiment and negative sentiment). Since it is a binary classification problem, log loss is used as the loss function (binary_crossentropy in Keras). ADAM optimization algorithm is used.\n",
    "\n",
    "Here's the workflow in this part.\n",
    "* Step 1 : Prepare X_train and X_test to 2D tensor\n",
    "* Step 2 : Train a simple LSTM (embeddign layer => LSTM layer => dense layer)\n",
    "* Step 3 : Compile and fit the model using log loss function and ADAM optimizer"
   ]
  },
  {
   "cell_type": "code",
   "execution_count": 35,
   "metadata": {
    "collapsed": false,
    "jupyter": {
     "outputs_hidden": false
    }
   },
   "outputs": [
    {
     "name": "stderr",
     "output_type": "stream",
     "text": [
      "C:\\Users\\garvb\\anaconda3\\envs\\Devshouse\\lib\\site-packages\\keras\\src\\legacy\\preprocessing\\text.py:98: UserWarning: The `nb_words` argument in `Tokenizer` has been renamed `num_words`.\n",
      "  warnings.warn(\n"
     ]
    },
    {
     "name": "stdout",
     "output_type": "stream",
     "text": [
      "X_train shape: (6060, 100)\n",
      "X_test shape: (674, 100)\n",
      "y_train shape: (6060, 2)\n",
      "y_test shape: (674, 2)\n"
     ]
    }
   ],
   "source": [
    "top_words = 20000 \n",
    "maxlen = 100 \n",
    "batch_size = 32\n",
    "nb_classes = 2\n",
    "nb_epoch = 3\n",
    "\n",
    "\n",
    "# Vectorize X_train and X_test to 2D tensor\n",
    "tokenizer = Tokenizer(nb_words=top_words) #only consider top 20000 words in the corpse\n",
    "tokenizer.fit_on_texts(X_train)\n",
    "# tokenizer.word_index #access word-to-index dictionary of trained tokenizer\n",
    "\n",
    "sequences_train = tokenizer.texts_to_sequences(X_train)\n",
    "sequences_test = tokenizer.texts_to_sequences(X_test)\n",
    "\n",
    "X_train_seq = sequence.pad_sequences(sequences_train, maxlen=maxlen)\n",
    "X_test_seq = sequence.pad_sequences(sequences_test, maxlen=maxlen)\n",
    "\n",
    "\n",
    "# one-hot encoding of y_train and y_test\n",
    "y_train_seq = to_categorical(y_train, nb_classes)\n",
    "y_test_seq = to_categorical(y_test, nb_classes)\n",
    "\n",
    "print('X_train shape:', X_train_seq.shape) #(27799, 100)\n",
    "print('X_test shape:', X_test_seq.shape) #(3089, 100)\n",
    "print('y_train shape:', y_train_seq.shape) #(27799, 2)\n",
    "print('y_test shape:', y_test_seq.shape) #(3089, 2)"
   ]
  },
  {
   "cell_type": "code",
   "execution_count": 39,
   "metadata": {
    "collapsed": false,
    "jupyter": {
     "outputs_hidden": false
    }
   },
   "outputs": [
    {
     "data": {
      "text/html": [
       "<pre style=\"white-space:pre;overflow-x:auto;line-height:normal;font-family:Menlo,'DejaVu Sans Mono',consolas,'Courier New',monospace\"><span style=\"font-weight: bold\">Model: \"sequential_3\"</span>\n",
       "</pre>\n"
      ],
      "text/plain": [
       "\u001b[1mModel: \"sequential_3\"\u001b[0m\n"
      ]
     },
     "metadata": {},
     "output_type": "display_data"
    },
    {
     "data": {
      "text/html": [
       "<pre style=\"white-space:pre;overflow-x:auto;line-height:normal;font-family:Menlo,'DejaVu Sans Mono',consolas,'Courier New',monospace\">┏━━━━━━━━━━━━━━━━━━━━━━━━━━━━━━━━━┳━━━━━━━━━━━━━━━━━━━━━━━━┳━━━━━━━━━━━━━━━┓\n",
       "┃<span style=\"font-weight: bold\"> Layer (type)                    </span>┃<span style=\"font-weight: bold\"> Output Shape           </span>┃<span style=\"font-weight: bold\">       Param # </span>┃\n",
       "┡━━━━━━━━━━━━━━━━━━━━━━━━━━━━━━━━━╇━━━━━━━━━━━━━━━━━━━━━━━━╇━━━━━━━━━━━━━━━┩\n",
       "│ embedding_3 (<span style=\"color: #0087ff; text-decoration-color: #0087ff\">Embedding</span>)         │ ?                      │   <span style=\"color: #00af00; text-decoration-color: #00af00\">0</span> (unbuilt) │\n",
       "├─────────────────────────────────┼────────────────────────┼───────────────┤\n",
       "│ lstm_2 (<span style=\"color: #0087ff; text-decoration-color: #0087ff\">LSTM</span>)                   │ ?                      │   <span style=\"color: #00af00; text-decoration-color: #00af00\">0</span> (unbuilt) │\n",
       "├─────────────────────────────────┼────────────────────────┼───────────────┤\n",
       "│ dense_1 (<span style=\"color: #0087ff; text-decoration-color: #0087ff\">Dense</span>)                 │ ?                      │   <span style=\"color: #00af00; text-decoration-color: #00af00\">0</span> (unbuilt) │\n",
       "├─────────────────────────────────┼────────────────────────┼───────────────┤\n",
       "│ activation_1 (<span style=\"color: #0087ff; text-decoration-color: #0087ff\">Activation</span>)       │ ?                      │   <span style=\"color: #00af00; text-decoration-color: #00af00\">0</span> (unbuilt) │\n",
       "└─────────────────────────────────┴────────────────────────┴───────────────┘\n",
       "</pre>\n"
      ],
      "text/plain": [
       "┏━━━━━━━━━━━━━━━━━━━━━━━━━━━━━━━━━┳━━━━━━━━━━━━━━━━━━━━━━━━┳━━━━━━━━━━━━━━━┓\n",
       "┃\u001b[1m \u001b[0m\u001b[1mLayer (type)                   \u001b[0m\u001b[1m \u001b[0m┃\u001b[1m \u001b[0m\u001b[1mOutput Shape          \u001b[0m\u001b[1m \u001b[0m┃\u001b[1m \u001b[0m\u001b[1m      Param #\u001b[0m\u001b[1m \u001b[0m┃\n",
       "┡━━━━━━━━━━━━━━━━━━━━━━━━━━━━━━━━━╇━━━━━━━━━━━━━━━━━━━━━━━━╇━━━━━━━━━━━━━━━┩\n",
       "│ embedding_3 (\u001b[38;5;33mEmbedding\u001b[0m)         │ ?                      │   \u001b[38;5;34m0\u001b[0m (unbuilt) │\n",
       "├─────────────────────────────────┼────────────────────────┼───────────────┤\n",
       "│ lstm_2 (\u001b[38;5;33mLSTM\u001b[0m)                   │ ?                      │   \u001b[38;5;34m0\u001b[0m (unbuilt) │\n",
       "├─────────────────────────────────┼────────────────────────┼───────────────┤\n",
       "│ dense_1 (\u001b[38;5;33mDense\u001b[0m)                 │ ?                      │   \u001b[38;5;34m0\u001b[0m (unbuilt) │\n",
       "├─────────────────────────────────┼────────────────────────┼───────────────┤\n",
       "│ activation_1 (\u001b[38;5;33mActivation\u001b[0m)       │ ?                      │   \u001b[38;5;34m0\u001b[0m (unbuilt) │\n",
       "└─────────────────────────────────┴────────────────────────┴───────────────┘\n"
      ]
     },
     "metadata": {},
     "output_type": "display_data"
    },
    {
     "data": {
      "text/html": [
       "<pre style=\"white-space:pre;overflow-x:auto;line-height:normal;font-family:Menlo,'DejaVu Sans Mono',consolas,'Courier New',monospace\"><span style=\"font-weight: bold\"> Total params: </span><span style=\"color: #00af00; text-decoration-color: #00af00\">0</span> (0.00 B)\n",
       "</pre>\n"
      ],
      "text/plain": [
       "\u001b[1m Total params: \u001b[0m\u001b[38;5;34m0\u001b[0m (0.00 B)\n"
      ]
     },
     "metadata": {},
     "output_type": "display_data"
    },
    {
     "data": {
      "text/html": [
       "<pre style=\"white-space:pre;overflow-x:auto;line-height:normal;font-family:Menlo,'DejaVu Sans Mono',consolas,'Courier New',monospace\"><span style=\"font-weight: bold\"> Trainable params: </span><span style=\"color: #00af00; text-decoration-color: #00af00\">0</span> (0.00 B)\n",
       "</pre>\n"
      ],
      "text/plain": [
       "\u001b[1m Trainable params: \u001b[0m\u001b[38;5;34m0\u001b[0m (0.00 B)\n"
      ]
     },
     "metadata": {},
     "output_type": "display_data"
    },
    {
     "data": {
      "text/html": [
       "<pre style=\"white-space:pre;overflow-x:auto;line-height:normal;font-family:Menlo,'DejaVu Sans Mono',consolas,'Courier New',monospace\"><span style=\"font-weight: bold\"> Non-trainable params: </span><span style=\"color: #00af00; text-decoration-color: #00af00\">0</span> (0.00 B)\n",
       "</pre>\n"
      ],
      "text/plain": [
       "\u001b[1m Non-trainable params: \u001b[0m\u001b[38;5;34m0\u001b[0m (0.00 B)\n"
      ]
     },
     "metadata": {},
     "output_type": "display_data"
    },
    {
     "name": "stdout",
     "output_type": "stream",
     "text": [
      "Epoch 1/3\n",
      "\u001b[1m190/190\u001b[0m \u001b[32m━━━━━━━━━━━━━━━━━━━━\u001b[0m\u001b[37m\u001b[0m \u001b[1m35s\u001b[0m 151ms/step - accuracy: 0.8877 - loss: 0.3490\n",
      "Epoch 2/3\n",
      "\u001b[1m190/190\u001b[0m \u001b[32m━━━━━━━━━━━━━━━━━━━━\u001b[0m\u001b[37m\u001b[0m \u001b[1m29s\u001b[0m 152ms/step - accuracy: 0.9948 - loss: 0.0159\n",
      "Epoch 3/3\n",
      "\u001b[1m190/190\u001b[0m \u001b[32m━━━━━━━━━━━━━━━━━━━━\u001b[0m\u001b[37m\u001b[0m \u001b[1m29s\u001b[0m 153ms/step - accuracy: 0.9991 - loss: 0.0036\n",
      "\u001b[1m22/22\u001b[0m \u001b[32m━━━━━━━━━━━━━━━━━━━━\u001b[0m\u001b[37m\u001b[0m \u001b[1m2s\u001b[0m 54ms/step - accuracy: 1.0000 - loss: 4.9177e-04\n",
      "Test loss : 0.0006\n",
      "Test accuracy : 1.0000\n"
     ]
    }
   ],
   "source": [
    "# Construct a simple LSTM\n",
    "model1 = Sequential()\n",
    "model1.add(Embedding(top_words, 128))\n",
    "model1.add(LSTM(128)) \n",
    "model1.add(Dense(nb_classes))\n",
    "model1.add(Activation('softmax'))\n",
    "model1.summary()\n",
    "\n",
    "# Compile LSTM\n",
    "model1.compile(loss='binary_crossentropy',\n",
    "              optimizer='adam',\n",
    "              metrics=['accuracy'])\n",
    "\n",
    "model1.fit(X_train_seq, y_train_seq, batch_size=batch_size, epochs=nb_epoch, verbose=1)\n",
    "\n",
    "# Model evaluation\n",
    "score = model1.evaluate(X_test_seq, y_test_seq, batch_size=batch_size)\n",
    "print('Test loss : {:.4f}'.format(score[0]))\n",
    "print('Test accuracy : {:.4f}'.format(score[1]))"
   ]
  },
  {
   "cell_type": "code",
   "execution_count": 40,
   "metadata": {
    "collapsed": false,
    "jupyter": {
     "outputs_hidden": false
    }
   },
   "outputs": [
    {
     "name": "stdout",
     "output_type": "stream",
     "text": [
      "Size of weight matrix in the embedding layer :  (20000, 128)\n",
      "Size of weight matrix in the hidden layer :  (128, 512)\n",
      "Size of weight matrix in the output layer :  (128, 2)\n"
     ]
    }
   ],
   "source": [
    "# get weight matrix of the embedding layer\n",
    "model1.layers[0].get_weights()[0] # weight matrix of the embedding layer, word-by-dim matrix\n",
    "print(\"Size of weight matrix in the embedding layer : \", \\\n",
    "      model1.layers[0].get_weights()[0].shape) #(20000, 128)\n",
    "\n",
    "# get weight matrix of the hidden layer\n",
    "print(\"Size of weight matrix in the hidden layer : \", \\\n",
    "      model1.layers[1].get_weights()[0].shape) #(128, 512)  weight dim of LSTM - w\n",
    "\n",
    "# get weight matrix of the output layer\n",
    "print(\"Size of weight matrix in the output layer : \", \\\n",
    "      model1.layers[2].get_weights()[0].shape) #(128, 2) weight dim of dense layer"
   ]
  },
  {
   "cell_type": "markdown",
   "metadata": {},
   "source": [
    "### LSTM with Word2Vec Embedding"
   ]
  },
  {
   "cell_type": "markdown",
   "metadata": {},
   "source": [
    "In the simple LSTM model constructed above, the embedding class in Keras comes in handy to converts numerical sequence of words into a word embedding, but it does not take the semantic similarity of the words into account.  The model assigns random weights to the embedding layer and learn the embeddings by minimizing the global error of the network.\n",
    "\n",
    "Instead of using random weights, we can use pretrained word embeddings to initialize the weight of an embedding layer. In this part, we use the Word2Vec embedding trained in Part 4 to \n",
    "intialize the weights of embedding layer in LSTM.\n",
    "\n",
    "* Step 1 : Load pretrained word embedding model\n",
    "* Step 2 : Construct embedding layer using embedding matrix as weights\n",
    "* Step 3 : Train a LSTM with Word2Vec embedding (embeddign layer => LSTM layer => dense layer)\n",
    "* Step 4 : Compile and fit the model using log loss function and ADAM optimizer"
   ]
  },
  {
   "cell_type": "code",
   "execution_count": 42,
   "metadata": {
    "collapsed": false,
    "jupyter": {
     "outputs_hidden": false
    }
   },
   "outputs": [
    {
     "name": "stderr",
     "output_type": "stream",
     "text": [
      "2024-06-03 16:37:19,021 : INFO : loading Word2Vec object from w2v_300features_10minwordcounts_10context\n",
      "2024-06-03 16:37:19,026 : INFO : loading wv recursively from w2v_300features_10minwordcounts_10context.wv.* with mmap=None\n",
      "2024-06-03 16:37:19,029 : INFO : setting ignored attribute cum_table to None\n",
      "2024-06-03 16:37:19,032 : INFO : Word2Vec lifecycle event {'fname': 'w2v_300features_10minwordcounts_10context', 'datetime': '2024-06-03T16:37:19.031275', 'gensim': '4.3.2', 'python': '3.10.13 | packaged by Anaconda, Inc. | (main, Sep 11 2023, 13:24:38) [MSC v.1916 64 bit (AMD64)]', 'platform': 'Windows-10-10.0.22621-SP0', 'event': 'loaded'}\n"
     ]
    },
    {
     "name": "stdout",
     "output_type": "stream",
     "text": [
      "Shape of embedding matrix :  (27, 300)\n"
     ]
    }
   ],
   "source": [
    "# Load trained Word2Vec model\n",
    "w2v = Word2Vec.load(\"w2v_300features_10minwordcounts_10context\")\n",
    "\n",
    "\n",
    "# Get Word2Vec embedding matrix\n",
    "embedding_matrix = w2v.wv.vectors  # embedding matrix, type = numpy.ndarray \n",
    "print(\"Shape of embedding matrix : \", embedding_matrix.shape) #(4016, 300) = (volcabulary size, embedding dimension)\n",
    "# w2v.wv.syn0[0] #feature vector of the first word in the volcabulary list"
   ]
  },
  {
   "cell_type": "code",
   "execution_count": 44,
   "metadata": {
    "collapsed": false,
    "jupyter": {
     "outputs_hidden": false
    }
   },
   "outputs": [
    {
     "name": "stdout",
     "output_type": "stream",
     "text": [
      "X_train shape: (6060, 100)\n",
      "X_test shape: (674, 100)\n",
      "y_train shape: (6060, 2)\n",
      "y_test shape: (674, 2)\n"
     ]
    }
   ],
   "source": [
    "top_words = embedding_matrix.shape[0] #4016\n",
    "maxlen = 100 \n",
    "batch_size = 32\n",
    "nb_classes = 2\n",
    "nb_epoch = 3\n",
    "\n",
    "\n",
    "# Vectorize X_train and X_test to 2D tensor\n",
    "tokenizer = Tokenizer(nb_words=top_words) #only consider top 20000 words in the corpse\n",
    "tokenizer.fit_on_texts(X_train)\n",
    "# tokenizer.word_index #access word-to-index dictionary of trained tokenizer\n",
    "\n",
    "sequences_train = tokenizer.texts_to_sequences(X_train)\n",
    "sequences_test = tokenizer.texts_to_sequences(X_test)\n",
    "\n",
    "X_train_seq = sequence.pad_sequences(sequences_train, maxlen=maxlen)\n",
    "X_test_seq = sequence.pad_sequences(sequences_test, maxlen=maxlen)\n",
    "\n",
    "\n",
    "# one-hot encoding of y_train and y_test\n",
    "y_train_seq = to_categorical(y_train, nb_classes)\n",
    "y_test_seq = to_categorical(y_test, nb_classes)\n",
    "\n",
    "print('X_train shape:', X_train_seq.shape) #(27799, 100)\n",
    "print('X_test shape:', X_test_seq.shape) #(3089, 100)\n",
    "print('y_train shape:', y_train_seq.shape) #(27799, 2)\n",
    "print('y_test shape:', y_test_seq.shape) #(3089, 2)"
   ]
  },
  {
   "cell_type": "code",
   "execution_count": 47,
   "metadata": {
    "collapsed": false,
    "jupyter": {
     "outputs_hidden": false
    }
   },
   "outputs": [
    {
     "data": {
      "text/html": [
       "<pre style=\"white-space:pre;overflow-x:auto;line-height:normal;font-family:Menlo,'DejaVu Sans Mono',consolas,'Courier New',monospace\"><span style=\"font-weight: bold\">Model: \"sequential_6\"</span>\n",
       "</pre>\n"
      ],
      "text/plain": [
       "\u001b[1mModel: \"sequential_6\"\u001b[0m\n"
      ]
     },
     "metadata": {},
     "output_type": "display_data"
    },
    {
     "data": {
      "text/html": [
       "<pre style=\"white-space:pre;overflow-x:auto;line-height:normal;font-family:Menlo,'DejaVu Sans Mono',consolas,'Courier New',monospace\">┏━━━━━━━━━━━━━━━━━━━━━━━━━━━━━━━━━┳━━━━━━━━━━━━━━━━━━━━━━━━┳━━━━━━━━━━━━━━━┓\n",
       "┃<span style=\"font-weight: bold\"> Layer (type)                    </span>┃<span style=\"font-weight: bold\"> Output Shape           </span>┃<span style=\"font-weight: bold\">       Param # </span>┃\n",
       "┡━━━━━━━━━━━━━━━━━━━━━━━━━━━━━━━━━╇━━━━━━━━━━━━━━━━━━━━━━━━╇━━━━━━━━━━━━━━━┩\n",
       "│ embedding_6 (<span style=\"color: #0087ff; text-decoration-color: #0087ff\">Embedding</span>)         │ ?                      │         <span style=\"color: #00af00; text-decoration-color: #00af00\">8,100</span> │\n",
       "├─────────────────────────────────┼────────────────────────┼───────────────┤\n",
       "│ lstm_5 (<span style=\"color: #0087ff; text-decoration-color: #0087ff\">LSTM</span>)                   │ ?                      │   <span style=\"color: #00af00; text-decoration-color: #00af00\">0</span> (unbuilt) │\n",
       "├─────────────────────────────────┼────────────────────────┼───────────────┤\n",
       "│ dense_3 (<span style=\"color: #0087ff; text-decoration-color: #0087ff\">Dense</span>)                 │ ?                      │   <span style=\"color: #00af00; text-decoration-color: #00af00\">0</span> (unbuilt) │\n",
       "├─────────────────────────────────┼────────────────────────┼───────────────┤\n",
       "│ activation_3 (<span style=\"color: #0087ff; text-decoration-color: #0087ff\">Activation</span>)       │ ?                      │   <span style=\"color: #00af00; text-decoration-color: #00af00\">0</span> (unbuilt) │\n",
       "└─────────────────────────────────┴────────────────────────┴───────────────┘\n",
       "</pre>\n"
      ],
      "text/plain": [
       "┏━━━━━━━━━━━━━━━━━━━━━━━━━━━━━━━━━┳━━━━━━━━━━━━━━━━━━━━━━━━┳━━━━━━━━━━━━━━━┓\n",
       "┃\u001b[1m \u001b[0m\u001b[1mLayer (type)                   \u001b[0m\u001b[1m \u001b[0m┃\u001b[1m \u001b[0m\u001b[1mOutput Shape          \u001b[0m\u001b[1m \u001b[0m┃\u001b[1m \u001b[0m\u001b[1m      Param #\u001b[0m\u001b[1m \u001b[0m┃\n",
       "┡━━━━━━━━━━━━━━━━━━━━━━━━━━━━━━━━━╇━━━━━━━━━━━━━━━━━━━━━━━━╇━━━━━━━━━━━━━━━┩\n",
       "│ embedding_6 (\u001b[38;5;33mEmbedding\u001b[0m)         │ ?                      │         \u001b[38;5;34m8,100\u001b[0m │\n",
       "├─────────────────────────────────┼────────────────────────┼───────────────┤\n",
       "│ lstm_5 (\u001b[38;5;33mLSTM\u001b[0m)                   │ ?                      │   \u001b[38;5;34m0\u001b[0m (unbuilt) │\n",
       "├─────────────────────────────────┼────────────────────────┼───────────────┤\n",
       "│ dense_3 (\u001b[38;5;33mDense\u001b[0m)                 │ ?                      │   \u001b[38;5;34m0\u001b[0m (unbuilt) │\n",
       "├─────────────────────────────────┼────────────────────────┼───────────────┤\n",
       "│ activation_3 (\u001b[38;5;33mActivation\u001b[0m)       │ ?                      │   \u001b[38;5;34m0\u001b[0m (unbuilt) │\n",
       "└─────────────────────────────────┴────────────────────────┴───────────────┘\n"
      ]
     },
     "metadata": {},
     "output_type": "display_data"
    },
    {
     "data": {
      "text/html": [
       "<pre style=\"white-space:pre;overflow-x:auto;line-height:normal;font-family:Menlo,'DejaVu Sans Mono',consolas,'Courier New',monospace\"><span style=\"font-weight: bold\"> Total params: </span><span style=\"color: #00af00; text-decoration-color: #00af00\">8,100</span> (31.64 KB)\n",
       "</pre>\n"
      ],
      "text/plain": [
       "\u001b[1m Total params: \u001b[0m\u001b[38;5;34m8,100\u001b[0m (31.64 KB)\n"
      ]
     },
     "metadata": {},
     "output_type": "display_data"
    },
    {
     "data": {
      "text/html": [
       "<pre style=\"white-space:pre;overflow-x:auto;line-height:normal;font-family:Menlo,'DejaVu Sans Mono',consolas,'Courier New',monospace\"><span style=\"font-weight: bold\"> Trainable params: </span><span style=\"color: #00af00; text-decoration-color: #00af00\">8,100</span> (31.64 KB)\n",
       "</pre>\n"
      ],
      "text/plain": [
       "\u001b[1m Trainable params: \u001b[0m\u001b[38;5;34m8,100\u001b[0m (31.64 KB)\n"
      ]
     },
     "metadata": {},
     "output_type": "display_data"
    },
    {
     "data": {
      "text/html": [
       "<pre style=\"white-space:pre;overflow-x:auto;line-height:normal;font-family:Menlo,'DejaVu Sans Mono',consolas,'Courier New',monospace\"><span style=\"font-weight: bold\"> Non-trainable params: </span><span style=\"color: #00af00; text-decoration-color: #00af00\">0</span> (0.00 B)\n",
       "</pre>\n"
      ],
      "text/plain": [
       "\u001b[1m Non-trainable params: \u001b[0m\u001b[38;5;34m0\u001b[0m (0.00 B)\n"
      ]
     },
     "metadata": {},
     "output_type": "display_data"
    },
    {
     "name": "stdout",
     "output_type": "stream",
     "text": [
      "Epoch 1/3\n",
      "\u001b[1m190/190\u001b[0m \u001b[32m━━━━━━━━━━━━━━━━━━━━\u001b[0m\u001b[37m\u001b[0m \u001b[1m28s\u001b[0m 117ms/step - accuracy: 0.8925 - loss: 0.3504\n",
      "Epoch 2/3\n",
      "\u001b[1m190/190\u001b[0m \u001b[32m━━━━━━━━━━━━━━━━━━━━\u001b[0m\u001b[37m\u001b[0m \u001b[1m16s\u001b[0m 83ms/step - accuracy: 0.9110 - loss: 0.2486\n",
      "Epoch 3/3\n",
      "\u001b[1m190/190\u001b[0m \u001b[32m━━━━━━━━━━━━━━━━━━━━\u001b[0m\u001b[37m\u001b[0m \u001b[1m16s\u001b[0m 82ms/step - accuracy: 0.9212 - loss: 0.2269\n",
      "\u001b[1m22/22\u001b[0m \u001b[32m━━━━━━━━━━━━━━━━━━━━\u001b[0m\u001b[37m\u001b[0m \u001b[1m1s\u001b[0m 31ms/step - accuracy: 0.9419 - loss: 0.1724\n",
      "Test loss : 0.1887\n",
      "Test accuracy : 0.9392\n"
     ]
    }
   ],
   "source": [
    "# Construct Word2Vec embedding layer\n",
    "embedding_layer = Embedding(embedding_matrix.shape[0], #4016\n",
    "                            embedding_matrix.shape[1], #300\n",
    "                            weights=[embedding_matrix])\n",
    "\n",
    "\n",
    "# Construct LSTM with Word2Vec embedding\n",
    "model2 = Sequential()\n",
    "model2.add(embedding_layer)\n",
    "model2.add(LSTM(128)) \n",
    "model2.add(Dense(nb_classes))\n",
    "model2.add(Activation('softmax'))\n",
    "model2.summary()\n",
    "\n",
    "# Compile model\n",
    "model2.compile(loss='binary_crossentropy',\n",
    "              optimizer='adam',\n",
    "              metrics=['accuracy'])\n",
    "\n",
    "model2.fit(X_train_seq, y_train_seq, batch_size=batch_size, epochs=nb_epoch, verbose=1)\n",
    "\n",
    "\n",
    "# Model evaluation\n",
    "score = model2.evaluate(X_test_seq, y_test_seq, batch_size=batch_size)\n",
    "print('Test loss : {:.4f}'.format(score[0]))\n",
    "print('Test accuracy : {:.4f}'.format(score[1]))"
   ]
  },
  {
   "cell_type": "code",
   "execution_count": 48,
   "metadata": {
    "collapsed": false,
    "jupyter": {
     "outputs_hidden": false
    }
   },
   "outputs": [
    {
     "name": "stdout",
     "output_type": "stream",
     "text": [
      "Size of weight matrix in the embedding layer :  (27, 300)\n",
      "Size of weight matrix in the hidden layer :  (300, 512)\n",
      "Size of weight matrix in the output layer :  (128, 2)\n"
     ]
    }
   ],
   "source": [
    "# get weight matrix of the embedding layer\n",
    "print(\"Size of weight matrix in the embedding layer : \", \\\n",
    "      model2.layers[0].get_weights()[0].shape) #(20000, 128)\n",
    "\n",
    "# get weight matrix of the hidden layer\n",
    "print(\"Size of weight matrix in the hidden layer : \", \\\n",
    "      model2.layers[1].get_weights()[0].shape) #(128, 512)  weight dim of LSTM - w\n",
    "\n",
    "# get weight matrix of the output layer\n",
    "print(\"Size of weight matrix in the output layer : \", \\\n",
    "      model2.layers[2].get_weights()[0].shape) #(128, 2) weight dim of dense layer"
   ]
  },
  {
   "cell_type": "markdown",
   "metadata": {},
   "source": [
    "---\n",
    "<a id=\"part6\"></a>\n",
    "## Part 6. Word Cloud"
   ]
  },
  {
   "cell_type": "markdown",
   "metadata": {},
   "source": [
    "In this part, we create word clouds for positive sentiment reviews and negative sentiment reviews of a selected brand, to get an intuition of words frequently appear in different sentiments."
   ]
  },
  {
   "cell_type": "code",
   "execution_count": 52,
   "metadata": {
    "collapsed": false,
    "jupyter": {
     "outputs_hidden": false
    }
   },
   "outputs": [],
   "source": [
    "def create_word_cloud(brand, sentiment):\n",
    "    try: \n",
    "        df_brand = df.loc[df['Brand Name'].isin([brand])]\n",
    "        df_brand_sample = df_brand.sample(frac=0.1)\n",
    "        word_cloud_collection = ''\n",
    "        \n",
    "        if sentiment == 1:\n",
    "            df_reviews = df_brand_sample[df_brand_sample[\"Sentiment\"]==1][\"Reviews\"]\n",
    "            \n",
    "        if sentiment == 0:\n",
    "            df_reviews = df_brand_sample[df_brand_sample[\"Sentiment\"]==0][\"Reviews\"]\n",
    "            \n",
    "        for val in df_reviews.str.lower():\n",
    "            tokens = nltk.word_tokenize(val)\n",
    "            tokens = [word for word in tokens if word not in stopwords.words('english')]\n",
    "            for words in tokens:\n",
    "                word_cloud_collection = word_cloud_collection + words + ' '\n",
    "\n",
    "        wordcloud = WordCloud(max_font_size=50, width=500, height=300).generate(word_cloud_collection)\n",
    "        plt.figure(figsize=(20,20))\n",
    "        plt.imshow(wordcloud)\n",
    "        plt.axis(\"off\")\n",
    "        plt.show()\n",
    "    except: \n",
    "        pass"
   ]
  },
  {
   "cell_type": "code",
   "execution_count": 53,
   "metadata": {
    "collapsed": false,
    "jupyter": {
     "outputs_hidden": false
    }
   },
   "outputs": [],
   "source": [
    "create_word_cloud(brand='Intel', sentiment=1)"
   ]
  },
  {
   "cell_type": "code",
   "execution_count": 54,
   "metadata": {
    "collapsed": false,
    "jupyter": {
     "outputs_hidden": false
    }
   },
   "outputs": [],
   "source": [
    "create_word_cloud(brand='Intel', sentiment=0)"
   ]
  },
  {
   "cell_type": "code",
   "execution_count": null,
   "metadata": {
    "collapsed": true,
    "jupyter": {
     "outputs_hidden": true
    }
   },
   "outputs": [],
   "source": []
  },
  {
   "cell_type": "code",
   "execution_count": null,
   "metadata": {
    "collapsed": true,
    "jupyter": {
     "outputs_hidden": true
    }
   },
   "outputs": [],
   "source": []
  }
 ],
 "metadata": {
  "kaggle": {
   "accelerator": "nvidiaTeslaT4",
   "dataSources": [
    {
     "datasetId": 5130434,
     "sourceId": 8578976,
     "sourceType": "datasetVersion"
    }
   ],
   "dockerImageVersionId": 30717,
   "isGpuEnabled": true,
   "isInternetEnabled": true,
   "language": "python",
   "sourceType": "notebook"
  },
  "kernelspec": {
   "display_name": "Python 3 (ipykernel)",
   "language": "python",
   "name": "python3"
  },
  "language_info": {
   "codemirror_mode": {
    "name": "ipython",
    "version": 3
   },
   "file_extension": ".py",
   "mimetype": "text/x-python",
   "name": "python",
   "nbconvert_exporter": "python",
   "pygments_lexer": "ipython3",
   "version": "3.10.13"
  }
 },
 "nbformat": 4,
 "nbformat_minor": 4
}
